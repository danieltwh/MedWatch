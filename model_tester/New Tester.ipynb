{
 "cells": [
  {
   "cell_type": "code",
   "execution_count": 1,
   "id": "88b9fb3c",
   "metadata": {
    "pycharm": {
     "name": "#%%\n"
    }
   },
   "outputs": [],
   "source": [
    "from detectionmodel2 import Processor\n",
    "import cv2\n",
    "import os\n",
    "import pandas as pd\n",
    "from pathlib import Path"
   ]
  },
  {
   "cell_type": "code",
   "execution_count": 2,
   "id": "fd41f623",
   "metadata": {
    "pycharm": {
     "name": "#%%\n"
    }
   },
   "outputs": [],
   "source": [
    "def get_subdirectories(path):\n",
    "    return [d for d in os.listdir(path) if os.path.isdir(os.path.join(path, d))]"
   ]
  },
  {
   "cell_type": "code",
   "execution_count": 3,
   "id": "021bb25b",
   "metadata": {
    "pycharm": {
     "name": "#%%\n"
    }
   },
   "outputs": [],
   "source": [
    "def get_filenames(directory):\n",
    "    dir_path = Path(directory)\n",
    "    return [f.name for f in dir_path.iterdir() if f.is_file()]"
   ]
  },
  {
   "cell_type": "code",
   "execution_count": 4,
   "id": "32c36224",
   "metadata": {
    "pycharm": {
     "name": "#%%\n"
    }
   },
   "outputs": [],
   "source": [
    "def video_fall_detection(video_path, model):\n",
    "    cap = cv2.VideoCapture(str(video_path))\n",
    "\n",
    "    if not cap.isOpened():\n",
    "        print(\"Cannot open video\")\n",
    "        exit()\n",
    "\n",
    "    # Define the codec and create VideoWriter object\n",
    "    fourcc = cv2.VideoWriter_fourcc(*'XVID')\n",
    "    out = cv2.VideoWriter('output.avi', fourcc, 20.0, (int(cap.get(3)), int(cap.get(4))))\n",
    "\n",
    "    # Create an instance of Processor\n",
    "    processor = Processor(model)\n",
    "\n",
    "    while True:\n",
    "        success, frame = cap.read()\n",
    "        \n",
    "        if not success:\n",
    "            break\n",
    "\n",
    "        # Process the frame using the Processor class\n",
    "        frame = processor.process(frame)\n",
    "\n",
    "        # Write the processed frame into the output video\n",
    "        out.write(frame)\n",
    "\n",
    "        # Display the processed frame\n",
    "        cv2.imshow(\"Fall Detection\", frame)\n",
    "        if cv2.waitKey(1) & 0xFF == ord('q'):\n",
    "            break\n",
    "\n",
    "    cap.release()\n",
    "    out.release()\n",
    "    cv2.destroyAllWindows()\n",
    "\n",
    "    # Return the statistics using the output_stats method from the Processor instance\n",
    "    return processor.output_stats()"
   ]
  },
  {
   "cell_type": "code",
   "execution_count": 5,
   "id": "90ceadaa",
   "metadata": {
    "pycharm": {
     "name": "#%%\n"
    }
   },
   "outputs": [],
   "source": [
    "def get_test_results(model,video_dir,fall_patterns_dir):\n",
    "    complete_test_results = []\n",
    "    for fall_pattern_path in fall_patterns_dir:\n",
    "        print(fall_pattern_path)\n",
    "        fall_pattern_full_path = Path(video_dir,fall_pattern_path)\n",
    "        cam_angles_paths = get_filenames(fall_pattern_full_path)\n",
    "        for cam_angles_path in cam_angles_paths:\n",
    "            print(cam_angles_path)\n",
    "            cam_angle_full_path = Path(fall_pattern_full_path,cam_angles_path)\n",
    "            test_result = video_fall_detection(cam_angle_full_path,model)\n",
    "            test_result['Angle'] = cam_angles_path[:-4]\n",
    "            test_result['Fall Type'] = fall_pattern_path\n",
    "            complete_test_results.append(test_result)\n",
    "    df_results = pd.DataFrame(complete_test_results)\n",
    "    df_results['model'] = model\n",
    "    return df_results"
   ]
  },
  {
   "cell_type": "code",
   "execution_count": 6,
   "id": "cdf5e1fd",
   "metadata": {
    "pycharm": {
     "name": "#%%\n"
    }
   },
   "outputs": [],
   "source": [
    "video_dir = Path(os.getcwd(),'./Videos')"
   ]
  },
  {
   "cell_type": "code",
   "execution_count": 7,
   "id": "32d74fb1",
   "metadata": {
    "pycharm": {
     "name": "#%%\n"
    }
   },
   "outputs": [],
   "source": [
    "fall_patterns_dir = ['chute04']"
   ]
  },
  {
   "cell_type": "code",
   "execution_count": 8,
   "id": "caaa68c2",
   "metadata": {
    "pycharm": {
     "name": "#%%\n"
    }
   },
   "outputs": [],
   "source": [
    "models = ['yolov8s-pose.pt']"
   ]
  },
  {
   "cell_type": "code",
   "execution_count": 9,
   "id": "6807778b",
   "metadata": {
    "scrolled": true,
    "pycharm": {
     "name": "#%%\n"
    }
   },
   "outputs": [
    {
     "name": "stdout",
     "output_type": "stream",
     "text": [
      "yolov8s-pose.pt\n",
      "chute04\n",
      "cam8.mp4\n"
     ]
    },
    {
     "name": "stderr",
     "output_type": "stream",
     "text": [
      "\n",
      "0: 448x640 (no detections), 310.7ms\n",
      "Speed: 6.1ms preprocess, 310.7ms inference, 1.0ms postprocess per image at shape (1, 3, 448, 640)\n",
      "\n",
      "0: 448x640 (no detections), 266.1ms\n",
      "Speed: 4.3ms preprocess, 266.1ms inference, 1.5ms postprocess per image at shape (1, 3, 448, 640)\n",
      "\n",
      "0: 448x640 (no detections), 256.4ms\n",
      "Speed: 3.1ms preprocess, 256.4ms inference, 0.0ms postprocess per image at shape (1, 3, 448, 640)\n",
      "\n",
      "0: 448x640 (no detections), 250.3ms\n",
      "Speed: 3.2ms preprocess, 250.3ms inference, 1.0ms postprocess per image at shape (1, 3, 448, 640)\n",
      "\n",
      "0: 448x640 (no detections), 246.4ms\n",
      "Speed: 2.1ms preprocess, 246.4ms inference, 0.0ms postprocess per image at shape (1, 3, 448, 640)\n",
      "\n",
      "0: 448x640 (no detections), 239.7ms\n",
      "Speed: 1.5ms preprocess, 239.7ms inference, 1.2ms postprocess per image at shape (1, 3, 448, 640)\n",
      "\n",
      "0: 448x640 (no detections), 293.3ms\n",
      "Speed: 2.1ms preprocess, 293.3ms inference, 0.0ms postprocess per image at shape (1, 3, 448, 640)\n",
      "\n",
      "0: 448x640 (no detections), 255.8ms\n",
      "Speed: 3.5ms preprocess, 255.8ms inference, 1.5ms postprocess per image at shape (1, 3, 448, 640)\n",
      "\n",
      "0: 448x640 (no detections), 237.1ms\n",
      "Speed: 2.0ms preprocess, 237.1ms inference, 1.0ms postprocess per image at shape (1, 3, 448, 640)\n",
      "\n",
      "0: 448x640 (no detections), 248.9ms\n",
      "Speed: 2.5ms preprocess, 248.9ms inference, 1.0ms postprocess per image at shape (1, 3, 448, 640)\n",
      "\n",
      "0: 448x640 1 person, 258.8ms\n",
      "Speed: 2.6ms preprocess, 258.8ms inference, 1.0ms postprocess per image at shape (1, 3, 448, 640)\n",
      "\n",
      "0: 448x640 (no detections), 245.5ms\n",
      "Speed: 3.5ms preprocess, 245.5ms inference, 0.0ms postprocess per image at shape (1, 3, 448, 640)\n",
      "\n",
      "0: 448x640 (no detections), 239.1ms\n",
      "Speed: 3.1ms preprocess, 239.1ms inference, 0.5ms postprocess per image at shape (1, 3, 448, 640)\n",
      "\n",
      "0: 448x640 (no detections), 250.5ms\n",
      "Speed: 3.6ms preprocess, 250.5ms inference, 1.5ms postprocess per image at shape (1, 3, 448, 640)\n",
      "\n",
      "0: 448x640 (no detections), 247.9ms\n",
      "Speed: 3.7ms preprocess, 247.9ms inference, 1.0ms postprocess per image at shape (1, 3, 448, 640)\n",
      "\n",
      "0: 448x640 1 person, 239.6ms\n",
      "Speed: 2.5ms preprocess, 239.6ms inference, 1.0ms postprocess per image at shape (1, 3, 448, 640)\n",
      "\n",
      "0: 448x640 (no detections), 241.8ms\n",
      "Speed: 1.8ms preprocess, 241.8ms inference, 0.5ms postprocess per image at shape (1, 3, 448, 640)\n",
      "\n",
      "0: 448x640 (no detections), 240.6ms\n",
      "Speed: 3.1ms preprocess, 240.6ms inference, 0.5ms postprocess per image at shape (1, 3, 448, 640)\n",
      "\n",
      "0: 448x640 (no detections), 237.0ms\n",
      "Speed: 2.1ms preprocess, 237.0ms inference, 1.4ms postprocess per image at shape (1, 3, 448, 640)\n",
      "\n",
      "0: 448x640 (no detections), 242.2ms\n",
      "Speed: 2.7ms preprocess, 242.2ms inference, 1.0ms postprocess per image at shape (1, 3, 448, 640)\n",
      "\n",
      "0: 448x640 (no detections), 243.1ms\n",
      "Speed: 3.0ms preprocess, 243.1ms inference, 0.3ms postprocess per image at shape (1, 3, 448, 640)\n",
      "\n",
      "0: 448x640 (no detections), 241.7ms\n",
      "Speed: 3.5ms preprocess, 241.7ms inference, 1.0ms postprocess per image at shape (1, 3, 448, 640)\n",
      "\n",
      "0: 448x640 (no detections), 235.8ms\n",
      "Speed: 3.3ms preprocess, 235.8ms inference, 1.7ms postprocess per image at shape (1, 3, 448, 640)\n",
      "\n",
      "0: 448x640 (no detections), 252.0ms\n",
      "Speed: 3.5ms preprocess, 252.0ms inference, 1.5ms postprocess per image at shape (1, 3, 448, 640)\n",
      "\n",
      "0: 448x640 (no detections), 255.0ms\n",
      "Speed: 2.4ms preprocess, 255.0ms inference, 1.0ms postprocess per image at shape (1, 3, 448, 640)\n",
      "\n",
      "0: 448x640 (no detections), 267.3ms\n",
      "Speed: 2.6ms preprocess, 267.3ms inference, 0.5ms postprocess per image at shape (1, 3, 448, 640)\n",
      "\n",
      "0: 448x640 (no detections), 255.4ms\n",
      "Speed: 2.0ms preprocess, 255.4ms inference, 1.3ms postprocess per image at shape (1, 3, 448, 640)\n",
      "\n",
      "0: 448x640 (no detections), 249.6ms\n",
      "Speed: 2.1ms preprocess, 249.6ms inference, 0.5ms postprocess per image at shape (1, 3, 448, 640)\n",
      "\n",
      "0: 448x640 (no detections), 261.0ms\n",
      "Speed: 3.0ms preprocess, 261.0ms inference, 0.5ms postprocess per image at shape (1, 3, 448, 640)\n",
      "\n",
      "0: 448x640 (no detections), 262.3ms\n",
      "Speed: 2.1ms preprocess, 262.3ms inference, 1.0ms postprocess per image at shape (1, 3, 448, 640)\n",
      "\n",
      "0: 448x640 (no detections), 248.5ms\n",
      "Speed: 1.5ms preprocess, 248.5ms inference, 1.0ms postprocess per image at shape (1, 3, 448, 640)\n",
      "\n",
      "0: 448x640 (no detections), 248.2ms\n",
      "Speed: 2.0ms preprocess, 248.2ms inference, 0.5ms postprocess per image at shape (1, 3, 448, 640)\n",
      "\n",
      "0: 448x640 (no detections), 254.5ms\n",
      "Speed: 4.0ms preprocess, 254.5ms inference, 0.0ms postprocess per image at shape (1, 3, 448, 640)\n",
      "\n",
      "0: 448x640 (no detections), 250.6ms\n",
      "Speed: 4.0ms preprocess, 250.6ms inference, 1.0ms postprocess per image at shape (1, 3, 448, 640)\n",
      "\n",
      "0: 448x640 1 person, 254.0ms\n",
      "Speed: 3.7ms preprocess, 254.0ms inference, 1.0ms postprocess per image at shape (1, 3, 448, 640)\n",
      "\n"
     ]
    },
    {
     "name": "stdout",
     "output_type": "stream",
     "text": [
      "Fall detected by Rule 2\n"
     ]
    },
    {
     "name": "stderr",
     "output_type": "stream",
     "text": [
      "0: 448x640 1 person, 267.4ms\n",
      "Speed: 4.0ms preprocess, 267.4ms inference, 1.5ms postprocess per image at shape (1, 3, 448, 640)\n",
      "\n",
      "0: 448x640 (no detections), 303.2ms\n",
      "Speed: 2.0ms preprocess, 303.2ms inference, 0.0ms postprocess per image at shape (1, 3, 448, 640)\n",
      "\n",
      "0: 448x640 (no detections), 270.3ms\n",
      "Speed: 2.7ms preprocess, 270.3ms inference, 0.0ms postprocess per image at shape (1, 3, 448, 640)\n",
      "\n",
      "0: 448x640 (no detections), 248.5ms\n",
      "Speed: 3.6ms preprocess, 248.5ms inference, 0.5ms postprocess per image at shape (1, 3, 448, 640)\n",
      "\n",
      "0: 448x640 1 person, 250.3ms\n",
      "Speed: 2.5ms preprocess, 250.3ms inference, 1.6ms postprocess per image at shape (1, 3, 448, 640)\n",
      "\n",
      "0: 448x640 (no detections), 243.2ms\n",
      "Speed: 2.8ms preprocess, 243.2ms inference, 1.0ms postprocess per image at shape (1, 3, 448, 640)\n",
      "\n",
      "0: 448x640 (no detections), 245.3ms\n",
      "Speed: 2.6ms preprocess, 245.3ms inference, 0.5ms postprocess per image at shape (1, 3, 448, 640)\n",
      "\n",
      "0: 448x640 (no detections), 242.4ms\n",
      "Speed: 3.5ms preprocess, 242.4ms inference, 1.3ms postprocess per image at shape (1, 3, 448, 640)\n",
      "\n",
      "0: 448x640 (no detections), 277.7ms\n",
      "Speed: 3.5ms preprocess, 277.7ms inference, 0.8ms postprocess per image at shape (1, 3, 448, 640)\n",
      "\n",
      "0: 448x640 (no detections), 241.0ms\n",
      "Speed: 3.0ms preprocess, 241.0ms inference, 0.0ms postprocess per image at shape (1, 3, 448, 640)\n",
      "\n",
      "0: 448x640 1 person, 234.4ms\n",
      "Speed: 1.6ms preprocess, 234.4ms inference, 1.0ms postprocess per image at shape (1, 3, 448, 640)\n",
      "\n",
      "0: 448x640 (no detections), 243.0ms\n",
      "Speed: 3.6ms preprocess, 243.0ms inference, 1.1ms postprocess per image at shape (1, 3, 448, 640)\n",
      "\n",
      "0: 448x640 (no detections), 258.1ms\n",
      "Speed: 2.0ms preprocess, 258.1ms inference, 1.0ms postprocess per image at shape (1, 3, 448, 640)\n",
      "\n",
      "0: 448x640 1 person, 250.0ms\n",
      "Speed: 2.5ms preprocess, 250.0ms inference, 0.5ms postprocess per image at shape (1, 3, 448, 640)\n",
      "\n",
      "0: 448x640 1 person, 239.4ms\n",
      "Speed: 2.5ms preprocess, 239.4ms inference, 1.0ms postprocess per image at shape (1, 3, 448, 640)\n",
      "\n",
      "0: 448x640 (no detections), 240.6ms\n",
      "Speed: 2.2ms preprocess, 240.6ms inference, 1.0ms postprocess per image at shape (1, 3, 448, 640)\n",
      "\n",
      "0: 448x640 (no detections), 254.8ms\n",
      "Speed: 2.0ms preprocess, 254.8ms inference, 0.0ms postprocess per image at shape (1, 3, 448, 640)\n",
      "\n",
      "0: 448x640 (no detections), 248.6ms\n",
      "Speed: 2.3ms preprocess, 248.6ms inference, 0.0ms postprocess per image at shape (1, 3, 448, 640)\n",
      "\n",
      "0: 448x640 (no detections), 260.2ms\n",
      "Speed: 3.5ms preprocess, 260.2ms inference, 1.4ms postprocess per image at shape (1, 3, 448, 640)\n",
      "\n",
      "0: 448x640 (no detections), 253.7ms\n",
      "Speed: 3.5ms preprocess, 253.7ms inference, 1.3ms postprocess per image at shape (1, 3, 448, 640)\n",
      "\n",
      "0: 448x640 (no detections), 247.6ms\n",
      "Speed: 3.0ms preprocess, 247.6ms inference, 1.0ms postprocess per image at shape (1, 3, 448, 640)\n",
      "\n",
      "0: 448x640 1 person, 239.7ms\n",
      "Speed: 4.0ms preprocess, 239.7ms inference, 2.0ms postprocess per image at shape (1, 3, 448, 640)\n",
      "\n"
     ]
    },
    {
     "name": "stdout",
     "output_type": "stream",
     "text": [
      "Fall detected by Rule 2\n"
     ]
    },
    {
     "name": "stderr",
     "output_type": "stream",
     "text": [
      "0: 448x640 (no detections), 251.1ms\n",
      "Speed: 3.5ms preprocess, 251.1ms inference, 1.0ms postprocess per image at shape (1, 3, 448, 640)\n",
      "\n",
      "0: 448x640 (no detections), 243.7ms\n",
      "Speed: 2.0ms preprocess, 243.7ms inference, 1.0ms postprocess per image at shape (1, 3, 448, 640)\n",
      "\n",
      "0: 448x640 (no detections), 257.9ms\n",
      "Speed: 2.0ms preprocess, 257.9ms inference, 1.5ms postprocess per image at shape (1, 3, 448, 640)\n",
      "\n",
      "0: 448x640 1 person, 258.3ms\n",
      "Speed: 2.7ms preprocess, 258.3ms inference, 1.0ms postprocess per image at shape (1, 3, 448, 640)\n",
      "\n",
      "0: 448x640 (no detections), 265.0ms\n",
      "Speed: 3.0ms preprocess, 265.0ms inference, 1.4ms postprocess per image at shape (1, 3, 448, 640)\n",
      "\n",
      "0: 448x640 (no detections), 271.4ms\n",
      "Speed: 2.0ms preprocess, 271.4ms inference, 0.5ms postprocess per image at shape (1, 3, 448, 640)\n",
      "\n",
      "0: 448x640 (no detections), 257.5ms\n",
      "Speed: 3.0ms preprocess, 257.5ms inference, 1.0ms postprocess per image at shape (1, 3, 448, 640)\n",
      "\n",
      "0: 448x640 (no detections), 267.3ms\n",
      "Speed: 4.2ms preprocess, 267.3ms inference, 0.0ms postprocess per image at shape (1, 3, 448, 640)\n",
      "\n",
      "0: 448x640 (no detections), 252.8ms\n",
      "Speed: 3.5ms preprocess, 252.8ms inference, 0.0ms postprocess per image at shape (1, 3, 448, 640)\n",
      "\n",
      "0: 448x640 (no detections), 259.4ms\n",
      "Speed: 2.0ms preprocess, 259.4ms inference, 1.0ms postprocess per image at shape (1, 3, 448, 640)\n",
      "\n",
      "0: 448x640 (no detections), 262.1ms\n",
      "Speed: 3.5ms preprocess, 262.1ms inference, 0.0ms postprocess per image at shape (1, 3, 448, 640)\n",
      "\n",
      "0: 448x640 (no detections), 270.2ms\n",
      "Speed: 3.5ms preprocess, 270.2ms inference, 0.9ms postprocess per image at shape (1, 3, 448, 640)\n",
      "\n",
      "0: 448x640 (no detections), 271.5ms\n",
      "Speed: 4.0ms preprocess, 271.5ms inference, 1.0ms postprocess per image at shape (1, 3, 448, 640)\n",
      "\n",
      "0: 448x640 (no detections), 230.7ms\n",
      "Speed: 2.1ms preprocess, 230.7ms inference, 0.5ms postprocess per image at shape (1, 3, 448, 640)\n",
      "\n",
      "0: 448x640 (no detections), 233.5ms\n",
      "Speed: 3.0ms preprocess, 233.5ms inference, 1.0ms postprocess per image at shape (1, 3, 448, 640)\n",
      "\n",
      "0: 448x640 (no detections), 240.1ms\n",
      "Speed: 2.0ms preprocess, 240.1ms inference, 1.3ms postprocess per image at shape (1, 3, 448, 640)\n",
      "\n",
      "0: 448x640 (no detections), 248.2ms\n",
      "Speed: 3.0ms preprocess, 248.2ms inference, 1.0ms postprocess per image at shape (1, 3, 448, 640)\n",
      "\n",
      "0: 448x640 1 person, 249.7ms\n",
      "Speed: 3.0ms preprocess, 249.7ms inference, 1.0ms postprocess per image at shape (1, 3, 448, 640)\n",
      "\n"
     ]
    },
    {
     "name": "stdout",
     "output_type": "stream",
     "text": [
      "Fall detected by Rule 2\n"
     ]
    },
    {
     "name": "stderr",
     "output_type": "stream",
     "text": [
      "0: 448x640 1 person, 233.0ms\n",
      "Speed: 2.7ms preprocess, 233.0ms inference, 2.0ms postprocess per image at shape (1, 3, 448, 640)\n",
      "\n",
      "0: 448x640 1 person, 234.5ms\n",
      "Speed: 3.4ms preprocess, 234.5ms inference, 1.5ms postprocess per image at shape (1, 3, 448, 640)\n",
      "\n",
      "0: 448x640 1 person, 242.7ms\n",
      "Speed: 2.0ms preprocess, 242.7ms inference, 1.5ms postprocess per image at shape (1, 3, 448, 640)\n",
      "\n",
      "0: 448x640 1 person, 260.2ms\n",
      "Speed: 2.5ms preprocess, 260.2ms inference, 0.0ms postprocess per image at shape (1, 3, 448, 640)\n",
      "\n",
      "0: 448x640 1 person, 235.5ms\n",
      "Speed: 2.0ms preprocess, 235.5ms inference, 1.0ms postprocess per image at shape (1, 3, 448, 640)\n",
      "\n",
      "0: 448x640 1 person, 235.3ms\n",
      "Speed: 2.5ms preprocess, 235.3ms inference, 1.5ms postprocess per image at shape (1, 3, 448, 640)\n",
      "\n",
      "0: 448x640 1 person, 236.0ms\n",
      "Speed: 3.1ms preprocess, 236.0ms inference, 1.0ms postprocess per image at shape (1, 3, 448, 640)\n",
      "\n",
      "0: 448x640 1 person, 267.4ms\n",
      "Speed: 5.0ms preprocess, 267.4ms inference, 1.0ms postprocess per image at shape (1, 3, 448, 640)\n",
      "\n",
      "0: 448x640 1 person, 268.0ms\n",
      "Speed: 3.0ms preprocess, 268.0ms inference, 1.0ms postprocess per image at shape (1, 3, 448, 640)\n",
      "\n",
      "0: 448x640 1 person, 260.1ms\n",
      "Speed: 4.0ms preprocess, 260.1ms inference, 1.1ms postprocess per image at shape (1, 3, 448, 640)\n",
      "\n",
      "0: 448x640 1 person, 270.8ms\n",
      "Speed: 3.0ms preprocess, 270.8ms inference, 1.1ms postprocess per image at shape (1, 3, 448, 640)\n",
      "\n",
      "0: 448x640 1 person, 262.1ms\n",
      "Speed: 2.0ms preprocess, 262.1ms inference, 0.5ms postprocess per image at shape (1, 3, 448, 640)\n",
      "\n",
      "0: 448x640 1 person, 271.1ms\n",
      "Speed: 3.5ms preprocess, 271.1ms inference, 1.0ms postprocess per image at shape (1, 3, 448, 640)\n",
      "\n",
      "0: 448x640 1 person, 264.6ms\n",
      "Speed: 3.0ms preprocess, 264.6ms inference, 2.0ms postprocess per image at shape (1, 3, 448, 640)\n",
      "\n",
      "0: 448x640 1 person, 269.4ms\n",
      "Speed: 3.3ms preprocess, 269.4ms inference, 2.0ms postprocess per image at shape (1, 3, 448, 640)\n",
      "\n",
      "0: 448x640 1 person, 272.3ms\n",
      "Speed: 3.0ms preprocess, 272.3ms inference, 1.0ms postprocess per image at shape (1, 3, 448, 640)\n",
      "\n",
      "0: 448x640 1 person, 267.3ms\n",
      "Speed: 3.0ms preprocess, 267.3ms inference, 2.0ms postprocess per image at shape (1, 3, 448, 640)\n",
      "\n",
      "0: 448x640 2 persons, 278.4ms\n",
      "Speed: 2.0ms preprocess, 278.4ms inference, 2.0ms postprocess per image at shape (1, 3, 448, 640)\n",
      "\n",
      "0: 448x640 2 persons, 275.6ms\n",
      "Speed: 3.4ms preprocess, 275.6ms inference, 1.4ms postprocess per image at shape (1, 3, 448, 640)\n",
      "\n",
      "0: 448x640 2 persons, 272.5ms\n",
      "Speed: 2.2ms preprocess, 272.5ms inference, 1.5ms postprocess per image at shape (1, 3, 448, 640)\n",
      "\n"
     ]
    },
    {
     "name": "stdout",
     "output_type": "stream",
     "text": [
      "Fall detected by Rule 2\n"
     ]
    },
    {
     "name": "stderr",
     "output_type": "stream",
     "text": [
      "0: 448x640 1 person, 296.8ms\n",
      "Speed: 3.0ms preprocess, 296.8ms inference, 1.0ms postprocess per image at shape (1, 3, 448, 640)\n",
      "\n",
      "0: 448x640 1 person, 275.5ms\n",
      "Speed: 3.3ms preprocess, 275.5ms inference, 1.0ms postprocess per image at shape (1, 3, 448, 640)\n",
      "\n",
      "0: 448x640 1 person, 270.5ms\n",
      "Speed: 4.0ms preprocess, 270.5ms inference, 2.0ms postprocess per image at shape (1, 3, 448, 640)\n",
      "\n",
      "0: 448x640 1 person, 267.6ms\n",
      "Speed: 3.0ms preprocess, 267.6ms inference, 1.0ms postprocess per image at shape (1, 3, 448, 640)\n",
      "\n",
      "0: 448x640 1 person, 276.0ms\n",
      "Speed: 2.0ms preprocess, 276.0ms inference, 2.0ms postprocess per image at shape (1, 3, 448, 640)\n",
      "\n",
      "0: 448x640 1 person, 295.6ms\n",
      "Speed: 5.0ms preprocess, 295.6ms inference, 1.0ms postprocess per image at shape (1, 3, 448, 640)\n",
      "\n"
     ]
    },
    {
     "name": "stdout",
     "output_type": "stream",
     "text": [
      "Fall detected by Rule 2\n"
     ]
    },
    {
     "name": "stderr",
     "output_type": "stream",
     "text": [
      "0: 448x640 1 person, 269.3ms\n",
      "Speed: 2.0ms preprocess, 269.3ms inference, 1.0ms postprocess per image at shape (1, 3, 448, 640)\n",
      "\n",
      "0: 448x640 1 person, 282.3ms\n",
      "Speed: 3.1ms preprocess, 282.3ms inference, 1.0ms postprocess per image at shape (1, 3, 448, 640)\n",
      "\n",
      "0: 448x640 1 person, 285.0ms\n",
      "Speed: 2.9ms preprocess, 285.0ms inference, 1.0ms postprocess per image at shape (1, 3, 448, 640)\n",
      "\n",
      "0: 448x640 1 person, 272.2ms\n",
      "Speed: 3.0ms preprocess, 272.2ms inference, 1.2ms postprocess per image at shape (1, 3, 448, 640)\n",
      "\n",
      "0: 448x640 1 person, 270.8ms\n",
      "Speed: 2.5ms preprocess, 270.8ms inference, 1.0ms postprocess per image at shape (1, 3, 448, 640)\n",
      "\n",
      "0: 448x640 1 person, 279.3ms\n",
      "Speed: 3.1ms preprocess, 279.3ms inference, 1.0ms postprocess per image at shape (1, 3, 448, 640)\n",
      "\n",
      "0: 448x640 1 person, 273.3ms\n",
      "Speed: 2.9ms preprocess, 273.3ms inference, 1.5ms postprocess per image at shape (1, 3, 448, 640)\n",
      "\n",
      "0: 448x640 2 persons, 272.7ms\n",
      "Speed: 2.0ms preprocess, 272.7ms inference, 1.0ms postprocess per image at shape (1, 3, 448, 640)\n",
      "\n",
      "0: 448x640 1 person, 266.5ms\n",
      "Speed: 6.0ms preprocess, 266.5ms inference, 2.0ms postprocess per image at shape (1, 3, 448, 640)\n",
      "\n",
      "0: 448x640 1 person, 270.9ms\n",
      "Speed: 2.4ms preprocess, 270.9ms inference, 1.0ms postprocess per image at shape (1, 3, 448, 640)\n",
      "\n",
      "0: 448x640 1 person, 272.2ms\n",
      "Speed: 4.0ms preprocess, 272.2ms inference, 1.0ms postprocess per image at shape (1, 3, 448, 640)\n",
      "\n",
      "0: 448x640 1 person, 291.0ms\n",
      "Speed: 3.0ms preprocess, 291.0ms inference, 2.0ms postprocess per image at shape (1, 3, 448, 640)\n",
      "\n",
      "0: 448x640 1 person, 277.4ms\n",
      "Speed: 4.0ms preprocess, 277.4ms inference, 1.0ms postprocess per image at shape (1, 3, 448, 640)\n",
      "\n",
      "0: 448x640 1 person, 268.3ms\n",
      "Speed: 2.0ms preprocess, 268.3ms inference, 1.0ms postprocess per image at shape (1, 3, 448, 640)\n",
      "\n",
      "0: 448x640 2 persons, 268.5ms\n",
      "Speed: 4.2ms preprocess, 268.5ms inference, 0.5ms postprocess per image at shape (1, 3, 448, 640)\n",
      "\n",
      "0: 448x640 1 person, 273.1ms\n",
      "Speed: 2.5ms preprocess, 273.1ms inference, 1.0ms postprocess per image at shape (1, 3, 448, 640)\n",
      "\n",
      "0: 448x640 1 person, 275.0ms\n",
      "Speed: 4.1ms preprocess, 275.0ms inference, 1.0ms postprocess per image at shape (1, 3, 448, 640)\n",
      "\n",
      "0: 448x640 2 persons, 328.1ms\n",
      "Speed: 3.0ms preprocess, 328.1ms inference, 1.0ms postprocess per image at shape (1, 3, 448, 640)\n",
      "\n"
     ]
    },
    {
     "name": "stdout",
     "output_type": "stream",
     "text": [
      "Fall detected by Rule 2\n"
     ]
    },
    {
     "name": "stderr",
     "output_type": "stream",
     "text": [
      "0: 448x640 1 person, 273.6ms\n",
      "Speed: 2.0ms preprocess, 273.6ms inference, 1.0ms postprocess per image at shape (1, 3, 448, 640)\n",
      "\n",
      "0: 448x640 1 person, 268.9ms\n",
      "Speed: 3.6ms preprocess, 268.9ms inference, 2.0ms postprocess per image at shape (1, 3, 448, 640)\n",
      "\n",
      "0: 448x640 1 person, 275.5ms\n",
      "Speed: 3.3ms preprocess, 275.5ms inference, 1.4ms postprocess per image at shape (1, 3, 448, 640)\n",
      "\n",
      "0: 448x640 2 persons, 259.8ms\n",
      "Speed: 4.5ms preprocess, 259.8ms inference, 1.9ms postprocess per image at shape (1, 3, 448, 640)\n",
      "\n",
      "0: 448x640 2 persons, 269.5ms\n",
      "Speed: 3.8ms preprocess, 269.5ms inference, 1.5ms postprocess per image at shape (1, 3, 448, 640)\n",
      "\n",
      "0: 448x640 2 persons, 271.1ms\n",
      "Speed: 4.5ms preprocess, 271.1ms inference, 1.4ms postprocess per image at shape (1, 3, 448, 640)\n",
      "\n",
      "0: 448x640 1 person, 262.8ms\n",
      "Speed: 3.0ms preprocess, 262.8ms inference, 2.0ms postprocess per image at shape (1, 3, 448, 640)\n",
      "\n",
      "0: 448x640 1 person, 277.1ms\n",
      "Speed: 2.0ms preprocess, 277.1ms inference, 1.0ms postprocess per image at shape (1, 3, 448, 640)\n",
      "\n",
      "0: 448x640 1 person, 265.7ms\n",
      "Speed: 2.3ms preprocess, 265.7ms inference, 1.0ms postprocess per image at shape (1, 3, 448, 640)\n",
      "\n",
      "0: 448x640 1 person, 276.3ms\n",
      "Speed: 3.0ms preprocess, 276.3ms inference, 2.1ms postprocess per image at shape (1, 3, 448, 640)\n",
      "\n",
      "0: 448x640 1 person, 303.9ms\n",
      "Speed: 5.1ms preprocess, 303.9ms inference, 1.0ms postprocess per image at shape (1, 3, 448, 640)\n",
      "\n",
      "0: 448x640 2 persons, 266.6ms\n",
      "Speed: 3.0ms preprocess, 266.6ms inference, 2.5ms postprocess per image at shape (1, 3, 448, 640)\n",
      "\n",
      "0: 448x640 1 person, 261.5ms\n",
      "Speed: 4.0ms preprocess, 261.5ms inference, 1.0ms postprocess per image at shape (1, 3, 448, 640)\n",
      "\n",
      "0: 448x640 1 person, 254.5ms\n",
      "Speed: 4.1ms preprocess, 254.5ms inference, 1.0ms postprocess per image at shape (1, 3, 448, 640)\n",
      "\n",
      "0: 448x640 2 persons, 264.2ms\n",
      "Speed: 2.5ms preprocess, 264.2ms inference, 1.7ms postprocess per image at shape (1, 3, 448, 640)\n",
      "\n",
      "0: 448x640 1 person, 255.0ms\n",
      "Speed: 2.0ms preprocess, 255.0ms inference, 1.0ms postprocess per image at shape (1, 3, 448, 640)\n",
      "\n",
      "0: 448x640 2 persons, 253.3ms\n",
      "Speed: 2.1ms preprocess, 253.3ms inference, 1.5ms postprocess per image at shape (1, 3, 448, 640)\n",
      "\n",
      "0: 448x640 1 person, 265.6ms\n",
      "Speed: 2.5ms preprocess, 265.6ms inference, 1.5ms postprocess per image at shape (1, 3, 448, 640)\n",
      "\n",
      "0: 448x640 1 person, 263.2ms\n",
      "Speed: 4.1ms preprocess, 263.2ms inference, 1.5ms postprocess per image at shape (1, 3, 448, 640)\n",
      "\n",
      "0: 448x640 2 persons, 260.8ms\n",
      "Speed: 3.5ms preprocess, 260.8ms inference, 1.0ms postprocess per image at shape (1, 3, 448, 640)\n",
      "\n",
      "0: 448x640 1 person, 263.6ms\n",
      "Speed: 2.1ms preprocess, 263.6ms inference, 1.1ms postprocess per image at shape (1, 3, 448, 640)\n",
      "\n",
      "0: 448x640 1 person, 268.0ms\n",
      "Speed: 2.0ms preprocess, 268.0ms inference, 1.0ms postprocess per image at shape (1, 3, 448, 640)\n",
      "\n",
      "0: 448x640 1 person, 262.6ms\n",
      "Speed: 3.6ms preprocess, 262.6ms inference, 2.0ms postprocess per image at shape (1, 3, 448, 640)\n",
      "\n",
      "0: 448x640 1 person, 256.5ms\n",
      "Speed: 3.5ms preprocess, 256.5ms inference, 1.0ms postprocess per image at shape (1, 3, 448, 640)\n",
      "\n",
      "0: 448x640 1 person, 279.2ms\n",
      "Speed: 2.5ms preprocess, 279.2ms inference, 2.5ms postprocess per image at shape (1, 3, 448, 640)\n",
      "\n",
      "0: 448x640 2 persons, 256.5ms\n",
      "Speed: 3.2ms preprocess, 256.5ms inference, 1.1ms postprocess per image at shape (1, 3, 448, 640)\n",
      "\n",
      "0: 448x640 1 person, 266.6ms\n",
      "Speed: 3.5ms preprocess, 266.6ms inference, 2.0ms postprocess per image at shape (1, 3, 448, 640)\n",
      "\n",
      "0: 448x640 2 persons, 274.9ms\n",
      "Speed: 5.0ms preprocess, 274.9ms inference, 1.9ms postprocess per image at shape (1, 3, 448, 640)\n",
      "\n",
      "0: 448x640 2 persons, 275.3ms\n",
      "Speed: 2.4ms preprocess, 275.3ms inference, 1.0ms postprocess per image at shape (1, 3, 448, 640)\n",
      "\n",
      "0: 448x640 1 person, 248.4ms\n",
      "Speed: 1.5ms preprocess, 248.4ms inference, 2.0ms postprocess per image at shape (1, 3, 448, 640)\n",
      "\n",
      "0: 448x640 2 persons, 261.7ms\n",
      "Speed: 2.7ms preprocess, 261.7ms inference, 2.0ms postprocess per image at shape (1, 3, 448, 640)\n",
      "\n"
     ]
    },
    {
     "name": "stdout",
     "output_type": "stream",
     "text": [
      "Fall detected by Rule 2\n"
     ]
    },
    {
     "name": "stderr",
     "output_type": "stream",
     "text": [
      "0: 448x640 2 persons, 260.5ms\n",
      "Speed: 2.7ms preprocess, 260.5ms inference, 2.0ms postprocess per image at shape (1, 3, 448, 640)\n",
      "\n",
      "0: 448x640 1 person, 285.7ms\n",
      "Speed: 2.5ms preprocess, 285.7ms inference, 1.0ms postprocess per image at shape (1, 3, 448, 640)\n",
      "\n",
      "0: 448x640 1 person, 280.8ms\n",
      "Speed: 2.0ms preprocess, 280.8ms inference, 1.5ms postprocess per image at shape (1, 3, 448, 640)\n",
      "\n",
      "0: 448x640 1 person, 269.3ms\n",
      "Speed: 2.5ms preprocess, 269.3ms inference, 1.0ms postprocess per image at shape (1, 3, 448, 640)\n",
      "\n",
      "0: 448x640 2 persons, 265.8ms\n",
      "Speed: 2.0ms preprocess, 265.8ms inference, 1.0ms postprocess per image at shape (1, 3, 448, 640)\n",
      "\n",
      "0: 448x640 1 person, 269.3ms\n",
      "Speed: 2.0ms preprocess, 269.3ms inference, 2.0ms postprocess per image at shape (1, 3, 448, 640)\n",
      "\n",
      "0: 448x640 1 person, 273.5ms\n",
      "Speed: 3.2ms preprocess, 273.5ms inference, 2.5ms postprocess per image at shape (1, 3, 448, 640)\n",
      "\n",
      "0: 448x640 2 persons, 268.6ms\n",
      "Speed: 3.2ms preprocess, 268.6ms inference, 2.0ms postprocess per image at shape (1, 3, 448, 640)\n",
      "\n",
      "0: 448x640 1 person, 274.8ms\n",
      "Speed: 3.0ms preprocess, 274.8ms inference, 2.0ms postprocess per image at shape (1, 3, 448, 640)\n",
      "\n",
      "0: 448x640 1 person, 280.9ms\n",
      "Speed: 2.4ms preprocess, 280.9ms inference, 2.4ms postprocess per image at shape (1, 3, 448, 640)\n",
      "\n",
      "0: 448x640 1 person, 269.6ms\n",
      "Speed: 2.3ms preprocess, 269.6ms inference, 1.0ms postprocess per image at shape (1, 3, 448, 640)\n",
      "\n",
      "0: 448x640 1 person, 261.4ms\n",
      "Speed: 2.0ms preprocess, 261.4ms inference, 2.1ms postprocess per image at shape (1, 3, 448, 640)\n",
      "\n",
      "0: 448x640 1 person, 259.8ms\n",
      "Speed: 2.0ms preprocess, 259.8ms inference, 1.6ms postprocess per image at shape (1, 3, 448, 640)\n",
      "\n",
      "0: 448x640 2 persons, 269.1ms\n",
      "Speed: 3.0ms preprocess, 269.1ms inference, 1.2ms postprocess per image at shape (1, 3, 448, 640)\n",
      "\n",
      "0: 448x640 2 persons, 291.9ms\n",
      "Speed: 2.5ms preprocess, 291.9ms inference, 1.0ms postprocess per image at shape (1, 3, 448, 640)\n",
      "\n",
      "0: 448x640 2 persons, 268.9ms\n",
      "Speed: 2.3ms preprocess, 268.9ms inference, 1.0ms postprocess per image at shape (1, 3, 448, 640)\n",
      "\n",
      "0: 448x640 1 person, 273.3ms\n",
      "Speed: 3.4ms preprocess, 273.3ms inference, 1.0ms postprocess per image at shape (1, 3, 448, 640)\n",
      "\n",
      "0: 448x640 1 person, 268.6ms\n",
      "Speed: 3.5ms preprocess, 268.6ms inference, 1.5ms postprocess per image at shape (1, 3, 448, 640)\n",
      "\n",
      "0: 448x640 1 person, 294.7ms\n",
      "Speed: 3.4ms preprocess, 294.7ms inference, 1.3ms postprocess per image at shape (1, 3, 448, 640)\n",
      "\n",
      "0: 448x640 1 person, 271.5ms\n",
      "Speed: 3.0ms preprocess, 271.5ms inference, 1.0ms postprocess per image at shape (1, 3, 448, 640)\n",
      "\n",
      "0: 448x640 1 person, 273.6ms\n",
      "Speed: 3.5ms preprocess, 273.6ms inference, 1.5ms postprocess per image at shape (1, 3, 448, 640)\n",
      "\n",
      "0: 448x640 2 persons, 281.3ms\n",
      "Speed: 4.1ms preprocess, 281.3ms inference, 1.0ms postprocess per image at shape (1, 3, 448, 640)\n",
      "\n",
      "0: 448x640 1 person, 274.9ms\n",
      "Speed: 3.7ms preprocess, 274.9ms inference, 1.6ms postprocess per image at shape (1, 3, 448, 640)\n",
      "\n",
      "0: 448x640 1 person, 276.4ms\n",
      "Speed: 2.0ms preprocess, 276.4ms inference, 1.0ms postprocess per image at shape (1, 3, 448, 640)\n",
      "\n",
      "0: 448x640 1 person, 256.4ms\n",
      "Speed: 2.0ms preprocess, 256.4ms inference, 1.0ms postprocess per image at shape (1, 3, 448, 640)\n",
      "\n",
      "0: 448x640 1 person, 276.2ms\n",
      "Speed: 2.4ms preprocess, 276.2ms inference, 1.0ms postprocess per image at shape (1, 3, 448, 640)\n",
      "\n",
      "0: 448x640 2 persons, 268.4ms\n",
      "Speed: 4.6ms preprocess, 268.4ms inference, 2.0ms postprocess per image at shape (1, 3, 448, 640)\n",
      "\n",
      "0: 448x640 3 persons, 259.7ms\n",
      "Speed: 2.5ms preprocess, 259.7ms inference, 1.3ms postprocess per image at shape (1, 3, 448, 640)\n",
      "\n"
     ]
    },
    {
     "name": "stdout",
     "output_type": "stream",
     "text": [
      "Fall detected by Rule 2\n"
     ]
    },
    {
     "name": "stderr",
     "output_type": "stream",
     "text": [
      "0: 448x640 2 persons, 272.0ms\n",
      "Speed: 2.5ms preprocess, 272.0ms inference, 1.5ms postprocess per image at shape (1, 3, 448, 640)\n",
      "\n",
      "0: 448x640 3 persons, 259.8ms\n",
      "Speed: 2.5ms preprocess, 259.8ms inference, 1.5ms postprocess per image at shape (1, 3, 448, 640)\n",
      "\n",
      "0: 448x640 1 person, 267.9ms\n",
      "Speed: 2.0ms preprocess, 267.9ms inference, 1.6ms postprocess per image at shape (1, 3, 448, 640)\n",
      "\n",
      "0: 448x640 2 persons, 287.0ms\n",
      "Speed: 2.0ms preprocess, 287.0ms inference, 1.5ms postprocess per image at shape (1, 3, 448, 640)\n",
      "\n",
      "0: 448x640 2 persons, 258.6ms\n",
      "Speed: 2.5ms preprocess, 258.6ms inference, 1.0ms postprocess per image at shape (1, 3, 448, 640)\n",
      "\n",
      "0: 448x640 2 persons, 263.8ms\n",
      "Speed: 3.0ms preprocess, 263.8ms inference, 1.0ms postprocess per image at shape (1, 3, 448, 640)\n",
      "\n"
     ]
    },
    {
     "name": "stdout",
     "output_type": "stream",
     "text": [
      "Fall detected by Rule 2\n"
     ]
    },
    {
     "name": "stderr",
     "output_type": "stream",
     "text": [
      "0: 448x640 2 persons, 268.7ms\n",
      "Speed: 2.0ms preprocess, 268.7ms inference, 1.0ms postprocess per image at shape (1, 3, 448, 640)\n",
      "\n",
      "0: 448x640 1 person, 281.5ms\n",
      "Speed: 2.5ms preprocess, 281.5ms inference, 1.0ms postprocess per image at shape (1, 3, 448, 640)\n",
      "\n",
      "0: 448x640 1 person, 262.4ms\n",
      "Speed: 3.1ms preprocess, 262.4ms inference, 1.1ms postprocess per image at shape (1, 3, 448, 640)\n",
      "\n",
      "0: 448x640 2 persons, 259.0ms\n",
      "Speed: 3.0ms preprocess, 259.0ms inference, 1.0ms postprocess per image at shape (1, 3, 448, 640)\n",
      "\n",
      "0: 448x640 2 persons, 295.9ms\n",
      "Speed: 3.5ms preprocess, 295.9ms inference, 2.5ms postprocess per image at shape (1, 3, 448, 640)\n",
      "\n",
      "0: 448x640 1 person, 273.0ms\n",
      "Speed: 2.5ms preprocess, 273.0ms inference, 2.1ms postprocess per image at shape (1, 3, 448, 640)\n",
      "\n",
      "0: 448x640 2 persons, 275.9ms\n",
      "Speed: 3.5ms preprocess, 275.9ms inference, 1.0ms postprocess per image at shape (1, 3, 448, 640)\n",
      "\n",
      "0: 448x640 1 person, 267.8ms\n",
      "Speed: 3.0ms preprocess, 267.8ms inference, 2.0ms postprocess per image at shape (1, 3, 448, 640)\n",
      "\n",
      "0: 448x640 2 persons, 267.5ms\n",
      "Speed: 3.0ms preprocess, 267.5ms inference, 1.5ms postprocess per image at shape (1, 3, 448, 640)\n",
      "\n",
      "0: 448x640 1 person, 270.4ms\n",
      "Speed: 3.1ms preprocess, 270.4ms inference, 2.0ms postprocess per image at shape (1, 3, 448, 640)\n",
      "\n",
      "0: 448x640 1 person, 274.5ms\n",
      "Speed: 3.5ms preprocess, 274.5ms inference, 1.0ms postprocess per image at shape (1, 3, 448, 640)\n",
      "\n",
      "0: 448x640 1 person, 253.5ms\n",
      "Speed: 3.5ms preprocess, 253.5ms inference, 1.5ms postprocess per image at shape (1, 3, 448, 640)\n",
      "\n",
      "0: 448x640 1 person, 257.5ms\n",
      "Speed: 2.5ms preprocess, 257.5ms inference, 1.0ms postprocess per image at shape (1, 3, 448, 640)\n",
      "\n",
      "0: 448x640 1 person, 265.5ms\n",
      "Speed: 3.2ms preprocess, 265.5ms inference, 1.5ms postprocess per image at shape (1, 3, 448, 640)\n",
      "\n",
      "0: 448x640 1 person, 278.7ms\n",
      "Speed: 3.0ms preprocess, 278.7ms inference, 1.7ms postprocess per image at shape (1, 3, 448, 640)\n",
      "\n",
      "0: 448x640 1 person, 283.7ms\n",
      "Speed: 3.8ms preprocess, 283.7ms inference, 1.0ms postprocess per image at shape (1, 3, 448, 640)\n",
      "\n",
      "0: 448x640 1 person, 261.2ms\n",
      "Speed: 4.0ms preprocess, 261.2ms inference, 2.5ms postprocess per image at shape (1, 3, 448, 640)\n",
      "\n",
      "0: 448x640 1 person, 262.3ms\n",
      "Speed: 2.1ms preprocess, 262.3ms inference, 1.0ms postprocess per image at shape (1, 3, 448, 640)\n",
      "\n",
      "0: 448x640 1 person, 273.3ms\n",
      "Speed: 3.0ms preprocess, 273.3ms inference, 1.5ms postprocess per image at shape (1, 3, 448, 640)\n",
      "\n",
      "0: 448x640 1 person, 267.6ms\n",
      "Speed: 3.1ms preprocess, 267.6ms inference, 2.0ms postprocess per image at shape (1, 3, 448, 640)\n",
      "\n",
      "0: 448x640 1 person, 275.5ms\n",
      "Speed: 2.5ms preprocess, 275.5ms inference, 0.5ms postprocess per image at shape (1, 3, 448, 640)\n",
      "\n",
      "0: 448x640 1 person, 260.8ms\n",
      "Speed: 3.5ms preprocess, 260.8ms inference, 1.0ms postprocess per image at shape (1, 3, 448, 640)\n",
      "\n",
      "0: 448x640 1 person, 257.9ms\n",
      "Speed: 3.0ms preprocess, 257.9ms inference, 0.5ms postprocess per image at shape (1, 3, 448, 640)\n",
      "\n",
      "0: 448x640 1 person, 254.5ms\n",
      "Speed: 2.0ms preprocess, 254.5ms inference, 0.5ms postprocess per image at shape (1, 3, 448, 640)\n",
      "\n",
      "0: 448x640 1 person, 263.9ms\n",
      "Speed: 3.5ms preprocess, 263.9ms inference, 1.5ms postprocess per image at shape (1, 3, 448, 640)\n",
      "\n",
      "0: 448x640 1 person, 251.0ms\n",
      "Speed: 3.1ms preprocess, 251.0ms inference, 1.5ms postprocess per image at shape (1, 3, 448, 640)\n",
      "\n",
      "0: 448x640 1 person, 266.9ms\n",
      "Speed: 4.2ms preprocess, 266.9ms inference, 1.5ms postprocess per image at shape (1, 3, 448, 640)\n",
      "\n",
      "0: 448x640 1 person, 259.4ms\n",
      "Speed: 5.0ms preprocess, 259.4ms inference, 1.0ms postprocess per image at shape (1, 3, 448, 640)\n",
      "\n",
      "0: 448x640 1 person, 270.9ms\n",
      "Speed: 3.5ms preprocess, 270.9ms inference, 0.8ms postprocess per image at shape (1, 3, 448, 640)\n",
      "\n",
      "0: 448x640 1 person, 262.6ms\n",
      "Speed: 3.2ms preprocess, 262.6ms inference, 2.1ms postprocess per image at shape (1, 3, 448, 640)\n",
      "\n",
      "0: 448x640 1 person, 255.4ms\n",
      "Speed: 3.0ms preprocess, 255.4ms inference, 1.0ms postprocess per image at shape (1, 3, 448, 640)\n",
      "\n",
      "0: 448x640 1 person, 264.3ms\n",
      "Speed: 3.0ms preprocess, 264.3ms inference, 0.5ms postprocess per image at shape (1, 3, 448, 640)\n",
      "\n",
      "0: 448x640 1 person, 274.5ms\n",
      "Speed: 3.1ms preprocess, 274.5ms inference, 1.5ms postprocess per image at shape (1, 3, 448, 640)\n",
      "\n",
      "0: 448x640 1 person, 268.9ms\n",
      "Speed: 5.0ms preprocess, 268.9ms inference, 1.5ms postprocess per image at shape (1, 3, 448, 640)\n",
      "\n",
      "0: 448x640 1 person, 254.5ms\n",
      "Speed: 3.5ms preprocess, 254.5ms inference, 0.5ms postprocess per image at shape (1, 3, 448, 640)\n",
      "\n",
      "0: 448x640 2 persons, 264.1ms\n",
      "Speed: 2.5ms preprocess, 264.1ms inference, 1.5ms postprocess per image at shape (1, 3, 448, 640)\n",
      "\n",
      "0: 448x640 2 persons, 257.3ms\n",
      "Speed: 2.0ms preprocess, 257.3ms inference, 2.4ms postprocess per image at shape (1, 3, 448, 640)\n",
      "\n",
      "0: 448x640 1 person, 269.4ms\n",
      "Speed: 3.1ms preprocess, 269.4ms inference, 1.5ms postprocess per image at shape (1, 3, 448, 640)\n",
      "\n",
      "0: 448x640 1 person, 259.4ms\n",
      "Speed: 3.1ms preprocess, 259.4ms inference, 1.0ms postprocess per image at shape (1, 3, 448, 640)\n",
      "\n",
      "0: 448x640 2 persons, 263.2ms\n",
      "Speed: 3.0ms preprocess, 263.2ms inference, 1.0ms postprocess per image at shape (1, 3, 448, 640)\n",
      "\n",
      "0: 448x640 2 persons, 274.9ms\n",
      "Speed: 3.1ms preprocess, 274.9ms inference, 1.5ms postprocess per image at shape (1, 3, 448, 640)\n",
      "\n",
      "0: 448x640 2 persons, 263.8ms\n",
      "Speed: 3.5ms preprocess, 263.8ms inference, 1.5ms postprocess per image at shape (1, 3, 448, 640)\n",
      "\n"
     ]
    },
    {
     "name": "stdout",
     "output_type": "stream",
     "text": [
      "Fall detected by Rule 2\n"
     ]
    },
    {
     "name": "stderr",
     "output_type": "stream",
     "text": [
      "0: 448x640 1 person, 269.4ms\n",
      "Speed: 4.1ms preprocess, 269.4ms inference, 1.0ms postprocess per image at shape (1, 3, 448, 640)\n",
      "\n"
     ]
    },
    {
     "name": "stdout",
     "output_type": "stream",
     "text": [
      "Fall detected by Rule 1\n"
     ]
    },
    {
     "name": "stderr",
     "output_type": "stream",
     "text": [
      "0: 448x640 1 person, 253.1ms\n",
      "Speed: 2.5ms preprocess, 253.1ms inference, 1.0ms postprocess per image at shape (1, 3, 448, 640)\n",
      "\n"
     ]
    },
    {
     "name": "stdout",
     "output_type": "stream",
     "text": [
      "Fall detected by Rule 1\n"
     ]
    },
    {
     "name": "stderr",
     "output_type": "stream",
     "text": [
      "0: 448x640 1 person, 259.0ms\n",
      "Speed: 5.0ms preprocess, 259.0ms inference, 1.3ms postprocess per image at shape (1, 3, 448, 640)\n",
      "\n"
     ]
    },
    {
     "name": "stdout",
     "output_type": "stream",
     "text": [
      "Fall detected by Rule 1\n"
     ]
    },
    {
     "name": "stderr",
     "output_type": "stream",
     "text": [
      "0: 448x640 1 person, 260.4ms\n",
      "Speed: 3.1ms preprocess, 260.4ms inference, 1.0ms postprocess per image at shape (1, 3, 448, 640)\n",
      "\n",
      "0: 448x640 1 person, 265.6ms\n",
      "Speed: 3.0ms preprocess, 265.6ms inference, 1.0ms postprocess per image at shape (1, 3, 448, 640)\n",
      "\n",
      "0: 448x640 (no detections), 262.0ms\n",
      "Speed: 3.0ms preprocess, 262.0ms inference, 1.6ms postprocess per image at shape (1, 3, 448, 640)\n",
      "\n",
      "0: 448x640 (no detections), 270.4ms\n",
      "Speed: 2.1ms preprocess, 270.4ms inference, 1.0ms postprocess per image at shape (1, 3, 448, 640)\n",
      "\n",
      "0: 448x640 (no detections), 266.3ms\n",
      "Speed: 2.7ms preprocess, 266.3ms inference, 1.0ms postprocess per image at shape (1, 3, 448, 640)\n",
      "\n",
      "0: 448x640 1 person, 306.1ms\n",
      "Speed: 4.0ms preprocess, 306.1ms inference, 2.0ms postprocess per image at shape (1, 3, 448, 640)\n",
      "\n"
     ]
    },
    {
     "name": "stdout",
     "output_type": "stream",
     "text": [
      "Fall detected by Rule 1\n"
     ]
    },
    {
     "name": "stderr",
     "output_type": "stream",
     "text": [
      "0: 448x640 (no detections), 274.2ms\n",
      "Speed: 2.1ms preprocess, 274.2ms inference, 0.5ms postprocess per image at shape (1, 3, 448, 640)\n",
      "\n",
      "0: 448x640 2 persons, 280.8ms\n",
      "Speed: 2.0ms preprocess, 280.8ms inference, 1.5ms postprocess per image at shape (1, 3, 448, 640)\n",
      "\n"
     ]
    },
    {
     "name": "stdout",
     "output_type": "stream",
     "text": [
      "Fall detected by Rule 1\n"
     ]
    },
    {
     "name": "stderr",
     "output_type": "stream",
     "text": [
      "0: 448x640 1 person, 263.8ms\n",
      "Speed: 4.0ms preprocess, 263.8ms inference, 2.0ms postprocess per image at shape (1, 3, 448, 640)\n",
      "\n"
     ]
    },
    {
     "name": "stdout",
     "output_type": "stream",
     "text": [
      "Fall detected by Rule 1\n"
     ]
    },
    {
     "name": "stderr",
     "output_type": "stream",
     "text": [
      "0: 448x640 1 person, 273.2ms\n",
      "Speed: 2.5ms preprocess, 273.2ms inference, 2.0ms postprocess per image at shape (1, 3, 448, 640)\n",
      "\n"
     ]
    },
    {
     "name": "stdout",
     "output_type": "stream",
     "text": [
      "Fall detected by Rule 1\n"
     ]
    },
    {
     "name": "stderr",
     "output_type": "stream",
     "text": [
      "0: 448x640 1 person, 264.7ms\n",
      "Speed: 2.0ms preprocess, 264.7ms inference, 1.3ms postprocess per image at shape (1, 3, 448, 640)\n",
      "\n"
     ]
    },
    {
     "name": "stdout",
     "output_type": "stream",
     "text": [
      "Fall detected by Rule 1\n"
     ]
    },
    {
     "name": "stderr",
     "output_type": "stream",
     "text": [
      "0: 448x640 1 person, 259.4ms\n",
      "Speed: 2.0ms preprocess, 259.4ms inference, 2.4ms postprocess per image at shape (1, 3, 448, 640)\n",
      "\n"
     ]
    },
    {
     "name": "stdout",
     "output_type": "stream",
     "text": [
      "Fall detected by Rule 1\n"
     ]
    },
    {
     "name": "stderr",
     "output_type": "stream",
     "text": [
      "0: 448x640 2 persons, 263.7ms\n",
      "Speed: 3.0ms preprocess, 263.7ms inference, 3.1ms postprocess per image at shape (1, 3, 448, 640)\n",
      "\n"
     ]
    },
    {
     "name": "stdout",
     "output_type": "stream",
     "text": [
      "Fall detected by Rule 1\n"
     ]
    },
    {
     "name": "stderr",
     "output_type": "stream",
     "text": [
      "0: 448x640 (no detections), 280.2ms\n",
      "Speed: 3.7ms preprocess, 280.2ms inference, 1.0ms postprocess per image at shape (1, 3, 448, 640)\n",
      "\n",
      "0: 448x640 1 person, 272.6ms\n",
      "Speed: 3.7ms preprocess, 272.6ms inference, 1.5ms postprocess per image at shape (1, 3, 448, 640)\n",
      "\n"
     ]
    },
    {
     "name": "stdout",
     "output_type": "stream",
     "text": [
      "Fall detected by Rule 1\n"
     ]
    },
    {
     "name": "stderr",
     "output_type": "stream",
     "text": [
      "0: 448x640 1 person, 268.0ms\n",
      "Speed: 2.0ms preprocess, 268.0ms inference, 1.0ms postprocess per image at shape (1, 3, 448, 640)\n",
      "\n"
     ]
    },
    {
     "name": "stdout",
     "output_type": "stream",
     "text": [
      "Fall detected by Rule 1\n"
     ]
    },
    {
     "name": "stderr",
     "output_type": "stream",
     "text": [
      "0: 448x640 1 person, 253.6ms\n",
      "Speed: 3.0ms preprocess, 253.6ms inference, 0.0ms postprocess per image at shape (1, 3, 448, 640)\n",
      "\n"
     ]
    },
    {
     "name": "stdout",
     "output_type": "stream",
     "text": [
      "Fall detected by Rule 1\n"
     ]
    },
    {
     "name": "stderr",
     "output_type": "stream",
     "text": [
      "0: 448x640 (no detections), 258.1ms\n",
      "Speed: 3.0ms preprocess, 258.1ms inference, 1.3ms postprocess per image at shape (1, 3, 448, 640)\n",
      "\n",
      "0: 448x640 1 person, 264.2ms\n",
      "Speed: 3.0ms preprocess, 264.2ms inference, 2.3ms postprocess per image at shape (1, 3, 448, 640)\n",
      "\n",
      "0: 448x640 2 persons, 266.6ms\n",
      "Speed: 5.6ms preprocess, 266.6ms inference, 1.4ms postprocess per image at shape (1, 3, 448, 640)\n",
      "\n"
     ]
    },
    {
     "name": "stdout",
     "output_type": "stream",
     "text": [
      "Fall detected by Rule 1\n"
     ]
    },
    {
     "name": "stderr",
     "output_type": "stream",
     "text": [
      "0: 448x640 1 person, 266.9ms\n",
      "Speed: 3.2ms preprocess, 266.9ms inference, 1.0ms postprocess per image at shape (1, 3, 448, 640)\n",
      "\n"
     ]
    },
    {
     "name": "stdout",
     "output_type": "stream",
     "text": [
      "Fall detected by Rule 1\n"
     ]
    },
    {
     "name": "stderr",
     "output_type": "stream",
     "text": [
      "0: 448x640 (no detections), 259.0ms\n",
      "Speed: 4.6ms preprocess, 259.0ms inference, 0.0ms postprocess per image at shape (1, 3, 448, 640)\n",
      "\n",
      "0: 448x640 1 person, 273.2ms\n",
      "Speed: 3.0ms preprocess, 273.2ms inference, 2.0ms postprocess per image at shape (1, 3, 448, 640)\n",
      "\n"
     ]
    },
    {
     "name": "stdout",
     "output_type": "stream",
     "text": [
      "Fall detected by Rule 1\n"
     ]
    },
    {
     "name": "stderr",
     "output_type": "stream",
     "text": [
      "0: 448x640 1 person, 287.5ms\n",
      "Speed: 6.0ms preprocess, 287.5ms inference, 1.0ms postprocess per image at shape (1, 3, 448, 640)\n",
      "\n"
     ]
    },
    {
     "name": "stdout",
     "output_type": "stream",
     "text": [
      "Fall detected by Rule 1\n"
     ]
    },
    {
     "name": "stderr",
     "output_type": "stream",
     "text": [
      "0: 448x640 1 person, 258.7ms\n",
      "Speed: 3.0ms preprocess, 258.7ms inference, 2.5ms postprocess per image at shape (1, 3, 448, 640)\n",
      "\n"
     ]
    },
    {
     "name": "stdout",
     "output_type": "stream",
     "text": [
      "Fall detected by Rule 1\n"
     ]
    },
    {
     "name": "stderr",
     "output_type": "stream",
     "text": [
      "0: 448x640 3 persons, 249.8ms\n",
      "Speed: 3.0ms preprocess, 249.8ms inference, 1.0ms postprocess per image at shape (1, 3, 448, 640)\n",
      "\n"
     ]
    },
    {
     "name": "stdout",
     "output_type": "stream",
     "text": [
      "Fall detected by Rule 1\n",
      "Fall detected by Rule 1\n"
     ]
    },
    {
     "name": "stderr",
     "output_type": "stream",
     "text": [
      "0: 448x640 1 person, 253.3ms\n",
      "Speed: 3.2ms preprocess, 253.3ms inference, 1.1ms postprocess per image at shape (1, 3, 448, 640)\n",
      "\n"
     ]
    },
    {
     "name": "stdout",
     "output_type": "stream",
     "text": [
      "Fall detected by Rule 1\n"
     ]
    },
    {
     "name": "stderr",
     "output_type": "stream",
     "text": [
      "0: 448x640 (no detections), 288.5ms\n",
      "Speed: 5.0ms preprocess, 288.5ms inference, 1.0ms postprocess per image at shape (1, 3, 448, 640)\n",
      "\n",
      "0: 448x640 1 person, 261.9ms\n",
      "Speed: 3.5ms preprocess, 261.9ms inference, 2.0ms postprocess per image at shape (1, 3, 448, 640)\n",
      "\n"
     ]
    },
    {
     "name": "stdout",
     "output_type": "stream",
     "text": [
      "Fall detected by Rule 1\n"
     ]
    },
    {
     "name": "stderr",
     "output_type": "stream",
     "text": [
      "0: 448x640 1 person, 271.1ms\n",
      "Speed: 2.8ms preprocess, 271.1ms inference, 1.0ms postprocess per image at shape (1, 3, 448, 640)\n",
      "\n"
     ]
    },
    {
     "name": "stdout",
     "output_type": "stream",
     "text": [
      "Fall detected by Rule 1\n"
     ]
    },
    {
     "name": "stderr",
     "output_type": "stream",
     "text": [
      "0: 448x640 (no detections), 281.7ms\n",
      "Speed: 3.6ms preprocess, 281.7ms inference, 0.5ms postprocess per image at shape (1, 3, 448, 640)\n",
      "\n",
      "0: 448x640 1 person, 280.9ms\n",
      "Speed: 2.0ms preprocess, 280.9ms inference, 2.0ms postprocess per image at shape (1, 3, 448, 640)\n",
      "\n",
      "0: 448x640 (no detections), 269.2ms\n",
      "Speed: 2.5ms preprocess, 269.2ms inference, 0.0ms postprocess per image at shape (1, 3, 448, 640)\n",
      "\n",
      "0: 448x640 1 person, 267.2ms\n",
      "Speed: 4.0ms preprocess, 267.2ms inference, 1.0ms postprocess per image at shape (1, 3, 448, 640)\n",
      "\n"
     ]
    },
    {
     "name": "stdout",
     "output_type": "stream",
     "text": [
      "Fall detected by Rule 1\n"
     ]
    },
    {
     "name": "stderr",
     "output_type": "stream",
     "text": [
      "0: 448x640 (no detections), 278.9ms\n",
      "Speed: 2.0ms preprocess, 278.9ms inference, 1.0ms postprocess per image at shape (1, 3, 448, 640)\n",
      "\n",
      "0: 448x640 (no detections), 273.4ms\n",
      "Speed: 3.0ms preprocess, 273.4ms inference, 1.0ms postprocess per image at shape (1, 3, 448, 640)\n",
      "\n",
      "0: 448x640 1 person, 273.7ms\n",
      "Speed: 3.1ms preprocess, 273.7ms inference, 1.0ms postprocess per image at shape (1, 3, 448, 640)\n",
      "\n"
     ]
    },
    {
     "name": "stdout",
     "output_type": "stream",
     "text": [
      "Fall detected by Rule 1\n"
     ]
    },
    {
     "name": "stderr",
     "output_type": "stream",
     "text": [
      "0: 448x640 1 person, 273.4ms\n",
      "Speed: 3.6ms preprocess, 273.4ms inference, 1.0ms postprocess per image at shape (1, 3, 448, 640)\n",
      "\n"
     ]
    },
    {
     "name": "stdout",
     "output_type": "stream",
     "text": [
      "Fall detected by Rule 1\n"
     ]
    },
    {
     "name": "stderr",
     "output_type": "stream",
     "text": [
      "0: 448x640 1 person, 261.9ms\n",
      "Speed: 2.5ms preprocess, 261.9ms inference, 1.0ms postprocess per image at shape (1, 3, 448, 640)\n",
      "\n"
     ]
    },
    {
     "name": "stdout",
     "output_type": "stream",
     "text": [
      "Fall detected by Rule 1\n"
     ]
    },
    {
     "name": "stderr",
     "output_type": "stream",
     "text": [
      "0: 448x640 (no detections), 283.4ms\n",
      "Speed: 3.1ms preprocess, 283.4ms inference, 1.0ms postprocess per image at shape (1, 3, 448, 640)\n",
      "\n",
      "0: 448x640 2 persons, 271.7ms\n",
      "Speed: 4.0ms preprocess, 271.7ms inference, 1.0ms postprocess per image at shape (1, 3, 448, 640)\n",
      "\n"
     ]
    },
    {
     "name": "stdout",
     "output_type": "stream",
     "text": [
      "Fall detected by Rule 1\n"
     ]
    },
    {
     "name": "stderr",
     "output_type": "stream",
     "text": [
      "0: 448x640 (no detections), 286.1ms\n",
      "Speed: 5.3ms preprocess, 286.1ms inference, 1.2ms postprocess per image at shape (1, 3, 448, 640)\n",
      "\n",
      "0: 448x640 (no detections), 271.6ms\n",
      "Speed: 2.5ms preprocess, 271.6ms inference, 1.0ms postprocess per image at shape (1, 3, 448, 640)\n",
      "\n",
      "0: 448x640 (no detections), 282.1ms\n",
      "Speed: 2.5ms preprocess, 282.1ms inference, 1.0ms postprocess per image at shape (1, 3, 448, 640)\n",
      "\n",
      "0: 448x640 1 person, 261.6ms\n",
      "Speed: 3.0ms preprocess, 261.6ms inference, 2.0ms postprocess per image at shape (1, 3, 448, 640)\n",
      "\n"
     ]
    },
    {
     "name": "stdout",
     "output_type": "stream",
     "text": [
      "Fall detected by Rule 1\n"
     ]
    },
    {
     "name": "stderr",
     "output_type": "stream",
     "text": [
      "0: 448x640 1 person, 273.9ms\n",
      "Speed: 3.1ms preprocess, 273.9ms inference, 2.0ms postprocess per image at shape (1, 3, 448, 640)\n",
      "\n"
     ]
    },
    {
     "name": "stdout",
     "output_type": "stream",
     "text": [
      "Fall detected by Rule 1\n"
     ]
    },
    {
     "name": "stderr",
     "output_type": "stream",
     "text": [
      "0: 448x640 (no detections), 276.4ms\n",
      "Speed: 3.0ms preprocess, 276.4ms inference, 1.5ms postprocess per image at shape (1, 3, 448, 640)\n",
      "\n",
      "0: 448x640 2 persons, 269.8ms\n",
      "Speed: 3.0ms preprocess, 269.8ms inference, 1.0ms postprocess per image at shape (1, 3, 448, 640)\n",
      "\n"
     ]
    },
    {
     "name": "stdout",
     "output_type": "stream",
     "text": [
      "Fall detected by Rule 1\n"
     ]
    },
    {
     "name": "stderr",
     "output_type": "stream",
     "text": [
      "0: 448x640 (no detections), 261.2ms\n",
      "Speed: 3.0ms preprocess, 261.2ms inference, 1.5ms postprocess per image at shape (1, 3, 448, 640)\n",
      "\n",
      "0: 448x640 (no detections), 266.8ms\n",
      "Speed: 2.7ms preprocess, 266.8ms inference, 0.5ms postprocess per image at shape (1, 3, 448, 640)\n",
      "\n",
      "0: 448x640 (no detections), 253.4ms\n",
      "Speed: 3.1ms preprocess, 253.4ms inference, 0.5ms postprocess per image at shape (1, 3, 448, 640)\n",
      "\n",
      "0: 448x640 (no detections), 267.1ms\n",
      "Speed: 3.0ms preprocess, 267.1ms inference, 1.0ms postprocess per image at shape (1, 3, 448, 640)\n",
      "\n",
      "0: 448x640 1 person, 252.5ms\n",
      "Speed: 1.9ms preprocess, 252.5ms inference, 1.2ms postprocess per image at shape (1, 3, 448, 640)\n",
      "\n"
     ]
    },
    {
     "name": "stdout",
     "output_type": "stream",
     "text": [
      "Fall detected by Rule 1\n"
     ]
    },
    {
     "name": "stderr",
     "output_type": "stream",
     "text": [
      "0: 448x640 1 person, 274.2ms\n",
      "Speed: 2.5ms preprocess, 274.2ms inference, 2.0ms postprocess per image at shape (1, 3, 448, 640)\n",
      "\n",
      "0: 448x640 (no detections), 266.0ms\n",
      "Speed: 3.0ms preprocess, 266.0ms inference, 0.0ms postprocess per image at shape (1, 3, 448, 640)\n",
      "\n",
      "0: 448x640 (no detections), 266.5ms\n",
      "Speed: 4.0ms preprocess, 266.5ms inference, 0.0ms postprocess per image at shape (1, 3, 448, 640)\n",
      "\n",
      "0: 448x640 (no detections), 269.6ms\n",
      "Speed: 2.5ms preprocess, 269.6ms inference, 1.0ms postprocess per image at shape (1, 3, 448, 640)\n",
      "\n",
      "0: 448x640 1 person, 276.3ms\n",
      "Speed: 5.0ms preprocess, 276.3ms inference, 2.0ms postprocess per image at shape (1, 3, 448, 640)\n",
      "\n",
      "0: 448x640 2 persons, 261.1ms\n",
      "Speed: 2.4ms preprocess, 261.1ms inference, 1.0ms postprocess per image at shape (1, 3, 448, 640)\n",
      "\n"
     ]
    },
    {
     "name": "stdout",
     "output_type": "stream",
     "text": [
      "Fall detected by Rule 1\n"
     ]
    },
    {
     "name": "stderr",
     "output_type": "stream",
     "text": [
      "0: 448x640 1 person, 279.2ms\n",
      "Speed: 4.5ms preprocess, 279.2ms inference, 2.0ms postprocess per image at shape (1, 3, 448, 640)\n",
      "\n"
     ]
    },
    {
     "name": "stdout",
     "output_type": "stream",
     "text": [
      "Fall detected by Rule 1\n"
     ]
    },
    {
     "name": "stderr",
     "output_type": "stream",
     "text": [
      "0: 448x640 1 person, 284.8ms\n",
      "Speed: 3.1ms preprocess, 284.8ms inference, 0.5ms postprocess per image at shape (1, 3, 448, 640)\n",
      "\n"
     ]
    },
    {
     "name": "stdout",
     "output_type": "stream",
     "text": [
      "Fall detected by Rule 1\n"
     ]
    },
    {
     "name": "stderr",
     "output_type": "stream",
     "text": [
      "0: 448x640 1 person, 280.2ms\n",
      "Speed: 3.2ms preprocess, 280.2ms inference, 1.5ms postprocess per image at shape (1, 3, 448, 640)\n",
      "\n",
      "0: 448x640 2 persons, 272.3ms\n",
      "Speed: 1.5ms preprocess, 272.3ms inference, 1.0ms postprocess per image at shape (1, 3, 448, 640)\n",
      "\n"
     ]
    },
    {
     "name": "stdout",
     "output_type": "stream",
     "text": [
      "Fall detected by Rule 1\n"
     ]
    },
    {
     "name": "stderr",
     "output_type": "stream",
     "text": [
      "0: 448x640 1 person, 259.7ms\n",
      "Speed: 3.0ms preprocess, 259.7ms inference, 2.5ms postprocess per image at shape (1, 3, 448, 640)\n",
      "\n"
     ]
    },
    {
     "name": "stdout",
     "output_type": "stream",
     "text": [
      "Fall detected by Rule 1\n"
     ]
    },
    {
     "name": "stderr",
     "output_type": "stream",
     "text": [
      "0: 448x640 1 person, 245.3ms\n",
      "Speed: 2.0ms preprocess, 245.3ms inference, 1.5ms postprocess per image at shape (1, 3, 448, 640)\n",
      "\n"
     ]
    },
    {
     "name": "stdout",
     "output_type": "stream",
     "text": [
      "Fall detected by Rule 1\n"
     ]
    },
    {
     "name": "stderr",
     "output_type": "stream",
     "text": [
      "0: 448x640 (no detections), 258.9ms\n",
      "Speed: 2.0ms preprocess, 258.9ms inference, 1.0ms postprocess per image at shape (1, 3, 448, 640)\n",
      "\n",
      "0: 448x640 1 person, 278.8ms\n",
      "Speed: 2.6ms preprocess, 278.8ms inference, 1.0ms postprocess per image at shape (1, 3, 448, 640)\n",
      "\n"
     ]
    },
    {
     "name": "stdout",
     "output_type": "stream",
     "text": [
      "Fall detected by Rule 1\n"
     ]
    },
    {
     "name": "stderr",
     "output_type": "stream",
     "text": [
      "0: 448x640 (no detections), 260.9ms\n",
      "Speed: 3.0ms preprocess, 260.9ms inference, 0.0ms postprocess per image at shape (1, 3, 448, 640)\n",
      "\n",
      "0: 448x640 1 person, 276.6ms\n",
      "Speed: 4.0ms preprocess, 276.6ms inference, 3.2ms postprocess per image at shape (1, 3, 448, 640)\n",
      "\n"
     ]
    },
    {
     "name": "stdout",
     "output_type": "stream",
     "text": [
      "Fall detected by Rule 1\n"
     ]
    },
    {
     "name": "stderr",
     "output_type": "stream",
     "text": [
      "0: 448x640 (no detections), 264.5ms\n",
      "Speed: 3.0ms preprocess, 264.5ms inference, 0.5ms postprocess per image at shape (1, 3, 448, 640)\n",
      "\n",
      "0: 448x640 (no detections), 255.0ms\n",
      "Speed: 3.0ms preprocess, 255.0ms inference, 1.6ms postprocess per image at shape (1, 3, 448, 640)\n",
      "\n",
      "0: 448x640 (no detections), 264.1ms\n",
      "Speed: 5.5ms preprocess, 264.1ms inference, 1.0ms postprocess per image at shape (1, 3, 448, 640)\n"
     ]
    }
   ],
   "source": [
    "complete_df_results = pd.DataFrame()\n",
    "backup_counter =  0\n",
    "for model in models:\n",
    "    print(model)\n",
    "    df_result = get_test_results(model,video_dir,fall_patterns_dir)\n",
    "    df_result.to_pickle(f'df_result_{backup_counter}.pkl')\n",
    "    complete_df_results = pd.concat([complete_df_results,df_result]).reset_index(drop=True)\n",
    "    backup_counter+=1\n",
    "complete_df_results.to_pickle(f'complete_results_df.pkl')"
   ]
  },
  {
   "cell_type": "code",
   "execution_count": null,
   "id": "19f1bd9c",
   "metadata": {
    "pycharm": {
     "name": "#%%\n"
    }
   },
   "outputs": [],
   "source": []
  }
 ],
 "metadata": {
  "kernelspec": {
   "display_name": "Python 3 (ipykernel)",
   "language": "python",
   "name": "python3"
  },
  "language_info": {
   "codemirror_mode": {
    "name": "ipython",
    "version": 3
   },
   "file_extension": ".py",
   "mimetype": "text/x-python",
   "name": "python",
   "nbconvert_exporter": "python",
   "pygments_lexer": "ipython3",
   "version": "3.9.13"
  }
 },
 "nbformat": 4,
 "nbformat_minor": 5
}