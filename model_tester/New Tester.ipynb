{
 "cells": [
  {
   "cell_type": "code",
   "execution_count": 2,
   "id": "88b9fb3c",
   "metadata": {
    "pycharm": {
     "name": "#%%\n"
    }
   },
   "outputs": [],
   "source": [
    "from detectionmodel2 import Processor\n",
    "import cv2\n",
    "import os\n",
    "import pandas as pd\n",
    "from pathlib import Path"
   ]
  },
  {
   "cell_type": "code",
   "execution_count": 3,
   "id": "fd41f623",
   "metadata": {
    "pycharm": {
     "name": "#%%\n"
    }
   },
   "outputs": [],
   "source": [
    "def get_subdirectories(path):\n",
    "    return [d for d in os.listdir(path) if os.path.isdir(os.path.join(path, d))]"
   ]
  },
  {
   "cell_type": "code",
   "execution_count": 4,
   "id": "021bb25b",
   "metadata": {
    "pycharm": {
     "name": "#%%\n"
    }
   },
   "outputs": [],
   "source": [
    "def get_filenames(directory):\n",
    "    dir_path = Path(directory)\n",
    "    return [f.name for f in dir_path.iterdir() if f.is_file()]"
   ]
  },
  {
   "cell_type": "code",
   "execution_count": 5,
   "id": "32c36224",
   "metadata": {
    "pycharm": {
     "name": "#%%\n"
    }
   },
   "outputs": [],
   "source": [
    "def video_fall_detection(video_path, model):\n",
    "    cap = cv2.VideoCapture(str(video_path))\n",
    "\n",
    "    if not cap.isOpened():\n",
    "        print(\"Cannot open video\")\n",
    "        exit()\n",
    "\n",
    "    # Define the codec and create VideoWriter object\n",
    "    #     fourcc = cv2.VideoWriter_fourcc(*'XVID')\n",
    "    #     out = cv2.VideoWriter('output.avi', fourcc, 20.0, (int(cap.get(3)), int(cap.get(4))))\n",
    "\n",
    "    # Create an instance of Processor\n",
    "    processor = Processor(model)\n",
    "\n",
    "    while True:\n",
    "        success, frame = cap.read()\n",
    "\n",
    "        if not success:\n",
    "            break\n",
    "\n",
    "        # Process the frame using the Processor class\n",
    "        frame = processor.process(frame)\n",
    "\n",
    "        # Write the processed frame into the output video\n",
    "    #         out.write(frame)\n",
    "\n",
    "    # Display the processed frame\n",
    "    #         cv2.imshow(\"Fall Detection\", frame)\n",
    "    #         if cv2.waitKey(1) & 0xFF == ord('q'):\n",
    "    #             break\n",
    "\n",
    "    cap.release()\n",
    "    #     out.release()\n",
    "    #     cv2.destroyAllWindows()\n",
    "\n",
    "    # Return the statistics using the output_stats method from the Processor instance\n",
    "    return processor.output_stats()"
   ]
  },
  {
   "cell_type": "code",
   "execution_count": 11,
   "id": "90ceadaa",
   "metadata": {
    "pycharm": {
     "name": "#%%\n"
    }
   },
   "outputs": [],
   "source": [
    "def get_test_results(model,video_dir,fall_patterns_dir):\n",
    "    complete_test_results = []\n",
    "    for fall_pattern_path in fall_patterns_dir:\n",
    "        print(fall_pattern_path)\n",
    "        fall_pattern_full_path = Path(video_dir,fall_pattern_path)\n",
    "        cam_angles_paths = get_filenames(fall_pattern_full_path)\n",
    "        for cam_angles_path in cam_angles_paths:\n",
    "            print(cam_angles_path)\n",
    "            if cam_angles_path == \".DS_Store\":\n",
    "                continue\n",
    "            cam_angle_full_path = Path(fall_pattern_full_path,cam_angles_path)\n",
    "            test_result = video_fall_detection(cam_angle_full_path,model)\n",
    "            test_result['Angle'] = cam_angles_path[:-4]\n",
    "            test_result['Fall Type'] = fall_pattern_path\n",
    "            complete_test_results.append(test_result)\n",
    "    df_results = pd.DataFrame(complete_test_results)\n",
    "    df_results['model'] = model\n",
    "    return df_results"
   ]
  },
  {
   "cell_type": "code",
   "execution_count": 7,
   "id": "cdf5e1fd",
   "metadata": {
    "pycharm": {
     "name": "#%%\n"
    }
   },
   "outputs": [],
   "source": [
    "video_dir = Path(os.getcwd(),'./Videos')"
   ]
  },
  {
   "cell_type": "code",
   "execution_count": 8,
   "id": "32d74fb1",
   "metadata": {
    "pycharm": {
     "name": "#%%\n"
    }
   },
   "outputs": [],
   "source": [
    "fall_patterns_dir = ['chute04']"
   ]
  },
  {
   "cell_type": "code",
   "execution_count": 9,
   "id": "caaa68c2",
   "metadata": {
    "pycharm": {
     "name": "#%%\n"
    }
   },
   "outputs": [],
   "source": [
    "models = ['yolov8s-pose.pt']"
   ]
  },
  {
   "cell_type": "code",
   "execution_count": 12,
   "id": "6807778b",
   "metadata": {
    "pycharm": {
     "name": "#%%\n"
    },
    "scrolled": true
   },
   "outputs": [
    {
     "name": "stdout",
     "output_type": "stream",
     "text": [
      "yolov8s-pose.pt\n",
      "chute04\n",
      ".DS_Store\n",
      "Baseline_Brendan-1.mov\n"
     ]
    },
    {
     "name": "stderr",
     "output_type": "stream",
     "text": [
      "/Users/brendanlim/Documents/SchoolStuff/Y4S1/Capstone/repo/MedWatch/model_tester/detectionmodel2.py:82: RuntimeWarning: invalid value encountered in double_scalars\n",
      "  cos_theta = center_line[1] / math.sqrt(center_line[0] ** 2 + center_line[1] ** 2)\n"
     ]
    }
   ],
   "source": [
    "complete_df_results = pd.DataFrame()\n",
    "backup_counter =  0\n",
    "for model in models:\n",
    "    print(model)\n",
    "    df_result = get_test_results(model,video_dir,fall_patterns_dir)\n",
    "    df_result.to_pickle(f'df_result_{backup_counter}.pkl')\n",
    "    complete_df_results = pd.concat([complete_df_results,df_result]).reset_index(drop=True)\n",
    "    backup_counter+=1\n",
    "complete_df_results.to_pickle(f'complete_results_df.pkl')"
   ]
  },
  {
   "cell_type": "code",
   "execution_count": null,
   "id": "19f1bd9c",
   "metadata": {
    "pycharm": {
     "name": "#%%\n"
    }
   },
   "outputs": [],
   "source": []
  }
 ],
 "metadata": {
  "kernelspec": {
   "display_name": "Python 3 (ipykernel)",
   "language": "python",
   "name": "python3"
  },
  "language_info": {
   "codemirror_mode": {
    "name": "ipython",
    "version": 3
   },
   "file_extension": ".py",
   "mimetype": "text/x-python",
   "name": "python",
   "nbconvert_exporter": "python",
   "pygments_lexer": "ipython3",
   "version": "3.8.5"
  }
 },
 "nbformat": 4,
 "nbformat_minor": 5
}
