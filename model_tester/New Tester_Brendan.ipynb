{
 "cells": [
  {
   "cell_type": "code",
   "execution_count": 1,
   "id": "88b9fb3c",
   "metadata": {
    "pycharm": {
     "name": "#%%\n"
    }
   },
   "outputs": [],
   "source": [
    "from detectionmodel2 import Processor\n",
    "from augmentation import (FootageAugmenter, FootagePreprocessor)\n",
    "import cv2\n",
    "import os\n",
    "import pandas as pd\n",
    "import numpy as np\n",
    "from pathlib import Path\n",
    "#from IPython.display import Image, display"
   ]
  },
  {
   "cell_type": "code",
   "execution_count": 2,
   "id": "fd41f623",
   "metadata": {
    "pycharm": {
     "name": "#%%\n"
    }
   },
   "outputs": [],
   "source": [
    "def get_subdirectories(path):\n",
    "    return [d for d in os.listdir(path) if os.path.isdir(os.path.join(path, d))]"
   ]
  },
  {
   "cell_type": "code",
   "execution_count": 3,
   "id": "021bb25b",
   "metadata": {
    "pycharm": {
     "name": "#%%\n"
    }
   },
   "outputs": [],
   "source": [
    "def get_filenames(directory):\n",
    "    dir_path = Path(directory)\n",
    "    return [f.name for f in dir_path.iterdir() if f.is_file()]"
   ]
  },
  {
   "cell_type": "code",
   "execution_count": 11,
   "id": "1235bd93",
   "metadata": {},
   "outputs": [],
   "source": [
    "def get_list_of_frames(video_path):\n",
    "    cap = cv2.VideoCapture(str(video_path))\n",
    "    list_of_frames = []\n",
    "\n",
    "    if not cap.isOpened():\n",
    "        print(\"Cannot open video\")\n",
    "        exit()\n",
    "\n",
    "    while True:\n",
    "        success, frame = cap.read()\n",
    "\n",
    "        if not success:\n",
    "            break\n",
    "            \n",
    "        list_of_frames.append(frame)\n",
    "\n",
    "    cap.release()\n",
    "\n",
    "    return list_of_frames"
   ]
  },
  {
   "cell_type": "code",
   "execution_count": 4,
   "id": "32c36224",
   "metadata": {
    "pycharm": {
     "name": "#%%\n"
    }
   },
   "outputs": [],
   "source": [
    "def video_fall_detection(list_of_frames, model):\n",
    "\n",
    "    # Define the codec and create VideoWriter object\n",
    "    #     fourcc = cv2.VideoWriter_fourcc(*'XVID')\n",
    "    #     out = cv2.VideoWriter('output.avi', fourcc, 20.0, (int(list_of_frames[0].shape[0]), int(list_of_frames[0].shape[1])))\n",
    "\n",
    "    # Create an instance of Processor\n",
    "    processor = Processor(model)\n",
    "\n",
    "    #Create an instance of Footage Preprocessor\n",
    "    footage_preprocessor = FootagePreprocessor(list_of_frames)    \n",
    "    \n",
    "    #Preprocess Images\n",
    "    preprocessed_frames = footage_preprocessor.preprocess_footage()\n",
    "\n",
    "    #Augment Images\n",
    "    for frame in preprocessed_frames:\n",
    "        # Process the frame using the Processor class\n",
    "        frame = processor.process(frame)\n",
    "\n",
    "        # Write the processed frame into the output video\n",
    "    #         out.write(frame)\n",
    "\n",
    "    # Display the processed frame\n",
    "    #         cv2.imshow(\"Fall Detection\", frame)\n",
    "    #         if cv2.waitKey(1) & 0xFF == ord('q'):\n",
    "    #             break\n",
    "\n",
    "    # (DONT NEED?) cap.release()\n",
    "    #     out.release()\n",
    "    #     cv2.destroyAllWindows()\n",
    "\n",
    "    # Return the statistics using the output_stats method from the Processor instance\n",
    "    return processor.output_stats()"
   ]
  },
  {
   "cell_type": "code",
   "execution_count": null,
   "id": "a87f0842",
   "metadata": {},
   "outputs": [],
   "source": [
    "#COPY PASTE AND REPLACE 2 LINES BELOW\n",
    "\n",
    "#BRIGHTNESS\n",
    "for brightness_val in range(50,200,20):\n",
    "    updated_frames = footage_augmenter.augment_brightness(target_brightness=brightness_val)\n",
    "\n",
    "#CONNECTION ERROR (FRAME LAG)\n",
    "for lag_dur in range(1,8):\n",
    "    updated_frames = footage_augmenter.mimic_frame_lag(lag_probability=0.1,lag_duration=lag_dur)\n",
    "\n",
    "#CONNECTION ERROR (FRAME LOSS)\n",
    "for max_skips in range(1,8):\n",
    "    updated_frames = footage_augmenter.mimic_loss_of_frames(loss_probability=0.05,max_consecutive_skips=max_skips)\n",
    "\n",
    "#CONNECTION ERROR (INTERMITTENT NOISE IN FRAMES)\n",
    "for noise_prob in range(1,20,2):\n",
    "    updated_frames = footage_augmenter.mimic_connection_error_noise(noise_probability=noise_prob/100)\n",
    "\n",
    "#IMAGE BLUR\n",
    "for kernel_size in range(1,16,2):\n",
    "    updated_frames = footage_augmenter.adjust_image_blur(kernel_size=(kernel_size,kernel_size))\n",
    "\n",
    "#IMAGE ROTATION\n",
    "for angle in range(10,360,20):\n",
    "    updated_frames = footage_augmenter.adjust_camera_rotation(angle=angle)\n",
    "\n",
    "#CONSISTENT IMAGE NOISE\n",
    "for noise_stdev in range(0,30,5):\n",
    "    updated_frames = footage_augmenter.add_image_noise(noise_mean=10, noise_stdev=noise_stdev)"
   ]
  },
  {
   "cell_type": "code",
   "execution_count": 13,
   "id": "90ceadaa",
   "metadata": {
    "pycharm": {
     "name": "#%%\n"
    }
   },
   "outputs": [],
   "source": [
    "def get_test_results(model,video_dir,fall_patterns_dir):\n",
    "    complete_test_results = []\n",
    "    for fall_pattern_path in fall_patterns_dir:\n",
    "        print(fall_pattern_path)\n",
    "        fall_pattern_full_path = Path(video_dir,fall_pattern_path)\n",
    "        cam_angles_paths = get_filenames(fall_pattern_full_path)\n",
    "        for cam_angles_path in cam_angles_paths:\n",
    "            print(cam_angles_path)\n",
    "            if cam_angles_path == \".DS_Store\":\n",
    "                continue\n",
    "            cam_angle_full_path = Path(fall_pattern_full_path,cam_angles_path)\n",
    "            list_of_frames = get_list_of_frames(cam_angle_full_path)\n",
    "            #base case\n",
    "            test_result = video_fall_detection(list_of_frames,model)\n",
    "            test_result['Angle'] = cam_angles_path[:-4]\n",
    "            test_result['Fall Type'] = fall_pattern_path\n",
    "            test_result['Metric'] = ''\n",
    "            test_result['MetricVal'] = '' \n",
    "            complete_test_results.append(test_result)\n",
    "            footage_augmenter = FootageAugmenter(list_of_frames)\n",
    "            #updated_frames = list_of_frames\n",
    "            #updated_frames -> take from above for various augmentations (copy 2 lines). eg. \n",
    "            for noise_stdev in range(0,15,5):\n",
    "                updated_frames = footage_augmenter.add_image_noise(noise_mean=10, noise_stdev=noise_stdev)\n",
    "                test_result = video_fall_detection(updated_frames,model)\n",
    "                test_result['Angle'] = cam_angles_path[:-4]\n",
    "                test_result['Fall Type'] = fall_pattern_path\n",
    "                test_result['Metric'] = 'image_noise' #change according to what metric is\n",
    "                test_result['MetricVal'] = noise_stdev #change according to what for loop is running with\n",
    "                complete_test_results.append(test_result)\n",
    "    df_results = pd.DataFrame(complete_test_results)\n",
    "    df_results['model'] = model\n",
    "    return df_results"
   ]
  },
  {
   "cell_type": "code",
   "execution_count": 6,
   "id": "cdf5e1fd",
   "metadata": {
    "pycharm": {
     "name": "#%%\n"
    }
   },
   "outputs": [],
   "source": [
    "video_dir = Path(os.getcwd(),'./Videos')"
   ]
  },
  {
   "cell_type": "code",
   "execution_count": 7,
   "id": "32d74fb1",
   "metadata": {
    "pycharm": {
     "name": "#%%\n"
    }
   },
   "outputs": [],
   "source": [
    "fall_patterns_dir = ['chute04']"
   ]
  },
  {
   "cell_type": "code",
   "execution_count": 8,
   "id": "caaa68c2",
   "metadata": {
    "pycharm": {
     "name": "#%%\n"
    }
   },
   "outputs": [],
   "source": [
    "models = ['yolov8s-pose.pt']"
   ]
  },
  {
   "cell_type": "code",
   "execution_count": 14,
   "id": "6807778b",
   "metadata": {
    "pycharm": {
     "name": "#%%\n"
    },
    "scrolled": true
   },
   "outputs": [
    {
     "name": "stdout",
     "output_type": "stream",
     "text": [
      "yolov8s-pose.pt\n",
      "chute04\n",
      ".DS_Store\n",
      "Baseline_Brendan-1.mov\n"
     ]
    },
    {
     "name": "stderr",
     "output_type": "stream",
     "text": [
      "/Users/brendanlim/Documents/SchoolStuff/Y4S1/Capstone/repo/MedWatch/model_tester/detectionmodel2.py:82: RuntimeWarning: invalid value encountered in double_scalars\n",
      "  cos_theta = center_line[1] / math.sqrt(center_line[0] ** 2 + center_line[1] ** 2)\n",
      "/Users/brendanlim/Documents/SchoolStuff/Y4S1/Capstone/repo/MedWatch/model_tester/detectionmodel2.py:82: RuntimeWarning: invalid value encountered in double_scalars\n",
      "  cos_theta = center_line[1] / math.sqrt(center_line[0] ** 2 + center_line[1] ** 2)\n",
      "/Users/brendanlim/Documents/SchoolStuff/Y4S1/Capstone/repo/MedWatch/model_tester/detectionmodel2.py:82: RuntimeWarning: invalid value encountered in double_scalars\n",
      "  cos_theta = center_line[1] / math.sqrt(center_line[0] ** 2 + center_line[1] ** 2)\n"
     ]
    }
   ],
   "source": [
    "complete_df_results = pd.DataFrame()\n",
    "backup_counter =  0\n",
    "for model in models:\n",
    "    print(model)\n",
    "    df_result = get_test_results(model,video_dir,fall_patterns_dir)\n",
    "    df_result.to_pickle(f'df_result_{backup_counter}.pkl')\n",
    "    complete_df_results = pd.concat([complete_df_results,df_result]).reset_index(drop=True)\n",
    "    backup_counter+=1\n",
    "complete_df_results.to_pickle(f'complete_results_df.pkl')"
   ]
  },
  {
   "cell_type": "code",
   "execution_count": 15,
   "id": "19f1bd9c",
   "metadata": {
    "pycharm": {
     "name": "#%%\n"
    }
   },
   "outputs": [
    {
     "data": {
      "text/html": [
       "<div>\n",
       "<style scoped>\n",
       "    .dataframe tbody tr th:only-of-type {\n",
       "        vertical-align: middle;\n",
       "    }\n",
       "\n",
       "    .dataframe tbody tr th {\n",
       "        vertical-align: top;\n",
       "    }\n",
       "\n",
       "    .dataframe thead th {\n",
       "        text-align: right;\n",
       "    }\n",
       "</style>\n",
       "<table border=\"1\" class=\"dataframe\">\n",
       "  <thead>\n",
       "    <tr style=\"text-align: right;\">\n",
       "      <th></th>\n",
       "      <th>Human Detection</th>\n",
       "      <th>Fall Detection</th>\n",
       "      <th>Human Detection Frame Count</th>\n",
       "      <th>Fall Detection Frame Count</th>\n",
       "      <th>Total Frame Count</th>\n",
       "      <th>Angle</th>\n",
       "      <th>Fall Type</th>\n",
       "      <th>Metric</th>\n",
       "      <th>MetricVal</th>\n",
       "      <th>model</th>\n",
       "    </tr>\n",
       "  </thead>\n",
       "  <tbody>\n",
       "    <tr>\n",
       "      <th>0</th>\n",
       "      <td>True</td>\n",
       "      <td>True</td>\n",
       "      <td>450</td>\n",
       "      <td>129</td>\n",
       "      <td>457</td>\n",
       "      <td>Baseline_Brendan-1</td>\n",
       "      <td>chute04</td>\n",
       "      <td></td>\n",
       "      <td></td>\n",
       "      <td>yolov8s-pose.pt</td>\n",
       "    </tr>\n",
       "    <tr>\n",
       "      <th>1</th>\n",
       "      <td>True</td>\n",
       "      <td>True</td>\n",
       "      <td>448</td>\n",
       "      <td>129</td>\n",
       "      <td>457</td>\n",
       "      <td>Baseline_Brendan-1</td>\n",
       "      <td>chute04</td>\n",
       "      <td>image_noise</td>\n",
       "      <td>0</td>\n",
       "      <td>yolov8s-pose.pt</td>\n",
       "    </tr>\n",
       "    <tr>\n",
       "      <th>2</th>\n",
       "      <td>True</td>\n",
       "      <td>True</td>\n",
       "      <td>332</td>\n",
       "      <td>58</td>\n",
       "      <td>457</td>\n",
       "      <td>Baseline_Brendan-1</td>\n",
       "      <td>chute04</td>\n",
       "      <td>image_noise</td>\n",
       "      <td>5</td>\n",
       "      <td>yolov8s-pose.pt</td>\n",
       "    </tr>\n",
       "    <tr>\n",
       "      <th>3</th>\n",
       "      <td>True</td>\n",
       "      <td>True</td>\n",
       "      <td>455</td>\n",
       "      <td>391</td>\n",
       "      <td>457</td>\n",
       "      <td>Baseline_Brendan-1</td>\n",
       "      <td>chute04</td>\n",
       "      <td>image_noise</td>\n",
       "      <td>10</td>\n",
       "      <td>yolov8s-pose.pt</td>\n",
       "    </tr>\n",
       "  </tbody>\n",
       "</table>\n",
       "</div>"
      ],
      "text/plain": [
       "   Human Detection  Fall Detection  Human Detection Frame Count  \\\n",
       "0             True            True                          450   \n",
       "1             True            True                          448   \n",
       "2             True            True                          332   \n",
       "3             True            True                          455   \n",
       "\n",
       "   Fall Detection Frame Count  Total Frame Count               Angle  \\\n",
       "0                         129                457  Baseline_Brendan-1   \n",
       "1                         129                457  Baseline_Brendan-1   \n",
       "2                          58                457  Baseline_Brendan-1   \n",
       "3                         391                457  Baseline_Brendan-1   \n",
       "\n",
       "  Fall Type       Metric MetricVal            model  \n",
       "0   chute04                         yolov8s-pose.pt  \n",
       "1   chute04  image_noise         0  yolov8s-pose.pt  \n",
       "2   chute04  image_noise         5  yolov8s-pose.pt  \n",
       "3   chute04  image_noise        10  yolov8s-pose.pt  "
      ]
     },
     "execution_count": 15,
     "metadata": {},
     "output_type": "execute_result"
    }
   ],
   "source": [
    "complete_df_results"
   ]
  }
 ],
 "metadata": {
  "kernelspec": {
   "display_name": "Python 3 (ipykernel)",
   "language": "python",
   "name": "python3"
  },
  "language_info": {
   "codemirror_mode": {
    "name": "ipython",
    "version": 3
   },
   "file_extension": ".py",
   "mimetype": "text/x-python",
   "name": "python",
   "nbconvert_exporter": "python",
   "pygments_lexer": "ipython3",
   "version": "3.8.5"
  }
 },
 "nbformat": 4,
 "nbformat_minor": 5
}
