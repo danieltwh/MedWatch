{
 "cells": [
  {
   "cell_type": "code",
   "execution_count": 1,
   "id": "e5f2b787",
   "metadata": {
    "pycharm": {
     "name": "#%%\n"
    }
   },
   "outputs": [],
   "source": [
    "from detectionmodel import FallDetection\n",
    "import cv2\n",
    "import os\n",
    "import pandas as pd\n",
    "from pathlib import Path"
   ]
  },
  {
   "cell_type": "code",
   "execution_count": 2,
   "id": "6ff03d1d",
   "metadata": {
    "pycharm": {
     "name": "#%%\n"
    }
   },
   "outputs": [],
   "source": [
    "def get_subdirectories(path):\n",
    "    return [d for d in os.listdir(path) if os.path.isdir(os.path.join(path, d))]"
   ]
  },
  {
   "cell_type": "code",
   "execution_count": 3,
   "id": "3d33ccaa",
   "metadata": {
    "pycharm": {
     "name": "#%%\n"
    }
   },
   "outputs": [],
   "source": [
    "def get_filenames(directory):\n",
    "    dir_path = Path(directory)\n",
    "    return [f.name for f in dir_path.iterdir() if f.is_file()]"
   ]
  },
  {
   "cell_type": "code",
   "execution_count": 4,
   "id": "b5d69074",
   "metadata": {
    "pycharm": {
     "name": "#%%\n"
    }
   },
   "outputs": [],
   "source": [
    "def video_fall_detection(video_path, model):\n",
    "    cap = cv2.VideoCapture(str(video_path))\n",
    "    fall_detector = FallDetection(model)\n",
    "\n",
    "    if not cap.isOpened():\n",
    "        print(\"Cannot open video\")\n",
    "        exit()\n",
    "    \n",
    "    # Define the codec and create VideoWriter object\n",
    "    fourcc = cv2.VideoWriter_fourcc(*'XVID')\n",
    "    out = cv2.VideoWriter('output.avi', fourcc, 20.0, (int(cap.get(3)), int(cap.get(4))))\n",
    "\n",
    "    while True:\n",
    "        success, frame = cap.read()\n",
    "        if not success:\n",
    "            break\n",
    "\n",
    "        colour = (0, 255, 0)\n",
    "\n",
    "        try:\n",
    "            fall_indicator = fall_detector.detect_fall(frame)\n",
    "            print(fall_indicator)\n",
    "            if fall_indicator:\n",
    "                colour = (0, 0, 255)\n",
    "                frame = fall_detector.plot_logo(frame)\n",
    "            topX, topY, botX, botY = fall_detector.give_top_bot_xy()\n",
    "            print(topX, topY, botX, botY)\n",
    "\n",
    "            # Plot okay/fall rectangle\n",
    "            frame = cv2.rectangle(frame, (topX, topY), (botX, botY), colour, 2)\n",
    "        except Exception as e:\n",
    "            frame = frame\n",
    "            # If you want to debug the exceptions, you can uncomment the print statement\n",
    "            print(f\"Error processing frame: {e}\")\n",
    "\n",
    "        # Write the frame into the output video\n",
    "        out.write(frame)\n",
    "        \n",
    "        # To display the frame, uncomment the next two lines\n",
    "        cv2.imshow(\"Fall Detection\", frame)\n",
    "        if cv2.waitKey(1) & 0xFF == ord('q'):\n",
    "            break\n",
    "\n",
    "    cap.release()\n",
    "    out.release()  # Release the VideoWriter\n",
    "    # If you're displaying frames, you'd also want to uncomment the following line\n",
    "    cv2.destroyAllWindows()\n",
    "    \n",
    "    return fall_detector.output_stats()"
   ]
  },
  {
   "cell_type": "code",
   "execution_count": 5,
   "id": "51ba0892",
   "metadata": {
    "pycharm": {
     "name": "#%%\n"
    },
    "scrolled": true
   },
   "outputs": [],
   "source": [
    "def get_test_results(model,video_dir,fall_patterns_dir):\n",
    "    complete_test_results = []\n",
    "    for fall_pattern_path in fall_patterns_dir:\n",
    "        print(fall_pattern_path)\n",
    "        fall_pattern_full_path = Path(video_dir,fall_pattern_path)\n",
    "        cam_angles_paths = get_filenames(fall_pattern_full_path)\n",
    "        for cam_angles_path in cam_angles_paths:\n",
    "            print(cam_angles_path)\n",
    "            cam_angle_full_path = Path(fall_pattern_full_path,cam_angles_path)\n",
    "            test_result = video_fall_detection(cam_angle_full_path,model)\n",
    "            test_result['Angle'] = cam_angles_path[:-4]\n",
    "            test_result['Fall Type'] = fall_pattern_path\n",
    "            complete_test_results.append(test_result)\n",
    "    df_results = pd.DataFrame(complete_test_results)\n",
    "    df_results['model'] = model\n",
    "    return df_results"
   ]
  },
  {
   "cell_type": "code",
   "execution_count": 6,
   "id": "91e57681",
   "metadata": {
    "pycharm": {
     "name": "#%%\n"
    }
   },
   "outputs": [],
   "source": [
    "video_dir = Path(os.getcwd(),'./Videos')"
   ]
  },
  {
   "cell_type": "code",
   "execution_count": 7,
   "id": "2a596d6e",
   "metadata": {
    "pycharm": {
     "name": "#%%\n"
    }
   },
   "outputs": [],
   "source": [
    "fall_patterns_dir = ['chute04']"
   ]
  },
  {
   "cell_type": "code",
   "execution_count": 8,
   "id": "9c1773e5",
   "metadata": {
    "pycharm": {
     "name": "#%%\n"
    }
   },
   "outputs": [],
   "source": [
    "models = ['yolov8s-pose.pt']"
   ]
  },
  {
   "cell_type": "code",
   "execution_count": 9,
   "id": "7a403840",
   "metadata": {
    "pycharm": {
     "name": "#%%\n"
    },
    "scrolled": true
   },
   "outputs": [
    {
     "name": "stdout",
     "output_type": "stream",
     "text": [
      "yolov8s-pose.pt\n",
      "chute04\n",
      "cam8.mp4\n"
     ]
    },
    {
     "name": "stderr",
     "output_type": "stream",
     "text": [
      "\n",
      "0: 448x640 (no detections), 231.4ms\n",
      "Speed: 3.1ms preprocess, 231.4ms inference, 1.0ms postprocess per image at shape (1, 3, 448, 640)\n",
      "\n"
     ]
    },
    {
     "name": "stdout",
     "output_type": "stream",
     "text": [
      "False\n",
      "Error processing frame: 'FallDetection' object has no attribute 'topX'\n"
     ]
    },
    {
     "name": "stderr",
     "output_type": "stream",
     "text": [
      "0: 448x640 (no detections), 229.6ms\n",
      "Speed: 4.4ms preprocess, 229.6ms inference, 1.0ms postprocess per image at shape (1, 3, 448, 640)\n",
      "\n"
     ]
    },
    {
     "name": "stdout",
     "output_type": "stream",
     "text": [
      "False\n",
      "Error processing frame: 'FallDetection' object has no attribute 'topX'\n"
     ]
    },
    {
     "name": "stderr",
     "output_type": "stream",
     "text": [
      "0: 448x640 (no detections), 224.8ms\n",
      "Speed: 2.7ms preprocess, 224.8ms inference, 1.0ms postprocess per image at shape (1, 3, 448, 640)\n",
      "\n"
     ]
    },
    {
     "name": "stdout",
     "output_type": "stream",
     "text": [
      "False\n",
      "Error processing frame: 'FallDetection' object has no attribute 'topX'\n"
     ]
    },
    {
     "name": "stderr",
     "output_type": "stream",
     "text": [
      "0: 448x640 (no detections), 239.6ms\n",
      "Speed: 3.1ms preprocess, 239.6ms inference, 1.0ms postprocess per image at shape (1, 3, 448, 640)\n",
      "\n"
     ]
    },
    {
     "name": "stdout",
     "output_type": "stream",
     "text": [
      "False\n",
      "Error processing frame: 'FallDetection' object has no attribute 'topX'\n"
     ]
    },
    {
     "name": "stderr",
     "output_type": "stream",
     "text": [
      "0: 448x640 (no detections), 222.5ms\n",
      "Speed: 3.7ms preprocess, 222.5ms inference, 1.0ms postprocess per image at shape (1, 3, 448, 640)\n",
      "\n"
     ]
    },
    {
     "name": "stdout",
     "output_type": "stream",
     "text": [
      "False\n",
      "Error processing frame: 'FallDetection' object has no attribute 'topX'\n"
     ]
    },
    {
     "name": "stderr",
     "output_type": "stream",
     "text": [
      "0: 448x640 (no detections), 242.9ms\n",
      "Speed: 2.2ms preprocess, 242.9ms inference, 0.0ms postprocess per image at shape (1, 3, 448, 640)\n",
      "\n"
     ]
    },
    {
     "name": "stdout",
     "output_type": "stream",
     "text": [
      "False\n",
      "Error processing frame: 'FallDetection' object has no attribute 'topX'\n"
     ]
    },
    {
     "name": "stderr",
     "output_type": "stream",
     "text": [
      "0: 448x640 (no detections), 234.6ms\n",
      "Speed: 2.3ms preprocess, 234.6ms inference, 1.4ms postprocess per image at shape (1, 3, 448, 640)\n",
      "\n"
     ]
    },
    {
     "name": "stdout",
     "output_type": "stream",
     "text": [
      "False\n",
      "Error processing frame: 'FallDetection' object has no attribute 'topX'\n"
     ]
    },
    {
     "name": "stderr",
     "output_type": "stream",
     "text": [
      "0: 448x640 (no detections), 224.0ms\n",
      "Speed: 2.0ms preprocess, 224.0ms inference, 1.3ms postprocess per image at shape (1, 3, 448, 640)\n",
      "\n"
     ]
    },
    {
     "name": "stdout",
     "output_type": "stream",
     "text": [
      "False\n",
      "Error processing frame: 'FallDetection' object has no attribute 'topX'\n"
     ]
    },
    {
     "name": "stderr",
     "output_type": "stream",
     "text": [
      "0: 448x640 (no detections), 221.0ms\n",
      "Speed: 3.2ms preprocess, 221.0ms inference, 1.0ms postprocess per image at shape (1, 3, 448, 640)\n",
      "\n"
     ]
    },
    {
     "name": "stdout",
     "output_type": "stream",
     "text": [
      "False\n",
      "Error processing frame: 'FallDetection' object has no attribute 'topX'\n"
     ]
    },
    {
     "name": "stderr",
     "output_type": "stream",
     "text": [
      "0: 448x640 (no detections), 215.0ms\n",
      "Speed: 2.0ms preprocess, 215.0ms inference, 1.0ms postprocess per image at shape (1, 3, 448, 640)\n",
      "\n"
     ]
    },
    {
     "name": "stdout",
     "output_type": "stream",
     "text": [
      "False\n",
      "Error processing frame: 'FallDetection' object has no attribute 'topX'\n"
     ]
    },
    {
     "name": "stderr",
     "output_type": "stream",
     "text": [
      "0: 448x640 (no detections), 255.1ms\n",
      "Speed: 2.5ms preprocess, 255.1ms inference, 1.0ms postprocess per image at shape (1, 3, 448, 640)\n",
      "\n"
     ]
    },
    {
     "name": "stdout",
     "output_type": "stream",
     "text": [
      "False\n",
      "Error processing frame: 'FallDetection' object has no attribute 'topX'\n"
     ]
    },
    {
     "name": "stderr",
     "output_type": "stream",
     "text": [
      "0: 448x640 (no detections), 226.2ms\n",
      "Speed: 3.0ms preprocess, 226.2ms inference, 0.0ms postprocess per image at shape (1, 3, 448, 640)\n",
      "\n"
     ]
    },
    {
     "name": "stdout",
     "output_type": "stream",
     "text": [
      "False\n",
      "Error processing frame: 'FallDetection' object has no attribute 'topX'\n"
     ]
    },
    {
     "name": "stderr",
     "output_type": "stream",
     "text": [
      "0: 448x640 (no detections), 226.6ms\n",
      "Speed: 3.1ms preprocess, 226.6ms inference, 1.0ms postprocess per image at shape (1, 3, 448, 640)\n",
      "\n"
     ]
    },
    {
     "name": "stdout",
     "output_type": "stream",
     "text": [
      "False\n",
      "Error processing frame: 'FallDetection' object has no attribute 'topX'\n"
     ]
    },
    {
     "name": "stderr",
     "output_type": "stream",
     "text": [
      "0: 448x640 (no detections), 220.6ms\n",
      "Speed: 2.9ms preprocess, 220.6ms inference, 1.0ms postprocess per image at shape (1, 3, 448, 640)\n",
      "\n"
     ]
    },
    {
     "name": "stdout",
     "output_type": "stream",
     "text": [
      "False\n",
      "Error processing frame: 'FallDetection' object has no attribute 'topX'\n"
     ]
    },
    {
     "name": "stderr",
     "output_type": "stream",
     "text": [
      "0: 448x640 (no detections), 235.4ms\n",
      "Speed: 2.2ms preprocess, 235.4ms inference, 0.5ms postprocess per image at shape (1, 3, 448, 640)\n",
      "\n"
     ]
    },
    {
     "name": "stdout",
     "output_type": "stream",
     "text": [
      "False\n",
      "Error processing frame: 'FallDetection' object has no attribute 'topX'\n"
     ]
    },
    {
     "name": "stderr",
     "output_type": "stream",
     "text": [
      "0: 448x640 (no detections), 201.6ms\n",
      "Speed: 2.6ms preprocess, 201.6ms inference, 0.0ms postprocess per image at shape (1, 3, 448, 640)\n",
      "\n"
     ]
    },
    {
     "name": "stdout",
     "output_type": "stream",
     "text": [
      "False\n",
      "Error processing frame: 'FallDetection' object has no attribute 'topX'\n"
     ]
    },
    {
     "name": "stderr",
     "output_type": "stream",
     "text": [
      "0: 448x640 (no detections), 204.9ms\n",
      "Speed: 2.0ms preprocess, 204.9ms inference, 1.0ms postprocess per image at shape (1, 3, 448, 640)\n",
      "\n"
     ]
    },
    {
     "name": "stdout",
     "output_type": "stream",
     "text": [
      "False\n",
      "Error processing frame: 'FallDetection' object has no attribute 'topX'\n"
     ]
    },
    {
     "name": "stderr",
     "output_type": "stream",
     "text": [
      "0: 448x640 (no detections), 201.1ms\n",
      "Speed: 3.0ms preprocess, 201.1ms inference, 0.0ms postprocess per image at shape (1, 3, 448, 640)\n",
      "\n"
     ]
    },
    {
     "name": "stdout",
     "output_type": "stream",
     "text": [
      "False\n",
      "Error processing frame: 'FallDetection' object has no attribute 'topX'\n"
     ]
    },
    {
     "name": "stderr",
     "output_type": "stream",
     "text": [
      "0: 448x640 (no detections), 207.6ms\n",
      "Speed: 2.1ms preprocess, 207.6ms inference, 0.0ms postprocess per image at shape (1, 3, 448, 640)\n",
      "\n"
     ]
    },
    {
     "name": "stdout",
     "output_type": "stream",
     "text": [
      "False\n",
      "Error processing frame: 'FallDetection' object has no attribute 'topX'\n"
     ]
    },
    {
     "name": "stderr",
     "output_type": "stream",
     "text": [
      "0: 448x640 (no detections), 204.4ms\n",
      "Speed: 1.5ms preprocess, 204.4ms inference, 1.4ms postprocess per image at shape (1, 3, 448, 640)\n",
      "\n"
     ]
    },
    {
     "name": "stdout",
     "output_type": "stream",
     "text": [
      "False\n",
      "Error processing frame: 'FallDetection' object has no attribute 'topX'\n"
     ]
    },
    {
     "name": "stderr",
     "output_type": "stream",
     "text": [
      "0: 448x640 (no detections), 197.4ms\n",
      "Speed: 2.6ms preprocess, 197.4ms inference, 0.5ms postprocess per image at shape (1, 3, 448, 640)\n",
      "\n",
      "0: 448x640 (no detections), 193.5ms\n"
     ]
    },
    {
     "name": "stdout",
     "output_type": "stream",
     "text": [
      "False\n",
      "Error processing frame: 'FallDetection' object has no attribute 'topX'\n"
     ]
    },
    {
     "name": "stderr",
     "output_type": "stream",
     "text": [
      "Speed: 2.1ms preprocess, 193.5ms inference, 1.0ms postprocess per image at shape (1, 3, 448, 640)\n",
      "\n"
     ]
    },
    {
     "name": "stdout",
     "output_type": "stream",
     "text": [
      "False\n",
      "Error processing frame: 'FallDetection' object has no attribute 'topX'\n"
     ]
    },
    {
     "name": "stderr",
     "output_type": "stream",
     "text": [
      "0: 448x640 (no detections), 205.4ms\n",
      "Speed: 2.5ms preprocess, 205.4ms inference, 1.0ms postprocess per image at shape (1, 3, 448, 640)\n",
      "\n"
     ]
    },
    {
     "name": "stdout",
     "output_type": "stream",
     "text": [
      "False\n",
      "Error processing frame: 'FallDetection' object has no attribute 'topX'\n"
     ]
    },
    {
     "name": "stderr",
     "output_type": "stream",
     "text": [
      "0: 448x640 (no detections), 203.3ms\n",
      "Speed: 2.5ms preprocess, 203.3ms inference, 1.1ms postprocess per image at shape (1, 3, 448, 640)\n",
      "\n"
     ]
    },
    {
     "name": "stdout",
     "output_type": "stream",
     "text": [
      "False\n",
      "Error processing frame: 'FallDetection' object has no attribute 'topX'\n"
     ]
    },
    {
     "name": "stderr",
     "output_type": "stream",
     "text": [
      "0: 448x640 (no detections), 220.8ms\n",
      "Speed: 2.0ms preprocess, 220.8ms inference, 1.0ms postprocess per image at shape (1, 3, 448, 640)\n",
      "\n"
     ]
    },
    {
     "name": "stdout",
     "output_type": "stream",
     "text": [
      "False\n",
      "Error processing frame: 'FallDetection' object has no attribute 'topX'\n"
     ]
    },
    {
     "name": "stderr",
     "output_type": "stream",
     "text": [
      "0: 448x640 (no detections), 212.9ms\n",
      "Speed: 2.4ms preprocess, 212.9ms inference, 0.5ms postprocess per image at shape (1, 3, 448, 640)\n",
      "\n"
     ]
    },
    {
     "name": "stdout",
     "output_type": "stream",
     "text": [
      "False\n",
      "Error processing frame: 'FallDetection' object has no attribute 'topX'\n"
     ]
    },
    {
     "name": "stderr",
     "output_type": "stream",
     "text": [
      "0: 448x640 (no detections), 199.9ms\n",
      "Speed: 3.0ms preprocess, 199.9ms inference, 0.0ms postprocess per image at shape (1, 3, 448, 640)\n",
      "\n"
     ]
    },
    {
     "name": "stdout",
     "output_type": "stream",
     "text": [
      "False\n",
      "Error processing frame: 'FallDetection' object has no attribute 'topX'\n"
     ]
    },
    {
     "name": "stderr",
     "output_type": "stream",
     "text": [
      "0: 448x640 (no detections), 209.8ms\n",
      "Speed: 2.0ms preprocess, 209.8ms inference, 1.0ms postprocess per image at shape (1, 3, 448, 640)\n",
      "\n"
     ]
    },
    {
     "name": "stdout",
     "output_type": "stream",
     "text": [
      "False\n",
      "Error processing frame: 'FallDetection' object has no attribute 'topX'\n"
     ]
    },
    {
     "name": "stderr",
     "output_type": "stream",
     "text": [
      "0: 448x640 (no detections), 198.3ms\n",
      "Speed: 2.1ms preprocess, 198.3ms inference, 1.0ms postprocess per image at shape (1, 3, 448, 640)\n",
      "\n"
     ]
    },
    {
     "name": "stdout",
     "output_type": "stream",
     "text": [
      "False\n",
      "Error processing frame: 'FallDetection' object has no attribute 'topX'\n"
     ]
    },
    {
     "name": "stderr",
     "output_type": "stream",
     "text": [
      "0: 448x640 (no detections), 201.7ms\n",
      "Speed: 2.0ms preprocess, 201.7ms inference, 1.0ms postprocess per image at shape (1, 3, 448, 640)\n",
      "\n"
     ]
    },
    {
     "name": "stdout",
     "output_type": "stream",
     "text": [
      "False\n",
      "Error processing frame: 'FallDetection' object has no attribute 'topX'\n"
     ]
    },
    {
     "name": "stderr",
     "output_type": "stream",
     "text": [
      "0: 448x640 (no detections), 204.3ms\n",
      "Speed: 2.0ms preprocess, 204.3ms inference, 0.0ms postprocess per image at shape (1, 3, 448, 640)\n",
      "\n"
     ]
    },
    {
     "name": "stdout",
     "output_type": "stream",
     "text": [
      "False\n",
      "Error processing frame: 'FallDetection' object has no attribute 'topX'\n"
     ]
    },
    {
     "name": "stderr",
     "output_type": "stream",
     "text": [
      "0: 448x640 (no detections), 203.6ms\n",
      "Speed: 2.3ms preprocess, 203.6ms inference, 0.0ms postprocess per image at shape (1, 3, 448, 640)\n",
      "\n"
     ]
    },
    {
     "name": "stdout",
     "output_type": "stream",
     "text": [
      "False\n",
      "Error processing frame: 'FallDetection' object has no attribute 'topX'\n"
     ]
    },
    {
     "name": "stderr",
     "output_type": "stream",
     "text": [
      "0: 448x640 (no detections), 211.6ms\n",
      "Speed: 2.0ms preprocess, 211.6ms inference, 1.0ms postprocess per image at shape (1, 3, 448, 640)\n",
      "\n"
     ]
    },
    {
     "name": "stdout",
     "output_type": "stream",
     "text": [
      "False\n",
      "Error processing frame: 'FallDetection' object has no attribute 'topX'\n"
     ]
    },
    {
     "name": "stderr",
     "output_type": "stream",
     "text": [
      "0: 448x640 (no detections), 204.2ms\n",
      "Speed: 2.0ms preprocess, 204.2ms inference, 0.5ms postprocess per image at shape (1, 3, 448, 640)\n",
      "\n",
      "0: 448x640 (no detections), 198.6ms\n"
     ]
    },
    {
     "name": "stdout",
     "output_type": "stream",
     "text": [
      "False\n",
      "Error processing frame: 'FallDetection' object has no attribute 'topX'\n"
     ]
    },
    {
     "name": "stderr",
     "output_type": "stream",
     "text": [
      "Speed: 3.0ms preprocess, 198.6ms inference, 1.0ms postprocess per image at shape (1, 3, 448, 640)\n",
      "\n"
     ]
    },
    {
     "name": "stdout",
     "output_type": "stream",
     "text": [
      "False\n",
      "Error processing frame: 'FallDetection' object has no attribute 'topX'\n"
     ]
    },
    {
     "name": "stderr",
     "output_type": "stream",
     "text": [
      "0: 448x640 (no detections), 201.4ms\n",
      "Speed: 2.0ms preprocess, 201.4ms inference, 1.5ms postprocess per image at shape (1, 3, 448, 640)\n",
      "\n"
     ]
    },
    {
     "name": "stdout",
     "output_type": "stream",
     "text": [
      "False\n",
      "Error processing frame: 'FallDetection' object has no attribute 'topX'\n"
     ]
    },
    {
     "name": "stderr",
     "output_type": "stream",
     "text": [
      "0: 448x640 (no detections), 198.8ms\n",
      "Speed: 2.0ms preprocess, 198.8ms inference, 0.5ms postprocess per image at shape (1, 3, 448, 640)\n",
      "\n"
     ]
    },
    {
     "name": "stdout",
     "output_type": "stream",
     "text": [
      "False\n",
      "Error processing frame: 'FallDetection' object has no attribute 'topX'\n"
     ]
    },
    {
     "name": "stderr",
     "output_type": "stream",
     "text": [
      "0: 448x640 (no detections), 200.4ms\n",
      "Speed: 2.4ms preprocess, 200.4ms inference, 0.0ms postprocess per image at shape (1, 3, 448, 640)\n",
      "\n"
     ]
    },
    {
     "name": "stdout",
     "output_type": "stream",
     "text": [
      "False\n",
      "Error processing frame: 'FallDetection' object has no attribute 'topX'\n"
     ]
    },
    {
     "name": "stderr",
     "output_type": "stream",
     "text": [
      "0: 448x640 (no detections), 206.9ms\n",
      "Speed: 2.7ms preprocess, 206.9ms inference, 1.0ms postprocess per image at shape (1, 3, 448, 640)\n",
      "\n"
     ]
    },
    {
     "name": "stdout",
     "output_type": "stream",
     "text": [
      "False\n",
      "Error processing frame: 'FallDetection' object has no attribute 'topX'\n"
     ]
    },
    {
     "name": "stderr",
     "output_type": "stream",
     "text": [
      "0: 448x640 (no detections), 204.7ms\n",
      "Speed: 2.1ms preprocess, 204.7ms inference, 0.0ms postprocess per image at shape (1, 3, 448, 640)\n",
      "\n"
     ]
    },
    {
     "name": "stdout",
     "output_type": "stream",
     "text": [
      "False\n",
      "Error processing frame: 'FallDetection' object has no attribute 'topX'\n"
     ]
    },
    {
     "name": "stderr",
     "output_type": "stream",
     "text": [
      "0: 448x640 (no detections), 202.7ms\n",
      "Speed: 2.0ms preprocess, 202.7ms inference, 0.0ms postprocess per image at shape (1, 3, 448, 640)\n",
      "\n",
      "0: 448x640 (no detections), 194.1ms\n"
     ]
    },
    {
     "name": "stdout",
     "output_type": "stream",
     "text": [
      "False\n",
      "Error processing frame: 'FallDetection' object has no attribute 'topX'\n"
     ]
    },
    {
     "name": "stderr",
     "output_type": "stream",
     "text": [
      "Speed: 1.5ms preprocess, 194.1ms inference, 0.0ms postprocess per image at shape (1, 3, 448, 640)\n",
      "\n"
     ]
    },
    {
     "name": "stdout",
     "output_type": "stream",
     "text": [
      "False\n",
      "Error processing frame: 'FallDetection' object has no attribute 'topX'\n"
     ]
    },
    {
     "name": "stderr",
     "output_type": "stream",
     "text": [
      "0: 448x640 (no detections), 205.3ms\n",
      "Speed: 2.5ms preprocess, 205.3ms inference, 1.1ms postprocess per image at shape (1, 3, 448, 640)\n",
      "\n"
     ]
    },
    {
     "name": "stdout",
     "output_type": "stream",
     "text": [
      "False\n",
      "Error processing frame: 'FallDetection' object has no attribute 'topX'\n"
     ]
    },
    {
     "name": "stderr",
     "output_type": "stream",
     "text": [
      "0: 448x640 (no detections), 200.3ms\n",
      "Speed: 2.2ms preprocess, 200.3ms inference, 0.5ms postprocess per image at shape (1, 3, 448, 640)\n",
      "\n"
     ]
    },
    {
     "name": "stdout",
     "output_type": "stream",
     "text": [
      "False\n",
      "Error processing frame: 'FallDetection' object has no attribute 'topX'\n"
     ]
    },
    {
     "name": "stderr",
     "output_type": "stream",
     "text": [
      "0: 448x640 (no detections), 205.3ms\n",
      "Speed: 2.0ms preprocess, 205.3ms inference, 0.8ms postprocess per image at shape (1, 3, 448, 640)\n",
      "\n"
     ]
    },
    {
     "name": "stdout",
     "output_type": "stream",
     "text": [
      "False\n",
      "Error processing frame: 'FallDetection' object has no attribute 'topX'\n"
     ]
    },
    {
     "name": "stderr",
     "output_type": "stream",
     "text": [
      "0: 448x640 (no detections), 205.4ms\n",
      "Speed: 2.1ms preprocess, 205.4ms inference, 0.5ms postprocess per image at shape (1, 3, 448, 640)\n",
      "\n"
     ]
    },
    {
     "name": "stdout",
     "output_type": "stream",
     "text": [
      "False\n",
      "Error processing frame: 'FallDetection' object has no attribute 'topX'\n"
     ]
    },
    {
     "name": "stderr",
     "output_type": "stream",
     "text": [
      "0: 448x640 (no detections), 202.1ms\n",
      "Speed: 2.7ms preprocess, 202.1ms inference, 0.0ms postprocess per image at shape (1, 3, 448, 640)\n",
      "\n"
     ]
    },
    {
     "name": "stdout",
     "output_type": "stream",
     "text": [
      "False\n",
      "Error processing frame: 'FallDetection' object has no attribute 'topX'\n"
     ]
    },
    {
     "name": "stderr",
     "output_type": "stream",
     "text": [
      "0: 448x640 (no detections), 231.1ms\n",
      "Speed: 3.1ms preprocess, 231.1ms inference, 0.5ms postprocess per image at shape (1, 3, 448, 640)\n",
      "\n"
     ]
    },
    {
     "name": "stdout",
     "output_type": "stream",
     "text": [
      "False\n",
      "Error processing frame: 'FallDetection' object has no attribute 'topX'\n"
     ]
    },
    {
     "name": "stderr",
     "output_type": "stream",
     "text": [
      "0: 448x640 (no detections), 212.7ms\n",
      "Speed: 2.0ms preprocess, 212.7ms inference, 1.0ms postprocess per image at shape (1, 3, 448, 640)\n",
      "\n"
     ]
    },
    {
     "name": "stdout",
     "output_type": "stream",
     "text": [
      "False\n",
      "Error processing frame: 'FallDetection' object has no attribute 'topX'\n"
     ]
    },
    {
     "name": "stderr",
     "output_type": "stream",
     "text": [
      "0: 448x640 (no detections), 204.4ms\n",
      "Speed: 2.1ms preprocess, 204.4ms inference, 0.5ms postprocess per image at shape (1, 3, 448, 640)\n",
      "\n"
     ]
    },
    {
     "name": "stdout",
     "output_type": "stream",
     "text": [
      "False\n",
      "Error processing frame: 'FallDetection' object has no attribute 'topX'\n"
     ]
    },
    {
     "name": "stderr",
     "output_type": "stream",
     "text": [
      "0: 448x640 (no detections), 205.5ms\n",
      "Speed: 2.3ms preprocess, 205.5ms inference, 0.0ms postprocess per image at shape (1, 3, 448, 640)\n",
      "\n"
     ]
    },
    {
     "name": "stdout",
     "output_type": "stream",
     "text": [
      "False\n",
      "Error processing frame: 'FallDetection' object has no attribute 'topX'\n"
     ]
    },
    {
     "name": "stderr",
     "output_type": "stream",
     "text": [
      "0: 448x640 (no detections), 208.3ms\n",
      "Speed: 1.8ms preprocess, 208.3ms inference, 1.0ms postprocess per image at shape (1, 3, 448, 640)\n",
      "\n"
     ]
    },
    {
     "name": "stdout",
     "output_type": "stream",
     "text": [
      "False\n",
      "Error processing frame: 'FallDetection' object has no attribute 'topX'\n"
     ]
    },
    {
     "name": "stderr",
     "output_type": "stream",
     "text": [
      "0: 448x640 (no detections), 208.4ms\n",
      "Speed: 2.1ms preprocess, 208.4ms inference, 1.0ms postprocess per image at shape (1, 3, 448, 640)\n",
      "\n"
     ]
    },
    {
     "name": "stdout",
     "output_type": "stream",
     "text": [
      "False\n",
      "Error processing frame: 'FallDetection' object has no attribute 'topX'\n"
     ]
    },
    {
     "name": "stderr",
     "output_type": "stream",
     "text": [
      "0: 448x640 (no detections), 217.1ms\n",
      "Speed: 2.0ms preprocess, 217.1ms inference, 0.0ms postprocess per image at shape (1, 3, 448, 640)\n",
      "\n"
     ]
    },
    {
     "name": "stdout",
     "output_type": "stream",
     "text": [
      "False\n",
      "Error processing frame: 'FallDetection' object has no attribute 'topX'\n"
     ]
    },
    {
     "name": "stderr",
     "output_type": "stream",
     "text": [
      "0: 448x640 (no detections), 203.5ms\n",
      "Speed: 2.0ms preprocess, 203.5ms inference, 0.0ms postprocess per image at shape (1, 3, 448, 640)\n",
      "\n"
     ]
    },
    {
     "name": "stdout",
     "output_type": "stream",
     "text": [
      "False\n",
      "Error processing frame: 'FallDetection' object has no attribute 'topX'\n"
     ]
    },
    {
     "name": "stderr",
     "output_type": "stream",
     "text": [
      "0: 448x640 (no detections), 199.6ms\n",
      "Speed: 2.0ms preprocess, 199.6ms inference, 0.0ms postprocess per image at shape (1, 3, 448, 640)\n",
      "\n"
     ]
    },
    {
     "name": "stdout",
     "output_type": "stream",
     "text": [
      "False\n",
      "Error processing frame: 'FallDetection' object has no attribute 'topX'\n"
     ]
    },
    {
     "name": "stderr",
     "output_type": "stream",
     "text": [
      "0: 448x640 (no detections), 202.4ms\n",
      "Speed: 2.0ms preprocess, 202.4ms inference, 1.0ms postprocess per image at shape (1, 3, 448, 640)\n",
      "\n"
     ]
    },
    {
     "name": "stdout",
     "output_type": "stream",
     "text": [
      "False\n",
      "Error processing frame: 'FallDetection' object has no attribute 'topX'\n"
     ]
    },
    {
     "name": "stderr",
     "output_type": "stream",
     "text": [
      "0: 448x640 (no detections), 202.5ms\n",
      "Speed: 3.0ms preprocess, 202.5ms inference, 0.5ms postprocess per image at shape (1, 3, 448, 640)\n",
      "\n"
     ]
    },
    {
     "name": "stdout",
     "output_type": "stream",
     "text": [
      "False\n",
      "Error processing frame: 'FallDetection' object has no attribute 'topX'\n"
     ]
    },
    {
     "name": "stderr",
     "output_type": "stream",
     "text": [
      "0: 448x640 (no detections), 201.6ms\n",
      "Speed: 2.5ms preprocess, 201.6ms inference, 1.0ms postprocess per image at shape (1, 3, 448, 640)\n",
      "\n"
     ]
    },
    {
     "name": "stdout",
     "output_type": "stream",
     "text": [
      "False\n",
      "Error processing frame: 'FallDetection' object has no attribute 'topX'\n"
     ]
    },
    {
     "name": "stderr",
     "output_type": "stream",
     "text": [
      "0: 448x640 (no detections), 205.4ms\n",
      "Speed: 2.5ms preprocess, 205.4ms inference, 1.0ms postprocess per image at shape (1, 3, 448, 640)\n",
      "\n",
      "0: 448x640 (no detections), 207.1ms\n"
     ]
    },
    {
     "name": "stdout",
     "output_type": "stream",
     "text": [
      "False\n",
      "Error processing frame: 'FallDetection' object has no attribute 'topX'\n"
     ]
    },
    {
     "name": "stderr",
     "output_type": "stream",
     "text": [
      "Speed: 2.0ms preprocess, 207.1ms inference, 0.0ms postprocess per image at shape (1, 3, 448, 640)\n",
      "\n"
     ]
    },
    {
     "name": "stdout",
     "output_type": "stream",
     "text": [
      "False\n",
      "Error processing frame: 'FallDetection' object has no attribute 'topX'\n"
     ]
    },
    {
     "name": "stderr",
     "output_type": "stream",
     "text": [
      "0: 448x640 (no detections), 208.8ms\n",
      "Speed: 2.0ms preprocess, 208.8ms inference, 0.0ms postprocess per image at shape (1, 3, 448, 640)\n",
      "\n"
     ]
    },
    {
     "name": "stdout",
     "output_type": "stream",
     "text": [
      "False\n",
      "Error processing frame: 'FallDetection' object has no attribute 'topX'\n"
     ]
    },
    {
     "name": "stderr",
     "output_type": "stream",
     "text": [
      "0: 448x640 (no detections), 211.7ms\n",
      "Speed: 1.5ms preprocess, 211.7ms inference, 0.0ms postprocess per image at shape (1, 3, 448, 640)\n",
      "\n"
     ]
    },
    {
     "name": "stdout",
     "output_type": "stream",
     "text": [
      "False\n",
      "Error processing frame: 'FallDetection' object has no attribute 'topX'\n"
     ]
    },
    {
     "name": "stderr",
     "output_type": "stream",
     "text": [
      "0: 448x640 (no detections), 199.2ms\n",
      "Speed: 2.4ms preprocess, 199.2ms inference, 0.0ms postprocess per image at shape (1, 3, 448, 640)\n",
      "\n"
     ]
    },
    {
     "name": "stdout",
     "output_type": "stream",
     "text": [
      "False\n",
      "Error processing frame: 'FallDetection' object has no attribute 'topX'\n"
     ]
    },
    {
     "name": "stderr",
     "output_type": "stream",
     "text": [
      "0: 448x640 (no detections), 202.1ms\n",
      "Speed: 1.7ms preprocess, 202.1ms inference, 1.0ms postprocess per image at shape (1, 3, 448, 640)\n",
      "\n"
     ]
    },
    {
     "name": "stdout",
     "output_type": "stream",
     "text": [
      "False\n",
      "Error processing frame: 'FallDetection' object has no attribute 'topX'\n"
     ]
    },
    {
     "name": "stderr",
     "output_type": "stream",
     "text": [
      "0: 448x640 (no detections), 196.5ms\n",
      "Speed: 3.0ms preprocess, 196.5ms inference, 1.1ms postprocess per image at shape (1, 3, 448, 640)\n",
      "\n"
     ]
    },
    {
     "name": "stdout",
     "output_type": "stream",
     "text": [
      "False\n",
      "Error processing frame: 'FallDetection' object has no attribute 'topX'\n"
     ]
    },
    {
     "name": "stderr",
     "output_type": "stream",
     "text": [
      "0: 448x640 (no detections), 220.6ms\n",
      "Speed: 3.3ms preprocess, 220.6ms inference, 0.5ms postprocess per image at shape (1, 3, 448, 640)\n",
      "\n"
     ]
    },
    {
     "name": "stdout",
     "output_type": "stream",
     "text": [
      "False\n",
      "Error processing frame: 'FallDetection' object has no attribute 'topX'\n"
     ]
    },
    {
     "name": "stderr",
     "output_type": "stream",
     "text": [
      "0: 448x640 (no detections), 223.5ms\n",
      "Speed: 3.0ms preprocess, 223.5ms inference, 0.0ms postprocess per image at shape (1, 3, 448, 640)\n",
      "\n"
     ]
    },
    {
     "name": "stdout",
     "output_type": "stream",
     "text": [
      "False\n",
      "Error processing frame: 'FallDetection' object has no attribute 'topX'\n"
     ]
    },
    {
     "name": "stderr",
     "output_type": "stream",
     "text": [
      "0: 448x640 (no detections), 205.3ms\n",
      "Speed: 2.2ms preprocess, 205.3ms inference, 1.0ms postprocess per image at shape (1, 3, 448, 640)\n",
      "\n"
     ]
    },
    {
     "name": "stdout",
     "output_type": "stream",
     "text": [
      "False\n",
      "Error processing frame: 'FallDetection' object has no attribute 'topX'\n"
     ]
    },
    {
     "name": "stderr",
     "output_type": "stream",
     "text": [
      "0: 448x640 (no detections), 228.8ms\n",
      "Speed: 3.2ms preprocess, 228.8ms inference, 1.0ms postprocess per image at shape (1, 3, 448, 640)\n",
      "\n"
     ]
    },
    {
     "name": "stdout",
     "output_type": "stream",
     "text": [
      "False\n",
      "Error processing frame: 'FallDetection' object has no attribute 'topX'\n"
     ]
    },
    {
     "name": "stderr",
     "output_type": "stream",
     "text": [
      "0: 448x640 (no detections), 218.7ms\n",
      "Speed: 3.0ms preprocess, 218.7ms inference, 1.0ms postprocess per image at shape (1, 3, 448, 640)\n",
      "\n"
     ]
    },
    {
     "name": "stdout",
     "output_type": "stream",
     "text": [
      "False\n",
      "Error processing frame: 'FallDetection' object has no attribute 'topX'\n"
     ]
    },
    {
     "name": "stderr",
     "output_type": "stream",
     "text": [
      "0: 448x640 (no detections), 222.7ms\n",
      "Speed: 2.0ms preprocess, 222.7ms inference, 1.0ms postprocess per image at shape (1, 3, 448, 640)\n",
      "\n"
     ]
    },
    {
     "name": "stdout",
     "output_type": "stream",
     "text": [
      "False\n",
      "Error processing frame: 'FallDetection' object has no attribute 'topX'\n"
     ]
    },
    {
     "name": "stderr",
     "output_type": "stream",
     "text": [
      "0: 448x640 (no detections), 220.1ms\n",
      "Speed: 2.2ms preprocess, 220.1ms inference, 1.1ms postprocess per image at shape (1, 3, 448, 640)\n",
      "\n"
     ]
    },
    {
     "name": "stdout",
     "output_type": "stream",
     "text": [
      "False\n",
      "Error processing frame: 'FallDetection' object has no attribute 'topX'\n"
     ]
    },
    {
     "name": "stderr",
     "output_type": "stream",
     "text": [
      "0: 448x640 (no detections), 221.4ms\n",
      "Speed: 1.5ms preprocess, 221.4ms inference, 1.0ms postprocess per image at shape (1, 3, 448, 640)\n",
      "\n"
     ]
    },
    {
     "name": "stdout",
     "output_type": "stream",
     "text": [
      "False\n",
      "Error processing frame: 'FallDetection' object has no attribute 'topX'\n"
     ]
    },
    {
     "name": "stderr",
     "output_type": "stream",
     "text": [
      "0: 448x640 (no detections), 218.7ms\n",
      "Speed: 2.7ms preprocess, 218.7ms inference, 1.2ms postprocess per image at shape (1, 3, 448, 640)\n",
      "\n"
     ]
    },
    {
     "name": "stdout",
     "output_type": "stream",
     "text": [
      "False\n",
      "Error processing frame: 'FallDetection' object has no attribute 'topX'\n"
     ]
    },
    {
     "name": "stderr",
     "output_type": "stream",
     "text": [
      "0: 448x640 (no detections), 217.7ms\n",
      "Speed: 2.0ms preprocess, 217.7ms inference, 1.5ms postprocess per image at shape (1, 3, 448, 640)\n",
      "\n"
     ]
    },
    {
     "name": "stdout",
     "output_type": "stream",
     "text": [
      "False\n",
      "Error processing frame: 'FallDetection' object has no attribute 'topX'\n"
     ]
    },
    {
     "name": "stderr",
     "output_type": "stream",
     "text": [
      "0: 448x640 (no detections), 222.3ms\n",
      "Speed: 1.5ms preprocess, 222.3ms inference, 1.0ms postprocess per image at shape (1, 3, 448, 640)\n",
      "\n"
     ]
    },
    {
     "name": "stdout",
     "output_type": "stream",
     "text": [
      "False\n",
      "Error processing frame: 'FallDetection' object has no attribute 'topX'\n"
     ]
    },
    {
     "name": "stderr",
     "output_type": "stream",
     "text": [
      "0: 448x640 (no detections), 203.3ms\n",
      "Speed: 1.5ms preprocess, 203.3ms inference, 1.0ms postprocess per image at shape (1, 3, 448, 640)\n",
      "\n"
     ]
    },
    {
     "name": "stdout",
     "output_type": "stream",
     "text": [
      "False\n",
      "Error processing frame: 'FallDetection' object has no attribute 'topX'\n"
     ]
    },
    {
     "name": "stderr",
     "output_type": "stream",
     "text": [
      "0: 448x640 (no detections), 204.5ms\n",
      "Speed: 3.0ms preprocess, 204.5ms inference, 1.0ms postprocess per image at shape (1, 3, 448, 640)\n",
      "\n"
     ]
    },
    {
     "name": "stdout",
     "output_type": "stream",
     "text": [
      "False\n",
      "Error processing frame: 'FallDetection' object has no attribute 'topX'\n"
     ]
    },
    {
     "name": "stderr",
     "output_type": "stream",
     "text": [
      "0: 448x640 (no detections), 214.6ms\n",
      "Speed: 2.5ms preprocess, 214.6ms inference, 1.0ms postprocess per image at shape (1, 3, 448, 640)\n",
      "\n"
     ]
    },
    {
     "name": "stdout",
     "output_type": "stream",
     "text": [
      "False\n",
      "Error processing frame: 'FallDetection' object has no attribute 'topX'\n"
     ]
    },
    {
     "name": "stderr",
     "output_type": "stream",
     "text": [
      "0: 448x640 (no detections), 198.3ms\n",
      "Speed: 2.0ms preprocess, 198.3ms inference, 0.0ms postprocess per image at shape (1, 3, 448, 640)\n",
      "\n"
     ]
    },
    {
     "name": "stdout",
     "output_type": "stream",
     "text": [
      "False\n",
      "Error processing frame: 'FallDetection' object has no attribute 'topX'\n"
     ]
    },
    {
     "name": "stderr",
     "output_type": "stream",
     "text": [
      "0: 448x640 (no detections), 217.9ms\n",
      "Speed: 2.0ms preprocess, 217.9ms inference, 0.0ms postprocess per image at shape (1, 3, 448, 640)\n",
      "\n"
     ]
    },
    {
     "name": "stdout",
     "output_type": "stream",
     "text": [
      "False\n",
      "Error processing frame: 'FallDetection' object has no attribute 'topX'\n"
     ]
    },
    {
     "name": "stderr",
     "output_type": "stream",
     "text": [
      "0: 448x640 (no detections), 213.5ms\n",
      "Speed: 3.0ms preprocess, 213.5ms inference, 1.5ms postprocess per image at shape (1, 3, 448, 640)\n",
      "\n"
     ]
    },
    {
     "name": "stdout",
     "output_type": "stream",
     "text": [
      "False\n",
      "Error processing frame: 'FallDetection' object has no attribute 'topX'\n"
     ]
    },
    {
     "name": "stderr",
     "output_type": "stream",
     "text": [
      "0: 448x640 (no detections), 208.3ms\n",
      "Speed: 3.0ms preprocess, 208.3ms inference, 1.5ms postprocess per image at shape (1, 3, 448, 640)\n",
      "\n"
     ]
    },
    {
     "name": "stdout",
     "output_type": "stream",
     "text": [
      "False\n",
      "Error processing frame: 'FallDetection' object has no attribute 'topX'\n"
     ]
    },
    {
     "name": "stderr",
     "output_type": "stream",
     "text": [
      "0: 448x640 (no detections), 218.5ms\n",
      "Speed: 2.1ms preprocess, 218.5ms inference, 1.1ms postprocess per image at shape (1, 3, 448, 640)\n",
      "\n"
     ]
    },
    {
     "name": "stdout",
     "output_type": "stream",
     "text": [
      "False\n",
      "Error processing frame: 'FallDetection' object has no attribute 'topX'\n"
     ]
    },
    {
     "name": "stderr",
     "output_type": "stream",
     "text": [
      "0: 448x640 (no detections), 219.1ms\n",
      "Speed: 3.0ms preprocess, 219.1ms inference, 1.0ms postprocess per image at shape (1, 3, 448, 640)\n",
      "\n"
     ]
    },
    {
     "name": "stdout",
     "output_type": "stream",
     "text": [
      "False\n",
      "Error processing frame: 'FallDetection' object has no attribute 'topX'\n"
     ]
    },
    {
     "name": "stderr",
     "output_type": "stream",
     "text": [
      "0: 448x640 (no detections), 215.7ms\n",
      "Speed: 3.0ms preprocess, 215.7ms inference, 0.5ms postprocess per image at shape (1, 3, 448, 640)\n",
      "\n"
     ]
    },
    {
     "name": "stdout",
     "output_type": "stream",
     "text": [
      "False\n",
      "Error processing frame: 'FallDetection' object has no attribute 'topX'\n"
     ]
    },
    {
     "name": "stderr",
     "output_type": "stream",
     "text": [
      "0: 448x640 (no detections), 215.6ms\n",
      "Speed: 1.5ms preprocess, 215.6ms inference, 1.0ms postprocess per image at shape (1, 3, 448, 640)\n",
      "\n"
     ]
    },
    {
     "name": "stdout",
     "output_type": "stream",
     "text": [
      "False\n",
      "Error processing frame: 'FallDetection' object has no attribute 'topX'\n"
     ]
    },
    {
     "name": "stderr",
     "output_type": "stream",
     "text": [
      "0: 448x640 (no detections), 214.8ms\n",
      "Speed: 1.8ms preprocess, 214.8ms inference, 0.5ms postprocess per image at shape (1, 3, 448, 640)\n",
      "\n"
     ]
    },
    {
     "name": "stdout",
     "output_type": "stream",
     "text": [
      "False\n",
      "Error processing frame: 'FallDetection' object has no attribute 'topX'\n"
     ]
    },
    {
     "name": "stderr",
     "output_type": "stream",
     "text": [
      "0: 448x640 (no detections), 214.0ms\n",
      "Speed: 3.0ms preprocess, 214.0ms inference, 1.0ms postprocess per image at shape (1, 3, 448, 640)\n",
      "\n"
     ]
    },
    {
     "name": "stdout",
     "output_type": "stream",
     "text": [
      "False\n",
      "Error processing frame: 'FallDetection' object has no attribute 'topX'\n"
     ]
    },
    {
     "name": "stderr",
     "output_type": "stream",
     "text": [
      "0: 448x640 (no detections), 210.2ms\n",
      "Speed: 2.0ms preprocess, 210.2ms inference, 1.0ms postprocess per image at shape (1, 3, 448, 640)\n",
      "\n"
     ]
    },
    {
     "name": "stdout",
     "output_type": "stream",
     "text": [
      "False\n",
      "Error processing frame: 'FallDetection' object has no attribute 'topX'\n"
     ]
    },
    {
     "name": "stderr",
     "output_type": "stream",
     "text": [
      "0: 448x640 (no detections), 210.4ms\n",
      "Speed: 2.3ms preprocess, 210.4ms inference, 1.0ms postprocess per image at shape (1, 3, 448, 640)\n",
      "\n"
     ]
    },
    {
     "name": "stdout",
     "output_type": "stream",
     "text": [
      "False\n",
      "Error processing frame: 'FallDetection' object has no attribute 'topX'\n"
     ]
    },
    {
     "name": "stderr",
     "output_type": "stream",
     "text": [
      "0: 448x640 (no detections), 200.8ms\n",
      "Speed: 2.5ms preprocess, 200.8ms inference, 0.5ms postprocess per image at shape (1, 3, 448, 640)\n",
      "\n"
     ]
    },
    {
     "name": "stdout",
     "output_type": "stream",
     "text": [
      "False\n",
      "Error processing frame: 'FallDetection' object has no attribute 'topX'\n"
     ]
    },
    {
     "name": "stderr",
     "output_type": "stream",
     "text": [
      "0: 448x640 (no detections), 198.6ms\n",
      "Speed: 1.8ms preprocess, 198.6ms inference, 1.0ms postprocess per image at shape (1, 3, 448, 640)\n",
      "\n"
     ]
    },
    {
     "name": "stdout",
     "output_type": "stream",
     "text": [
      "False\n",
      "Error processing frame: 'FallDetection' object has no attribute 'topX'\n"
     ]
    },
    {
     "name": "stderr",
     "output_type": "stream",
     "text": [
      "0: 448x640 (no detections), 216.7ms\n",
      "Speed: 2.5ms preprocess, 216.7ms inference, 1.0ms postprocess per image at shape (1, 3, 448, 640)\n",
      "\n"
     ]
    },
    {
     "name": "stdout",
     "output_type": "stream",
     "text": [
      "False\n",
      "Error processing frame: 'FallDetection' object has no attribute 'topX'\n"
     ]
    },
    {
     "name": "stderr",
     "output_type": "stream",
     "text": [
      "0: 448x640 (no detections), 208.9ms\n",
      "Speed: 1.6ms preprocess, 208.9ms inference, 0.3ms postprocess per image at shape (1, 3, 448, 640)\n",
      "\n"
     ]
    },
    {
     "name": "stdout",
     "output_type": "stream",
     "text": [
      "False\n",
      "Error processing frame: 'FallDetection' object has no attribute 'topX'\n"
     ]
    },
    {
     "name": "stderr",
     "output_type": "stream",
     "text": [
      "0: 448x640 (no detections), 226.2ms\n",
      "Speed: 3.0ms preprocess, 226.2ms inference, 1.0ms postprocess per image at shape (1, 3, 448, 640)\n",
      "\n"
     ]
    },
    {
     "name": "stdout",
     "output_type": "stream",
     "text": [
      "False\n",
      "Error processing frame: 'FallDetection' object has no attribute 'topX'\n"
     ]
    },
    {
     "name": "stderr",
     "output_type": "stream",
     "text": [
      "0: 448x640 (no detections), 203.9ms\n",
      "Speed: 2.0ms preprocess, 203.9ms inference, 1.6ms postprocess per image at shape (1, 3, 448, 640)\n",
      "\n"
     ]
    },
    {
     "name": "stdout",
     "output_type": "stream",
     "text": [
      "False\n",
      "Error processing frame: 'FallDetection' object has no attribute 'topX'\n"
     ]
    },
    {
     "name": "stderr",
     "output_type": "stream",
     "text": [
      "0: 448x640 (no detections), 213.4ms\n",
      "Speed: 3.0ms preprocess, 213.4ms inference, 1.0ms postprocess per image at shape (1, 3, 448, 640)\n",
      "\n"
     ]
    },
    {
     "name": "stdout",
     "output_type": "stream",
     "text": [
      "False\n",
      "Error processing frame: 'FallDetection' object has no attribute 'topX'\n"
     ]
    },
    {
     "name": "stderr",
     "output_type": "stream",
     "text": [
      "0: 448x640 (no detections), 224.6ms\n",
      "Speed: 2.0ms preprocess, 224.6ms inference, 1.0ms postprocess per image at shape (1, 3, 448, 640)\n",
      "\n"
     ]
    },
    {
     "name": "stdout",
     "output_type": "stream",
     "text": [
      "False\n",
      "Error processing frame: 'FallDetection' object has no attribute 'topX'\n"
     ]
    },
    {
     "name": "stderr",
     "output_type": "stream",
     "text": [
      "0: 448x640 1 person, 212.2ms\n",
      "Speed: 2.5ms preprocess, 212.2ms inference, 1.3ms postprocess per image at shape (1, 3, 448, 640)\n",
      "\n"
     ]
    },
    {
     "name": "stdout",
     "output_type": "stream",
     "text": [
      "False\n",
      "500 5 545 103\n"
     ]
    },
    {
     "name": "stderr",
     "output_type": "stream",
     "text": [
      "0: 448x640 1 person, 217.1ms\n",
      "Speed: 2.5ms preprocess, 217.1ms inference, 1.0ms postprocess per image at shape (1, 3, 448, 640)\n",
      "\n"
     ]
    },
    {
     "name": "stdout",
     "output_type": "stream",
     "text": [
      "False\n",
      "500 5 543 106\n"
     ]
    },
    {
     "name": "stderr",
     "output_type": "stream",
     "text": [
      "0: 448x640 1 person, 212.2ms\n",
      "Speed: 3.1ms preprocess, 212.2ms inference, 1.0ms postprocess per image at shape (1, 3, 448, 640)\n",
      "\n"
     ]
    },
    {
     "name": "stdout",
     "output_type": "stream",
     "text": [
      "False\n",
      "500 5 543 105\n"
     ]
    },
    {
     "name": "stderr",
     "output_type": "stream",
     "text": [
      "0: 448x640 1 person, 205.0ms\n",
      "Speed: 2.5ms preprocess, 205.0ms inference, 2.0ms postprocess per image at shape (1, 3, 448, 640)\n",
      "\n"
     ]
    },
    {
     "name": "stdout",
     "output_type": "stream",
     "text": [
      "False\n",
      "499 6 542 104\n"
     ]
    },
    {
     "name": "stderr",
     "output_type": "stream",
     "text": [
      "0: 448x640 (no detections), 210.8ms\n",
      "Speed: 3.2ms preprocess, 210.8ms inference, 1.0ms postprocess per image at shape (1, 3, 448, 640)\n",
      "\n"
     ]
    },
    {
     "name": "stdout",
     "output_type": "stream",
     "text": [
      "False\n",
      "499 6 542 104\n"
     ]
    },
    {
     "name": "stderr",
     "output_type": "stream",
     "text": [
      "0: 448x640 (no detections), 209.7ms\n",
      "Speed: 2.0ms preprocess, 209.7ms inference, 1.4ms postprocess per image at shape (1, 3, 448, 640)\n",
      "\n"
     ]
    },
    {
     "name": "stdout",
     "output_type": "stream",
     "text": [
      "False\n",
      "499 6 542 104\n"
     ]
    },
    {
     "name": "stderr",
     "output_type": "stream",
     "text": [
      "0: 448x640 1 person, 205.3ms\n",
      "Speed: 2.0ms preprocess, 205.3ms inference, 1.0ms postprocess per image at shape (1, 3, 448, 640)\n",
      "\n"
     ]
    },
    {
     "name": "stdout",
     "output_type": "stream",
     "text": [
      "False\n",
      "500 7 542 107\n"
     ]
    },
    {
     "name": "stderr",
     "output_type": "stream",
     "text": [
      "0: 448x640 1 person, 205.2ms\n",
      "Speed: 2.0ms preprocess, 205.2ms inference, 0.0ms postprocess per image at shape (1, 3, 448, 640)\n",
      "\n"
     ]
    },
    {
     "name": "stdout",
     "output_type": "stream",
     "text": [
      "False\n",
      "500 7 542 107\n"
     ]
    },
    {
     "name": "stderr",
     "output_type": "stream",
     "text": [
      "0: 448x640 1 person, 205.5ms\n",
      "Speed: 3.0ms preprocess, 205.5ms inference, 1.0ms postprocess per image at shape (1, 3, 448, 640)\n",
      "\n"
     ]
    },
    {
     "name": "stdout",
     "output_type": "stream",
     "text": [
      "False\n",
      "500 8 542 109\n"
     ]
    },
    {
     "name": "stderr",
     "output_type": "stream",
     "text": [
      "0: 448x640 1 person, 208.7ms\n",
      "Speed: 3.5ms preprocess, 208.7ms inference, 1.7ms postprocess per image at shape (1, 3, 448, 640)\n",
      "\n"
     ]
    },
    {
     "name": "stdout",
     "output_type": "stream",
     "text": [
      "False\n",
      "498 7 542 108\n"
     ]
    },
    {
     "name": "stderr",
     "output_type": "stream",
     "text": [
      "0: 448x640 1 person, 208.2ms\n",
      "Speed: 3.5ms preprocess, 208.2ms inference, 0.0ms postprocess per image at shape (1, 3, 448, 640)\n",
      "\n"
     ]
    },
    {
     "name": "stdout",
     "output_type": "stream",
     "text": [
      "False\n",
      "497 7 542 107\n"
     ]
    },
    {
     "name": "stderr",
     "output_type": "stream",
     "text": [
      "0: 448x640 1 person, 199.5ms\n",
      "Speed: 3.8ms preprocess, 199.5ms inference, 1.0ms postprocess per image at shape (1, 3, 448, 640)\n",
      "\n"
     ]
    },
    {
     "name": "stdout",
     "output_type": "stream",
     "text": [
      "False\n",
      "498 7 543 106\n"
     ]
    },
    {
     "name": "stderr",
     "output_type": "stream",
     "text": [
      "0: 448x640 1 person, 215.5ms\n",
      "Speed: 3.5ms preprocess, 215.5ms inference, 1.4ms postprocess per image at shape (1, 3, 448, 640)\n",
      "\n"
     ]
    },
    {
     "name": "stdout",
     "output_type": "stream",
     "text": [
      "False\n",
      "498 7 542 109\n"
     ]
    },
    {
     "name": "stderr",
     "output_type": "stream",
     "text": [
      "0: 448x640 1 person, 206.8ms\n",
      "Speed: 2.0ms preprocess, 206.8ms inference, 1.0ms postprocess per image at shape (1, 3, 448, 640)\n"
     ]
    },
    {
     "name": "stdout",
     "output_type": "stream",
     "text": [
      "False\n",
      "498 7 540 109\n"
     ]
    }
   ],
   "source": [
    "complete_df_results = pd.DataFrame()\n",
    "backup_counter =  0\n",
    "for model in models:\n",
    "    print(model)\n",
    "    df_result = get_test_results(model,video_dir,fall_patterns_dir)\n",
    "    df_result.to_pickle(f'df_result_{backup_counter}.pkl')\n",
    "    complete_df_results = pd.concat([complete_df_results,df_result]).reset_index(drop=True)\n",
    "    backup_counter+=1\n",
    "complete_df_results.to_pickle(f'complete_results_df.pkl')"
   ]
  },
  {
   "cell_type": "code",
   "execution_count": null,
   "id": "1869e1c2",
   "metadata": {},
   "outputs": [],
   "source": []
  }
 ],
 "metadata": {
  "kernelspec": {
   "display_name": "Python 3 (ipykernel)",
   "language": "python",
   "name": "python3"
  },
  "language_info": {
   "codemirror_mode": {
    "name": "ipython",
    "version": 3
   },
   "file_extension": ".py",
   "mimetype": "text/x-python",
   "name": "python",
   "nbconvert_exporter": "python",
   "pygments_lexer": "ipython3",
   "version": "3.9.13"
  }
 },
 "nbformat": 4,
 "nbformat_minor": 5
}
