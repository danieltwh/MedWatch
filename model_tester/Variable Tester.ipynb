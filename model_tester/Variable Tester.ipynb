{
 "cells": [
  {
   "cell_type": "code",
   "execution_count": 1,
   "id": "4d5545cb",
   "metadata": {},
   "outputs": [],
   "source": [
    "from detectionmodel2 import Processor\n",
    "from augmentation import SingleFootageAugmenter\n",
    "from utils import get_subdirectories, get_filenames\n",
    "from pathlib import Path\n",
    "import cv2\n",
    "import pandas as pd\n",
    "import numpy as np\n",
    "import random\n",
    "import os"
   ]
  },
  {
   "cell_type": "code",
   "execution_count": 2,
   "id": "f9920ab8",
   "metadata": {},
   "outputs": [],
   "source": [
    "mode_mapping = {\n",
    "    0: '',\n",
    "    1: 'brightness',\n",
    "    2: 'img_noise',\n",
    "    3: 'img_blur',\n",
    "    4: 'cam_rotation',\n",
    "    5: 'brightness + img_noise',\n",
    "    6: 'brightness + img_blur',\n",
    "    7: 'brightness + cam_rotation',\n",
    "    8: 'img_noise + img_blur',\n",
    "    9: 'img_noise + cam_rotation',\n",
    "    10: 'img_blur + cam_rotation',\n",
    "    11: 'brightness + img_noise + img_blur',\n",
    "    12: 'brightness + img_noise + cam_rotation',\n",
    "    13: 'brightness + img_blur + cam_rotation',\n",
    "    14: 'img_noise + img_blur + cam_rotation',\n",
    "    15: 'brightness + img_noise + img_blur + cam_rotation'\n",
    "    \n",
    "}"
   ]
  },
  {
   "cell_type": "code",
   "execution_count": 3,
   "id": "96dd9b63",
   "metadata": {},
   "outputs": [],
   "source": [
    "def video_fall_detection(video_path, model, mode=0, frame_lag=False, frame_loss=False, \n",
    "                         connection_err=False, display_video=False, save_video=False, output_filename='output.avi'):\n",
    "    cap = cv2.VideoCapture(str(video_path))\n",
    "\n",
    "    if not cap.isOpened():\n",
    "        print(\"Cannot open video\")\n",
    "        exit()\n",
    "\n",
    "    # Initialize the VideoWriter object only if save_video is True\n",
    "    if save_video:\n",
    "        fourcc = cv2.VideoWriter_fourcc(*'XVID')\n",
    "        out = cv2.VideoWriter(output_filename, fourcc, 20.0, (int(cap.get(3)), int(cap.get(4))))\n",
    "\n",
    "    # Create an instance of Processor\n",
    "    processor = Processor(model)\n",
    "    \n",
    "    test_mode = mode_mapping[mode]\n",
    "\n",
    "    while True:\n",
    "        success, frame = cap.read()\n",
    "        if not success:\n",
    "            break\n",
    "        \n",
    "        single_frame_augmentor = SingleFootageAugmenter(frame)\n",
    "        \n",
    "        if 'brightness' in test_mode:\n",
    "            single_frame_augmentor.augment_brightness()\n",
    "        \n",
    "        if 'img_noise' in test_mode:\n",
    "            single_frame_augmentor.add_image_noise()\n",
    "        \n",
    "        if 'img_blur' in test_mode:\n",
    "            kernel_size = random.randrange(1, 16, 2)\n",
    "            single_frame_augmentor.adjust_image_blur(kernel_size=(kernel_size,kernel_size))\n",
    "        \n",
    "        if 'cam_rotation' in test_mode:\n",
    "            angle  = random.randrange(10, 360, 20)\n",
    "            updated_frames = single_frame_augmentor.adjust_camera_rotation(angle=angle)\n",
    "            \n",
    "        frame = single_frame_augmentor.output_augmented_frame()\n",
    "\n",
    "        #Preprocess the frames using the FootagePreprocessor class\n",
    "        #footage_preprocessor = FootagePreprocessor(frame)\n",
    "        #frame = footage_preprocessor.preprocess_footage()  \n",
    "\n",
    "        # Process the frame using the Processor class\n",
    "        frame = processor.process(frame)\n",
    "\n",
    "        # Write the processed frame into the output video if save_video is True\n",
    "        if save_video:\n",
    "            out.write(frame)\n",
    "\n",
    "        # Display the processed frame if display_video is True\n",
    "        if display_video:\n",
    "            cv2.imshow(\"Fall Detection\", frame)\n",
    "            if cv2.waitKey(1) & 0xFF == ord('q'):\n",
    "                break\n",
    "\n",
    "    # Release resources depending on the options chosen\n",
    "    cap.release()\n",
    "    if save_video:\n",
    "        out.release()\n",
    "    if display_video:\n",
    "        cv2.destroyAllWindows()\n",
    "\n",
    "    # Return the statistics using the output_stats method from the Processor instance\n",
    "    return processor.output_stats()\n"
   ]
  },
  {
   "cell_type": "code",
   "execution_count": 4,
   "id": "bd09d437",
   "metadata": {},
   "outputs": [],
   "source": [
    "def get_test_results(model,video_dir,fall_patterns_dir, mode=0, frame_lag=False, frame_loss=False, \n",
    "                         connection_err=False, display_video=False, save_video=False):\n",
    "    complete_test_results = []\n",
    "    for fall_pattern_path in fall_patterns_dir:\n",
    "        print(fall_pattern_path)\n",
    "        fall_pattern_full_path = Path(video_dir,fall_pattern_path)\n",
    "        cam_angles_paths = get_filenames(fall_pattern_full_path)\n",
    "        for cam_angles_path in cam_angles_paths:\n",
    "            print(cam_angles_path)\n",
    "            file_name = os.path.basename(cam_angles_path)\n",
    "            output_filename = f'Processed mode {mode} {file_name}.avi'\n",
    "            cam_angle_full_path = Path(fall_pattern_full_path,cam_angles_path)\n",
    "            output_filename = str(Path(video_dir,'Output',output_filename))\n",
    "            test_result = video_fall_detection(cam_angle_full_path,model, mode, frame_lag, frame_loss,\n",
    "                                               connection_err, display_video, save_video, output_filename)\n",
    "            test_result['Angle'] = cam_angles_path[:-4]\n",
    "            test_result['Fall Type'] = fall_pattern_path\n",
    "            complete_test_results.append(test_result)\n",
    "    df_results = pd.DataFrame(complete_test_results)\n",
    "    df_results['model'] = model\n",
    "    return df_results"
   ]
  },
  {
   "cell_type": "markdown",
   "id": "59b04c1b",
   "metadata": {},
   "source": [
    "# How to Use"
   ]
  },
  {
   "cell_type": "code",
   "execution_count": 5,
   "id": "e7f257f9",
   "metadata": {},
   "outputs": [],
   "source": [
    "video_dir = Path(os.getcwd(),'./Videos')"
   ]
  },
  {
   "cell_type": "markdown",
   "id": "3e10f734",
   "metadata": {},
   "source": [
    "### In the List below enter the name of the subdirectories in Videos you would like to test"
   ]
  },
  {
   "cell_type": "code",
   "execution_count": 6,
   "id": "a3641f00",
   "metadata": {},
   "outputs": [],
   "source": [
    "# fall_patterns_dir = ['wheelchair','baseline'] for e.g.\n",
    "\n",
    "fall_patterns_dir = ['Baseline']"
   ]
  },
  {
   "cell_type": "markdown",
   "id": "3cd290d7",
   "metadata": {},
   "source": [
    "### In the List below enter the name of the models you would like to test"
   ]
  },
  {
   "cell_type": "code",
   "execution_count": 7,
   "id": "6778eb17",
   "metadata": {},
   "outputs": [],
   "source": [
    "# models = ['yolov8s-pose.pt']  for e.g.\n",
    "\n",
    "models = ['yolov8s-pose.pt']"
   ]
  },
  {
   "cell_type": "markdown",
   "id": "1be28cbb",
   "metadata": {},
   "source": [
    "### Tester Parameters"
   ]
  },
  {
   "cell_type": "code",
   "execution_count": 8,
   "id": "d344a50b",
   "metadata": {},
   "outputs": [],
   "source": [
    "# modes = [1,2,3,4] look at mode_mapping to choose your mode and include them in the list\n",
    "# save_video = True Boolean to save video\n",
    "# display_video = False Boolean to save video\n",
    "\n",
    "modes = [1,2,3,4]\n",
    "save_video = True\n",
    "display_video = False"
   ]
  },
  {
   "cell_type": "code",
   "execution_count": 9,
   "id": "539452ce",
   "metadata": {
    "scrolled": true
   },
   "outputs": [
    {
     "name": "stdout",
     "output_type": "stream",
     "text": [
      "1\n",
      "yolov8s-pose.pt\n",
      "Baseline\n",
      "Baseline_calvin - 02.mp4\n"
     ]
    },
    {
     "name": "stderr",
     "output_type": "stream",
     "text": [
      "/Users/brendanlim/Documents/SchoolStuff/Y4S1/Capstone/repo/MedWatch/model_tester/detectionmodel2.py:85: RuntimeWarning: invalid value encountered in double_scalars\n",
      "  cos_theta = center_line[1] / math.sqrt(center_line[0] ** 2 + center_line[1] ** 2)\n"
     ]
    },
    {
     "name": "stdout",
     "output_type": "stream",
     "text": [
      "Baseline_Brendan-1.mov\n"
     ]
    },
    {
     "name": "stderr",
     "output_type": "stream",
     "text": [
      "/Users/brendanlim/Documents/SchoolStuff/Y4S1/Capstone/repo/MedWatch/model_tester/detectionmodel2.py:85: RuntimeWarning: invalid value encountered in double_scalars\n",
      "  cos_theta = center_line[1] / math.sqrt(center_line[0] ** 2 + center_line[1] ** 2)\n"
     ]
    },
    {
     "name": "stdout",
     "output_type": "stream",
     "text": [
      "Baseline_Brendan-2.mov\n"
     ]
    },
    {
     "name": "stderr",
     "output_type": "stream",
     "text": [
      "/Users/brendanlim/Documents/SchoolStuff/Y4S1/Capstone/repo/MedWatch/model_tester/detectionmodel2.py:176: RuntimeWarning: invalid value encountered in float_scalars\n",
      "  m1 = (y2 - y1) / (x2 - x1)\n",
      "/Users/brendanlim/Documents/SchoolStuff/Y4S1/Capstone/repo/MedWatch/model_tester/detectionmodel2.py:177: RuntimeWarning: invalid value encountered in float_scalars\n",
      "  m2 = (y4 - y3) / (x4 - x3)\n",
      "/Users/brendanlim/Documents/SchoolStuff/Y4S1/Capstone/repo/MedWatch/model_tester/detectionmodel2.py:85: RuntimeWarning: invalid value encountered in double_scalars\n",
      "  cos_theta = center_line[1] / math.sqrt(center_line[0] ** 2 + center_line[1] ** 2)\n"
     ]
    },
    {
     "name": "stdout",
     "output_type": "stream",
     "text": [
      "Baseline_calvin - 1.mp4\n"
     ]
    },
    {
     "name": "stderr",
     "output_type": "stream",
     "text": [
      "/Users/brendanlim/Documents/SchoolStuff/Y4S1/Capstone/repo/MedWatch/model_tester/detectionmodel2.py:85: RuntimeWarning: invalid value encountered in double_scalars\n",
      "  cos_theta = center_line[1] / math.sqrt(center_line[0] ** 2 + center_line[1] ** 2)\n",
      "/Users/brendanlim/Documents/SchoolStuff/Y4S1/Capstone/repo/MedWatch/model_tester/detectionmodel2.py:176: RuntimeWarning: invalid value encountered in float_scalars\n",
      "  m1 = (y2 - y1) / (x2 - x1)\n",
      "/Users/brendanlim/Documents/SchoolStuff/Y4S1/Capstone/repo/MedWatch/model_tester/detectionmodel2.py:177: RuntimeWarning: invalid value encountered in float_scalars\n",
      "  m2 = (y4 - y3) / (x4 - x3)\n"
     ]
    },
    {
     "name": "stdout",
     "output_type": "stream",
     "text": [
      "Baseline_brandon-1.mp4\n"
     ]
    },
    {
     "name": "stderr",
     "output_type": "stream",
     "text": [
      "/Users/brendanlim/Documents/SchoolStuff/Y4S1/Capstone/repo/MedWatch/model_tester/detectionmodel2.py:85: RuntimeWarning: invalid value encountered in double_scalars\n",
      "  cos_theta = center_line[1] / math.sqrt(center_line[0] ** 2 + center_line[1] ** 2)\n",
      "/Users/brendanlim/Documents/SchoolStuff/Y4S1/Capstone/repo/MedWatch/model_tester/detectionmodel2.py:176: RuntimeWarning: invalid value encountered in float_scalars\n",
      "  m1 = (y2 - y1) / (x2 - x1)\n",
      "/Users/brendanlim/Documents/SchoolStuff/Y4S1/Capstone/repo/MedWatch/model_tester/detectionmodel2.py:177: RuntimeWarning: invalid value encountered in float_scalars\n",
      "  m2 = (y4 - y3) / (x4 - x3)\n"
     ]
    },
    {
     "name": "stdout",
     "output_type": "stream",
     "text": [
      "Baseline_brandon-2.mp4\n"
     ]
    },
    {
     "name": "stderr",
     "output_type": "stream",
     "text": [
      "/Users/brendanlim/Documents/SchoolStuff/Y4S1/Capstone/repo/MedWatch/model_tester/detectionmodel2.py:85: RuntimeWarning: invalid value encountered in double_scalars\n",
      "  cos_theta = center_line[1] / math.sqrt(center_line[0] ** 2 + center_line[1] ** 2)\n",
      "/Users/brendanlim/Documents/SchoolStuff/Y4S1/Capstone/repo/MedWatch/model_tester/detectionmodel2.py:176: RuntimeWarning: invalid value encountered in float_scalars\n",
      "  m1 = (y2 - y1) / (x2 - x1)\n",
      "/Users/brendanlim/Documents/SchoolStuff/Y4S1/Capstone/repo/MedWatch/model_tester/detectionmodel2.py:177: RuntimeWarning: invalid value encountered in float_scalars\n",
      "  m2 = (y4 - y3) / (x4 - x3)\n"
     ]
    },
    {
     "name": "stdout",
     "output_type": "stream",
     "text": [
      "Baseline_Daniel_2.mov\n"
     ]
    },
    {
     "name": "stderr",
     "output_type": "stream",
     "text": [
      "/Users/brendanlim/Documents/SchoolStuff/Y4S1/Capstone/repo/MedWatch/model_tester/detectionmodel2.py:85: RuntimeWarning: invalid value encountered in double_scalars\n",
      "  cos_theta = center_line[1] / math.sqrt(center_line[0] ** 2 + center_line[1] ** 2)\n"
     ]
    },
    {
     "name": "stdout",
     "output_type": "stream",
     "text": [
      "Baseline_Sam_2.MOV\n"
     ]
    },
    {
     "name": "stderr",
     "output_type": "stream",
     "text": [
      "/Users/brendanlim/Documents/SchoolStuff/Y4S1/Capstone/repo/MedWatch/model_tester/detectionmodel2.py:85: RuntimeWarning: invalid value encountered in double_scalars\n",
      "  cos_theta = center_line[1] / math.sqrt(center_line[0] ** 2 + center_line[1] ** 2)\n"
     ]
    },
    {
     "name": "stdout",
     "output_type": "stream",
     "text": [
      "Baseline_Daniel_1.mov\n"
     ]
    },
    {
     "name": "stderr",
     "output_type": "stream",
     "text": [
      "/Users/brendanlim/Documents/SchoolStuff/Y4S1/Capstone/repo/MedWatch/model_tester/detectionmodel2.py:85: RuntimeWarning: invalid value encountered in double_scalars\n",
      "  cos_theta = center_line[1] / math.sqrt(center_line[0] ** 2 + center_line[1] ** 2)\n",
      "/Users/brendanlim/Documents/SchoolStuff/Y4S1/Capstone/repo/MedWatch/model_tester/detectionmodel2.py:176: RuntimeWarning: invalid value encountered in float_scalars\n",
      "  m1 = (y2 - y1) / (x2 - x1)\n",
      "/Users/brendanlim/Documents/SchoolStuff/Y4S1/Capstone/repo/MedWatch/model_tester/detectionmodel2.py:177: RuntimeWarning: invalid value encountered in float_scalars\n",
      "  m2 = (y4 - y3) / (x4 - x3)\n"
     ]
    },
    {
     "name": "stdout",
     "output_type": "stream",
     "text": [
      "2\n",
      "yolov8s-pose.pt\n",
      "Baseline\n",
      "Baseline_calvin - 02.mp4\n"
     ]
    },
    {
     "name": "stderr",
     "output_type": "stream",
     "text": [
      "/Users/brendanlim/Documents/SchoolStuff/Y4S1/Capstone/repo/MedWatch/model_tester/detectionmodel2.py:85: RuntimeWarning: invalid value encountered in double_scalars\n",
      "  cos_theta = center_line[1] / math.sqrt(center_line[0] ** 2 + center_line[1] ** 2)\n"
     ]
    },
    {
     "name": "stdout",
     "output_type": "stream",
     "text": [
      "Baseline_Brendan-1.mov\n"
     ]
    },
    {
     "name": "stderr",
     "output_type": "stream",
     "text": [
      "/Users/brendanlim/Documents/SchoolStuff/Y4S1/Capstone/repo/MedWatch/model_tester/detectionmodel2.py:85: RuntimeWarning: invalid value encountered in double_scalars\n",
      "  cos_theta = center_line[1] / math.sqrt(center_line[0] ** 2 + center_line[1] ** 2)\n"
     ]
    },
    {
     "name": "stdout",
     "output_type": "stream",
     "text": [
      "Baseline_Brendan-2.mov\n",
      "Baseline_calvin - 1.mp4\n",
      "Baseline_brandon-1.mp4\n"
     ]
    },
    {
     "name": "stderr",
     "output_type": "stream",
     "text": [
      "/Users/brendanlim/Documents/SchoolStuff/Y4S1/Capstone/repo/MedWatch/model_tester/detectionmodel2.py:85: RuntimeWarning: invalid value encountered in double_scalars\n",
      "  cos_theta = center_line[1] / math.sqrt(center_line[0] ** 2 + center_line[1] ** 2)\n",
      "/Users/brendanlim/Documents/SchoolStuff/Y4S1/Capstone/repo/MedWatch/model_tester/detectionmodel2.py:176: RuntimeWarning: invalid value encountered in float_scalars\n",
      "  m1 = (y2 - y1) / (x2 - x1)\n",
      "/Users/brendanlim/Documents/SchoolStuff/Y4S1/Capstone/repo/MedWatch/model_tester/detectionmodel2.py:177: RuntimeWarning: invalid value encountered in float_scalars\n",
      "  m2 = (y4 - y3) / (x4 - x3)\n"
     ]
    },
    {
     "name": "stdout",
     "output_type": "stream",
     "text": [
      "Baseline_brandon-2.mp4\n"
     ]
    },
    {
     "name": "stderr",
     "output_type": "stream",
     "text": [
      "/Users/brendanlim/Documents/SchoolStuff/Y4S1/Capstone/repo/MedWatch/model_tester/detectionmodel2.py:85: RuntimeWarning: invalid value encountered in double_scalars\n",
      "  cos_theta = center_line[1] / math.sqrt(center_line[0] ** 2 + center_line[1] ** 2)\n"
     ]
    },
    {
     "name": "stdout",
     "output_type": "stream",
     "text": [
      "Baseline_Daniel_2.mov\n"
     ]
    },
    {
     "name": "stderr",
     "output_type": "stream",
     "text": [
      "/Users/brendanlim/Documents/SchoolStuff/Y4S1/Capstone/repo/MedWatch/model_tester/detectionmodel2.py:85: RuntimeWarning: invalid value encountered in double_scalars\n",
      "  cos_theta = center_line[1] / math.sqrt(center_line[0] ** 2 + center_line[1] ** 2)\n"
     ]
    },
    {
     "name": "stdout",
     "output_type": "stream",
     "text": [
      "Baseline_Sam_2.MOV\n"
     ]
    },
    {
     "name": "stderr",
     "output_type": "stream",
     "text": [
      "/Users/brendanlim/Documents/SchoolStuff/Y4S1/Capstone/repo/MedWatch/model_tester/detectionmodel2.py:85: RuntimeWarning: invalid value encountered in double_scalars\n",
      "  cos_theta = center_line[1] / math.sqrt(center_line[0] ** 2 + center_line[1] ** 2)\n"
     ]
    },
    {
     "name": "stdout",
     "output_type": "stream",
     "text": [
      "Baseline_Daniel_1.mov\n"
     ]
    },
    {
     "name": "stderr",
     "output_type": "stream",
     "text": [
      "/Users/brendanlim/Documents/SchoolStuff/Y4S1/Capstone/repo/MedWatch/model_tester/detectionmodel2.py:85: RuntimeWarning: invalid value encountered in double_scalars\n",
      "  cos_theta = center_line[1] / math.sqrt(center_line[0] ** 2 + center_line[1] ** 2)\n"
     ]
    },
    {
     "name": "stdout",
     "output_type": "stream",
     "text": [
      "3\n",
      "yolov8s-pose.pt\n",
      "Baseline\n",
      "Baseline_calvin - 02.mp4\n"
     ]
    },
    {
     "name": "stderr",
     "output_type": "stream",
     "text": [
      "/Users/brendanlim/Documents/SchoolStuff/Y4S1/Capstone/repo/MedWatch/model_tester/detectionmodel2.py:85: RuntimeWarning: invalid value encountered in double_scalars\n",
      "  cos_theta = center_line[1] / math.sqrt(center_line[0] ** 2 + center_line[1] ** 2)\n"
     ]
    },
    {
     "name": "stdout",
     "output_type": "stream",
     "text": [
      "Baseline_Brendan-1.mov\n"
     ]
    },
    {
     "name": "stderr",
     "output_type": "stream",
     "text": [
      "/Users/brendanlim/Documents/SchoolStuff/Y4S1/Capstone/repo/MedWatch/model_tester/detectionmodel2.py:85: RuntimeWarning: invalid value encountered in double_scalars\n",
      "  cos_theta = center_line[1] / math.sqrt(center_line[0] ** 2 + center_line[1] ** 2)\n"
     ]
    },
    {
     "name": "stdout",
     "output_type": "stream",
     "text": [
      "Baseline_Brendan-2.mov\n"
     ]
    },
    {
     "name": "stderr",
     "output_type": "stream",
     "text": [
      "/Users/brendanlim/Documents/SchoolStuff/Y4S1/Capstone/repo/MedWatch/model_tester/detectionmodel2.py:176: RuntimeWarning: invalid value encountered in float_scalars\n",
      "  m1 = (y2 - y1) / (x2 - x1)\n",
      "/Users/brendanlim/Documents/SchoolStuff/Y4S1/Capstone/repo/MedWatch/model_tester/detectionmodel2.py:177: RuntimeWarning: invalid value encountered in float_scalars\n",
      "  m2 = (y4 - y3) / (x4 - x3)\n",
      "/Users/brendanlim/Documents/SchoolStuff/Y4S1/Capstone/repo/MedWatch/model_tester/detectionmodel2.py:85: RuntimeWarning: invalid value encountered in double_scalars\n",
      "  cos_theta = center_line[1] / math.sqrt(center_line[0] ** 2 + center_line[1] ** 2)\n"
     ]
    },
    {
     "name": "stdout",
     "output_type": "stream",
     "text": [
      "Baseline_calvin - 1.mp4\n"
     ]
    },
    {
     "name": "stderr",
     "output_type": "stream",
     "text": [
      "/Users/brendanlim/Documents/SchoolStuff/Y4S1/Capstone/repo/MedWatch/model_tester/detectionmodel2.py:85: RuntimeWarning: invalid value encountered in double_scalars\n",
      "  cos_theta = center_line[1] / math.sqrt(center_line[0] ** 2 + center_line[1] ** 2)\n",
      "/Users/brendanlim/Documents/SchoolStuff/Y4S1/Capstone/repo/MedWatch/model_tester/detectionmodel2.py:176: RuntimeWarning: invalid value encountered in float_scalars\n",
      "  m1 = (y2 - y1) / (x2 - x1)\n",
      "/Users/brendanlim/Documents/SchoolStuff/Y4S1/Capstone/repo/MedWatch/model_tester/detectionmodel2.py:177: RuntimeWarning: invalid value encountered in float_scalars\n",
      "  m2 = (y4 - y3) / (x4 - x3)\n"
     ]
    },
    {
     "name": "stdout",
     "output_type": "stream",
     "text": [
      "Baseline_brandon-1.mp4\n"
     ]
    },
    {
     "name": "stderr",
     "output_type": "stream",
     "text": [
      "/Users/brendanlim/Documents/SchoolStuff/Y4S1/Capstone/repo/MedWatch/model_tester/detectionmodel2.py:85: RuntimeWarning: invalid value encountered in double_scalars\n",
      "  cos_theta = center_line[1] / math.sqrt(center_line[0] ** 2 + center_line[1] ** 2)\n",
      "/Users/brendanlim/Documents/SchoolStuff/Y4S1/Capstone/repo/MedWatch/model_tester/detectionmodel2.py:176: RuntimeWarning: invalid value encountered in float_scalars\n",
      "  m1 = (y2 - y1) / (x2 - x1)\n",
      "/Users/brendanlim/Documents/SchoolStuff/Y4S1/Capstone/repo/MedWatch/model_tester/detectionmodel2.py:177: RuntimeWarning: invalid value encountered in float_scalars\n",
      "  m2 = (y4 - y3) / (x4 - x3)\n"
     ]
    },
    {
     "name": "stdout",
     "output_type": "stream",
     "text": [
      "Baseline_brandon-2.mp4\n"
     ]
    },
    {
     "name": "stderr",
     "output_type": "stream",
     "text": [
      "/Users/brendanlim/Documents/SchoolStuff/Y4S1/Capstone/repo/MedWatch/model_tester/detectionmodel2.py:85: RuntimeWarning: invalid value encountered in double_scalars\n",
      "  cos_theta = center_line[1] / math.sqrt(center_line[0] ** 2 + center_line[1] ** 2)\n",
      "/Users/brendanlim/Documents/SchoolStuff/Y4S1/Capstone/repo/MedWatch/model_tester/detectionmodel2.py:176: RuntimeWarning: invalid value encountered in float_scalars\n",
      "  m1 = (y2 - y1) / (x2 - x1)\n",
      "/Users/brendanlim/Documents/SchoolStuff/Y4S1/Capstone/repo/MedWatch/model_tester/detectionmodel2.py:177: RuntimeWarning: invalid value encountered in float_scalars\n",
      "  m2 = (y4 - y3) / (x4 - x3)\n"
     ]
    },
    {
     "name": "stdout",
     "output_type": "stream",
     "text": [
      "Baseline_Daniel_2.mov\n"
     ]
    },
    {
     "name": "stderr",
     "output_type": "stream",
     "text": [
      "/Users/brendanlim/Documents/SchoolStuff/Y4S1/Capstone/repo/MedWatch/model_tester/detectionmodel2.py:85: RuntimeWarning: invalid value encountered in double_scalars\n",
      "  cos_theta = center_line[1] / math.sqrt(center_line[0] ** 2 + center_line[1] ** 2)\n"
     ]
    },
    {
     "name": "stdout",
     "output_type": "stream",
     "text": [
      "Baseline_Sam_2.MOV\n"
     ]
    },
    {
     "name": "stderr",
     "output_type": "stream",
     "text": [
      "/Users/brendanlim/Documents/SchoolStuff/Y4S1/Capstone/repo/MedWatch/model_tester/detectionmodel2.py:85: RuntimeWarning: invalid value encountered in double_scalars\n",
      "  cos_theta = center_line[1] / math.sqrt(center_line[0] ** 2 + center_line[1] ** 2)\n",
      "/Users/brendanlim/Documents/SchoolStuff/Y4S1/Capstone/repo/MedWatch/model_tester/detectionmodel2.py:176: RuntimeWarning: invalid value encountered in float_scalars\n",
      "  m1 = (y2 - y1) / (x2 - x1)\n",
      "/Users/brendanlim/Documents/SchoolStuff/Y4S1/Capstone/repo/MedWatch/model_tester/detectionmodel2.py:177: RuntimeWarning: invalid value encountered in float_scalars\n",
      "  m2 = (y4 - y3) / (x4 - x3)\n"
     ]
    },
    {
     "name": "stdout",
     "output_type": "stream",
     "text": [
      "Baseline_Daniel_1.mov\n"
     ]
    },
    {
     "name": "stderr",
     "output_type": "stream",
     "text": [
      "/Users/brendanlim/Documents/SchoolStuff/Y4S1/Capstone/repo/MedWatch/model_tester/detectionmodel2.py:85: RuntimeWarning: invalid value encountered in double_scalars\n",
      "  cos_theta = center_line[1] / math.sqrt(center_line[0] ** 2 + center_line[1] ** 2)\n"
     ]
    },
    {
     "name": "stdout",
     "output_type": "stream",
     "text": [
      "4\n",
      "yolov8s-pose.pt\n",
      "Baseline\n",
      "Baseline_calvin - 02.mp4\n"
     ]
    },
    {
     "name": "stderr",
     "output_type": "stream",
     "text": [
      "/Users/brendanlim/Documents/SchoolStuff/Y4S1/Capstone/repo/MedWatch/model_tester/detectionmodel2.py:85: RuntimeWarning: invalid value encountered in double_scalars\n",
      "  cos_theta = center_line[1] / math.sqrt(center_line[0] ** 2 + center_line[1] ** 2)\n",
      "/Users/brendanlim/Documents/SchoolStuff/Y4S1/Capstone/repo/MedWatch/model_tester/detectionmodel2.py:176: RuntimeWarning: invalid value encountered in float_scalars\n",
      "  m1 = (y2 - y1) / (x2 - x1)\n",
      "/Users/brendanlim/Documents/SchoolStuff/Y4S1/Capstone/repo/MedWatch/model_tester/detectionmodel2.py:177: RuntimeWarning: invalid value encountered in float_scalars\n",
      "  m2 = (y4 - y3) / (x4 - x3)\n"
     ]
    },
    {
     "name": "stdout",
     "output_type": "stream",
     "text": [
      "Baseline_Brendan-1.mov\n"
     ]
    },
    {
     "name": "stderr",
     "output_type": "stream",
     "text": [
      "/Users/brendanlim/Documents/SchoolStuff/Y4S1/Capstone/repo/MedWatch/model_tester/detectionmodel2.py:85: RuntimeWarning: invalid value encountered in double_scalars\n",
      "  cos_theta = center_line[1] / math.sqrt(center_line[0] ** 2 + center_line[1] ** 2)\n",
      "/Users/brendanlim/Documents/SchoolStuff/Y4S1/Capstone/repo/MedWatch/model_tester/detectionmodel2.py:176: RuntimeWarning: invalid value encountered in float_scalars\n",
      "  m1 = (y2 - y1) / (x2 - x1)\n",
      "/Users/brendanlim/Documents/SchoolStuff/Y4S1/Capstone/repo/MedWatch/model_tester/detectionmodel2.py:177: RuntimeWarning: invalid value encountered in float_scalars\n",
      "  m2 = (y4 - y3) / (x4 - x3)\n"
     ]
    },
    {
     "name": "stdout",
     "output_type": "stream",
     "text": [
      "Baseline_Brendan-2.mov\n"
     ]
    },
    {
     "name": "stderr",
     "output_type": "stream",
     "text": [
      "/Users/brendanlim/Documents/SchoolStuff/Y4S1/Capstone/repo/MedWatch/model_tester/detectionmodel2.py:85: RuntimeWarning: invalid value encountered in double_scalars\n",
      "  cos_theta = center_line[1] / math.sqrt(center_line[0] ** 2 + center_line[1] ** 2)\n",
      "/Users/brendanlim/Documents/SchoolStuff/Y4S1/Capstone/repo/MedWatch/model_tester/detectionmodel2.py:176: RuntimeWarning: invalid value encountered in float_scalars\n",
      "  m1 = (y2 - y1) / (x2 - x1)\n",
      "/Users/brendanlim/Documents/SchoolStuff/Y4S1/Capstone/repo/MedWatch/model_tester/detectionmodel2.py:177: RuntimeWarning: invalid value encountered in float_scalars\n",
      "  m2 = (y4 - y3) / (x4 - x3)\n"
     ]
    },
    {
     "name": "stdout",
     "output_type": "stream",
     "text": [
      "Baseline_calvin - 1.mp4\n"
     ]
    },
    {
     "name": "stderr",
     "output_type": "stream",
     "text": [
      "/Users/brendanlim/Documents/SchoolStuff/Y4S1/Capstone/repo/MedWatch/model_tester/detectionmodel2.py:85: RuntimeWarning: invalid value encountered in double_scalars\n",
      "  cos_theta = center_line[1] / math.sqrt(center_line[0] ** 2 + center_line[1] ** 2)\n",
      "/Users/brendanlim/Documents/SchoolStuff/Y4S1/Capstone/repo/MedWatch/model_tester/detectionmodel2.py:176: RuntimeWarning: invalid value encountered in float_scalars\n",
      "  m1 = (y2 - y1) / (x2 - x1)\n",
      "/Users/brendanlim/Documents/SchoolStuff/Y4S1/Capstone/repo/MedWatch/model_tester/detectionmodel2.py:177: RuntimeWarning: invalid value encountered in float_scalars\n",
      "  m2 = (y4 - y3) / (x4 - x3)\n"
     ]
    },
    {
     "name": "stdout",
     "output_type": "stream",
     "text": [
      "Baseline_brandon-1.mp4\n"
     ]
    },
    {
     "name": "stderr",
     "output_type": "stream",
     "text": [
      "/Users/brendanlim/Documents/SchoolStuff/Y4S1/Capstone/repo/MedWatch/model_tester/detectionmodel2.py:85: RuntimeWarning: invalid value encountered in double_scalars\n",
      "  cos_theta = center_line[1] / math.sqrt(center_line[0] ** 2 + center_line[1] ** 2)\n",
      "/Users/brendanlim/Documents/SchoolStuff/Y4S1/Capstone/repo/MedWatch/model_tester/detectionmodel2.py:176: RuntimeWarning: invalid value encountered in float_scalars\n",
      "  m1 = (y2 - y1) / (x2 - x1)\n",
      "/Users/brendanlim/Documents/SchoolStuff/Y4S1/Capstone/repo/MedWatch/model_tester/detectionmodel2.py:177: RuntimeWarning: invalid value encountered in float_scalars\n",
      "  m2 = (y4 - y3) / (x4 - x3)\n"
     ]
    },
    {
     "name": "stdout",
     "output_type": "stream",
     "text": [
      "Baseline_brandon-2.mp4\n"
     ]
    },
    {
     "name": "stderr",
     "output_type": "stream",
     "text": [
      "/Users/brendanlim/Documents/SchoolStuff/Y4S1/Capstone/repo/MedWatch/model_tester/detectionmodel2.py:85: RuntimeWarning: invalid value encountered in double_scalars\n",
      "  cos_theta = center_line[1] / math.sqrt(center_line[0] ** 2 + center_line[1] ** 2)\n",
      "/Users/brendanlim/Documents/SchoolStuff/Y4S1/Capstone/repo/MedWatch/model_tester/detectionmodel2.py:176: RuntimeWarning: invalid value encountered in float_scalars\n",
      "  m1 = (y2 - y1) / (x2 - x1)\n",
      "/Users/brendanlim/Documents/SchoolStuff/Y4S1/Capstone/repo/MedWatch/model_tester/detectionmodel2.py:177: RuntimeWarning: invalid value encountered in float_scalars\n",
      "  m2 = (y4 - y3) / (x4 - x3)\n"
     ]
    },
    {
     "name": "stdout",
     "output_type": "stream",
     "text": [
      "Baseline_Daniel_2.mov\n"
     ]
    },
    {
     "name": "stderr",
     "output_type": "stream",
     "text": [
      "/Users/brendanlim/Documents/SchoolStuff/Y4S1/Capstone/repo/MedWatch/model_tester/detectionmodel2.py:85: RuntimeWarning: invalid value encountered in double_scalars\n",
      "  cos_theta = center_line[1] / math.sqrt(center_line[0] ** 2 + center_line[1] ** 2)\n",
      "/Users/brendanlim/Documents/SchoolStuff/Y4S1/Capstone/repo/MedWatch/model_tester/detectionmodel2.py:176: RuntimeWarning: invalid value encountered in float_scalars\n",
      "  m1 = (y2 - y1) / (x2 - x1)\n",
      "/Users/brendanlim/Documents/SchoolStuff/Y4S1/Capstone/repo/MedWatch/model_tester/detectionmodel2.py:177: RuntimeWarning: invalid value encountered in float_scalars\n",
      "  m2 = (y4 - y3) / (x4 - x3)\n"
     ]
    },
    {
     "name": "stdout",
     "output_type": "stream",
     "text": [
      "Baseline_Sam_2.MOV\n"
     ]
    },
    {
     "name": "stderr",
     "output_type": "stream",
     "text": [
      "/Users/brendanlim/Documents/SchoolStuff/Y4S1/Capstone/repo/MedWatch/model_tester/detectionmodel2.py:85: RuntimeWarning: invalid value encountered in double_scalars\n",
      "  cos_theta = center_line[1] / math.sqrt(center_line[0] ** 2 + center_line[1] ** 2)\n",
      "/Users/brendanlim/Documents/SchoolStuff/Y4S1/Capstone/repo/MedWatch/model_tester/detectionmodel2.py:176: RuntimeWarning: invalid value encountered in float_scalars\n",
      "  m1 = (y2 - y1) / (x2 - x1)\n",
      "/Users/brendanlim/Documents/SchoolStuff/Y4S1/Capstone/repo/MedWatch/model_tester/detectionmodel2.py:177: RuntimeWarning: invalid value encountered in float_scalars\n",
      "  m2 = (y4 - y3) / (x4 - x3)\n"
     ]
    },
    {
     "name": "stdout",
     "output_type": "stream",
     "text": [
      "Baseline_Daniel_1.mov\n"
     ]
    },
    {
     "name": "stderr",
     "output_type": "stream",
     "text": [
      "/Users/brendanlim/Documents/SchoolStuff/Y4S1/Capstone/repo/MedWatch/model_tester/detectionmodel2.py:85: RuntimeWarning: invalid value encountered in double_scalars\n",
      "  cos_theta = center_line[1] / math.sqrt(center_line[0] ** 2 + center_line[1] ** 2)\n",
      "/Users/brendanlim/Documents/SchoolStuff/Y4S1/Capstone/repo/MedWatch/model_tester/detectionmodel2.py:176: RuntimeWarning: invalid value encountered in float_scalars\n",
      "  m1 = (y2 - y1) / (x2 - x1)\n",
      "/Users/brendanlim/Documents/SchoolStuff/Y4S1/Capstone/repo/MedWatch/model_tester/detectionmodel2.py:177: RuntimeWarning: invalid value encountered in float_scalars\n",
      "  m2 = (y4 - y3) / (x4 - x3)\n"
     ]
    }
   ],
   "source": [
    "complete_df_results = pd.DataFrame()\n",
    "backup_counter =  0\n",
    "for model in models:\n",
    "    for mode in modes:\n",
    "        print(mode)\n",
    "        print(model)\n",
    "        df_result = get_test_results(model,video_dir,fall_patterns_dir,mode=mode,save_video=save_video,display_video=display_video)\n",
    "        df_result.to_pickle(f'Data/df_result_{backup_counter}.pkl')\n",
    "        complete_df_results = pd.concat([complete_df_results,df_result]).reset_index(drop=True)\n",
    "        backup_counter+=1\n",
    "complete_df_results.to_pickle(f'Data/complete_results_df.pkl')"
   ]
  },
  {
   "cell_type": "code",
   "execution_count": 10,
   "id": "09fe084d",
   "metadata": {},
   "outputs": [
    {
     "data": {
      "text/html": [
       "<div>\n",
       "<style scoped>\n",
       "    .dataframe tbody tr th:only-of-type {\n",
       "        vertical-align: middle;\n",
       "    }\n",
       "\n",
       "    .dataframe tbody tr th {\n",
       "        vertical-align: top;\n",
       "    }\n",
       "\n",
       "    .dataframe thead th {\n",
       "        text-align: right;\n",
       "    }\n",
       "</style>\n",
       "<table border=\"1\" class=\"dataframe\">\n",
       "  <thead>\n",
       "    <tr style=\"text-align: right;\">\n",
       "      <th></th>\n",
       "      <th>Human Detection</th>\n",
       "      <th>Fall Detection</th>\n",
       "      <th>Human Detection Frame Count</th>\n",
       "      <th>Fall Detection Frame Count</th>\n",
       "      <th>Total Frame Count</th>\n",
       "      <th>Angle</th>\n",
       "      <th>Fall Type</th>\n",
       "      <th>model</th>\n",
       "    </tr>\n",
       "  </thead>\n",
       "  <tbody>\n",
       "    <tr>\n",
       "      <th>0</th>\n",
       "      <td>True</td>\n",
       "      <td>False</td>\n",
       "      <td>328</td>\n",
       "      <td>0</td>\n",
       "      <td>328</td>\n",
       "      <td>Baseline_calvin - 02</td>\n",
       "      <td>Baseline</td>\n",
       "      <td>yolov8s-pose.pt</td>\n",
       "    </tr>\n",
       "    <tr>\n",
       "      <th>1</th>\n",
       "      <td>True</td>\n",
       "      <td>True</td>\n",
       "      <td>457</td>\n",
       "      <td>179</td>\n",
       "      <td>457</td>\n",
       "      <td>Baseline_Brendan-1</td>\n",
       "      <td>Baseline</td>\n",
       "      <td>yolov8s-pose.pt</td>\n",
       "    </tr>\n",
       "    <tr>\n",
       "      <th>2</th>\n",
       "      <td>True</td>\n",
       "      <td>True</td>\n",
       "      <td>372</td>\n",
       "      <td>16</td>\n",
       "      <td>499</td>\n",
       "      <td>Baseline_Brendan-2</td>\n",
       "      <td>Baseline</td>\n",
       "      <td>yolov8s-pose.pt</td>\n",
       "    </tr>\n",
       "    <tr>\n",
       "      <th>3</th>\n",
       "      <td>True</td>\n",
       "      <td>False</td>\n",
       "      <td>344</td>\n",
       "      <td>1</td>\n",
       "      <td>344</td>\n",
       "      <td>Baseline_calvin - 1</td>\n",
       "      <td>Baseline</td>\n",
       "      <td>yolov8s-pose.pt</td>\n",
       "    </tr>\n",
       "    <tr>\n",
       "      <th>4</th>\n",
       "      <td>True</td>\n",
       "      <td>True</td>\n",
       "      <td>379</td>\n",
       "      <td>192</td>\n",
       "      <td>379</td>\n",
       "      <td>Baseline_brandon-1</td>\n",
       "      <td>Baseline</td>\n",
       "      <td>yolov8s-pose.pt</td>\n",
       "    </tr>\n",
       "    <tr>\n",
       "      <th>5</th>\n",
       "      <td>True</td>\n",
       "      <td>True</td>\n",
       "      <td>426</td>\n",
       "      <td>246</td>\n",
       "      <td>426</td>\n",
       "      <td>Baseline_brandon-2</td>\n",
       "      <td>Baseline</td>\n",
       "      <td>yolov8s-pose.pt</td>\n",
       "    </tr>\n",
       "    <tr>\n",
       "      <th>6</th>\n",
       "      <td>True</td>\n",
       "      <td>True</td>\n",
       "      <td>366</td>\n",
       "      <td>236</td>\n",
       "      <td>366</td>\n",
       "      <td>Baseline_Daniel_2</td>\n",
       "      <td>Baseline</td>\n",
       "      <td>yolov8s-pose.pt</td>\n",
       "    </tr>\n",
       "    <tr>\n",
       "      <th>7</th>\n",
       "      <td>True</td>\n",
       "      <td>True</td>\n",
       "      <td>331</td>\n",
       "      <td>185</td>\n",
       "      <td>331</td>\n",
       "      <td>Baseline_Sam_2</td>\n",
       "      <td>Baseline</td>\n",
       "      <td>yolov8s-pose.pt</td>\n",
       "    </tr>\n",
       "    <tr>\n",
       "      <th>8</th>\n",
       "      <td>True</td>\n",
       "      <td>True</td>\n",
       "      <td>354</td>\n",
       "      <td>182</td>\n",
       "      <td>354</td>\n",
       "      <td>Baseline_Daniel_1</td>\n",
       "      <td>Baseline</td>\n",
       "      <td>yolov8s-pose.pt</td>\n",
       "    </tr>\n",
       "    <tr>\n",
       "      <th>9</th>\n",
       "      <td>False</td>\n",
       "      <td>True</td>\n",
       "      <td>60</td>\n",
       "      <td>23</td>\n",
       "      <td>328</td>\n",
       "      <td>Baseline_calvin - 02</td>\n",
       "      <td>Baseline</td>\n",
       "      <td>yolov8s-pose.pt</td>\n",
       "    </tr>\n",
       "    <tr>\n",
       "      <th>10</th>\n",
       "      <td>True</td>\n",
       "      <td>False</td>\n",
       "      <td>259</td>\n",
       "      <td>4</td>\n",
       "      <td>457</td>\n",
       "      <td>Baseline_Brendan-1</td>\n",
       "      <td>Baseline</td>\n",
       "      <td>yolov8s-pose.pt</td>\n",
       "    </tr>\n",
       "    <tr>\n",
       "      <th>11</th>\n",
       "      <td>True</td>\n",
       "      <td>False</td>\n",
       "      <td>255</td>\n",
       "      <td>10</td>\n",
       "      <td>499</td>\n",
       "      <td>Baseline_Brendan-2</td>\n",
       "      <td>Baseline</td>\n",
       "      <td>yolov8s-pose.pt</td>\n",
       "    </tr>\n",
       "    <tr>\n",
       "      <th>12</th>\n",
       "      <td>True</td>\n",
       "      <td>False</td>\n",
       "      <td>299</td>\n",
       "      <td>0</td>\n",
       "      <td>344</td>\n",
       "      <td>Baseline_calvin - 1</td>\n",
       "      <td>Baseline</td>\n",
       "      <td>yolov8s-pose.pt</td>\n",
       "    </tr>\n",
       "    <tr>\n",
       "      <th>13</th>\n",
       "      <td>False</td>\n",
       "      <td>True</td>\n",
       "      <td>118</td>\n",
       "      <td>28</td>\n",
       "      <td>379</td>\n",
       "      <td>Baseline_brandon-1</td>\n",
       "      <td>Baseline</td>\n",
       "      <td>yolov8s-pose.pt</td>\n",
       "    </tr>\n",
       "    <tr>\n",
       "      <th>14</th>\n",
       "      <td>False</td>\n",
       "      <td>False</td>\n",
       "      <td>71</td>\n",
       "      <td>1</td>\n",
       "      <td>426</td>\n",
       "      <td>Baseline_brandon-2</td>\n",
       "      <td>Baseline</td>\n",
       "      <td>yolov8s-pose.pt</td>\n",
       "    </tr>\n",
       "    <tr>\n",
       "      <th>15</th>\n",
       "      <td>True</td>\n",
       "      <td>False</td>\n",
       "      <td>203</td>\n",
       "      <td>4</td>\n",
       "      <td>366</td>\n",
       "      <td>Baseline_Daniel_2</td>\n",
       "      <td>Baseline</td>\n",
       "      <td>yolov8s-pose.pt</td>\n",
       "    </tr>\n",
       "    <tr>\n",
       "      <th>16</th>\n",
       "      <td>False</td>\n",
       "      <td>False</td>\n",
       "      <td>29</td>\n",
       "      <td>0</td>\n",
       "      <td>331</td>\n",
       "      <td>Baseline_Sam_2</td>\n",
       "      <td>Baseline</td>\n",
       "      <td>yolov8s-pose.pt</td>\n",
       "    </tr>\n",
       "    <tr>\n",
       "      <th>17</th>\n",
       "      <td>True</td>\n",
       "      <td>False</td>\n",
       "      <td>145</td>\n",
       "      <td>0</td>\n",
       "      <td>354</td>\n",
       "      <td>Baseline_Daniel_1</td>\n",
       "      <td>Baseline</td>\n",
       "      <td>yolov8s-pose.pt</td>\n",
       "    </tr>\n",
       "    <tr>\n",
       "      <th>18</th>\n",
       "      <td>True</td>\n",
       "      <td>False</td>\n",
       "      <td>328</td>\n",
       "      <td>2</td>\n",
       "      <td>328</td>\n",
       "      <td>Baseline_calvin - 02</td>\n",
       "      <td>Baseline</td>\n",
       "      <td>yolov8s-pose.pt</td>\n",
       "    </tr>\n",
       "    <tr>\n",
       "      <th>19</th>\n",
       "      <td>True</td>\n",
       "      <td>True</td>\n",
       "      <td>456</td>\n",
       "      <td>118</td>\n",
       "      <td>457</td>\n",
       "      <td>Baseline_Brendan-1</td>\n",
       "      <td>Baseline</td>\n",
       "      <td>yolov8s-pose.pt</td>\n",
       "    </tr>\n",
       "    <tr>\n",
       "      <th>20</th>\n",
       "      <td>True</td>\n",
       "      <td>True</td>\n",
       "      <td>373</td>\n",
       "      <td>25</td>\n",
       "      <td>499</td>\n",
       "      <td>Baseline_Brendan-2</td>\n",
       "      <td>Baseline</td>\n",
       "      <td>yolov8s-pose.pt</td>\n",
       "    </tr>\n",
       "    <tr>\n",
       "      <th>21</th>\n",
       "      <td>True</td>\n",
       "      <td>False</td>\n",
       "      <td>344</td>\n",
       "      <td>0</td>\n",
       "      <td>344</td>\n",
       "      <td>Baseline_calvin - 1</td>\n",
       "      <td>Baseline</td>\n",
       "      <td>yolov8s-pose.pt</td>\n",
       "    </tr>\n",
       "    <tr>\n",
       "      <th>22</th>\n",
       "      <td>True</td>\n",
       "      <td>False</td>\n",
       "      <td>379</td>\n",
       "      <td>10</td>\n",
       "      <td>379</td>\n",
       "      <td>Baseline_brandon-1</td>\n",
       "      <td>Baseline</td>\n",
       "      <td>yolov8s-pose.pt</td>\n",
       "    </tr>\n",
       "    <tr>\n",
       "      <th>23</th>\n",
       "      <td>True</td>\n",
       "      <td>True</td>\n",
       "      <td>426</td>\n",
       "      <td>247</td>\n",
       "      <td>426</td>\n",
       "      <td>Baseline_brandon-2</td>\n",
       "      <td>Baseline</td>\n",
       "      <td>yolov8s-pose.pt</td>\n",
       "    </tr>\n",
       "    <tr>\n",
       "      <th>24</th>\n",
       "      <td>True</td>\n",
       "      <td>True</td>\n",
       "      <td>366</td>\n",
       "      <td>243</td>\n",
       "      <td>366</td>\n",
       "      <td>Baseline_Daniel_2</td>\n",
       "      <td>Baseline</td>\n",
       "      <td>yolov8s-pose.pt</td>\n",
       "    </tr>\n",
       "    <tr>\n",
       "      <th>25</th>\n",
       "      <td>True</td>\n",
       "      <td>True</td>\n",
       "      <td>331</td>\n",
       "      <td>114</td>\n",
       "      <td>331</td>\n",
       "      <td>Baseline_Sam_2</td>\n",
       "      <td>Baseline</td>\n",
       "      <td>yolov8s-pose.pt</td>\n",
       "    </tr>\n",
       "    <tr>\n",
       "      <th>26</th>\n",
       "      <td>True</td>\n",
       "      <td>True</td>\n",
       "      <td>354</td>\n",
       "      <td>293</td>\n",
       "      <td>354</td>\n",
       "      <td>Baseline_Daniel_1</td>\n",
       "      <td>Baseline</td>\n",
       "      <td>yolov8s-pose.pt</td>\n",
       "    </tr>\n",
       "    <tr>\n",
       "      <th>27</th>\n",
       "      <td>True</td>\n",
       "      <td>True</td>\n",
       "      <td>175</td>\n",
       "      <td>22</td>\n",
       "      <td>328</td>\n",
       "      <td>Baseline_calvin - 02</td>\n",
       "      <td>Baseline</td>\n",
       "      <td>yolov8s-pose.pt</td>\n",
       "    </tr>\n",
       "    <tr>\n",
       "      <th>28</th>\n",
       "      <td>True</td>\n",
       "      <td>True</td>\n",
       "      <td>177</td>\n",
       "      <td>174</td>\n",
       "      <td>457</td>\n",
       "      <td>Baseline_Brendan-1</td>\n",
       "      <td>Baseline</td>\n",
       "      <td>yolov8s-pose.pt</td>\n",
       "    </tr>\n",
       "    <tr>\n",
       "      <th>29</th>\n",
       "      <td>False</td>\n",
       "      <td>False</td>\n",
       "      <td>123</td>\n",
       "      <td>8</td>\n",
       "      <td>499</td>\n",
       "      <td>Baseline_Brendan-2</td>\n",
       "      <td>Baseline</td>\n",
       "      <td>yolov8s-pose.pt</td>\n",
       "    </tr>\n",
       "    <tr>\n",
       "      <th>30</th>\n",
       "      <td>True</td>\n",
       "      <td>True</td>\n",
       "      <td>255</td>\n",
       "      <td>140</td>\n",
       "      <td>344</td>\n",
       "      <td>Baseline_calvin - 1</td>\n",
       "      <td>Baseline</td>\n",
       "      <td>yolov8s-pose.pt</td>\n",
       "    </tr>\n",
       "    <tr>\n",
       "      <th>31</th>\n",
       "      <td>True</td>\n",
       "      <td>True</td>\n",
       "      <td>245</td>\n",
       "      <td>77</td>\n",
       "      <td>379</td>\n",
       "      <td>Baseline_brandon-1</td>\n",
       "      <td>Baseline</td>\n",
       "      <td>yolov8s-pose.pt</td>\n",
       "    </tr>\n",
       "    <tr>\n",
       "      <th>32</th>\n",
       "      <td>True</td>\n",
       "      <td>True</td>\n",
       "      <td>252</td>\n",
       "      <td>129</td>\n",
       "      <td>426</td>\n",
       "      <td>Baseline_brandon-2</td>\n",
       "      <td>Baseline</td>\n",
       "      <td>yolov8s-pose.pt</td>\n",
       "    </tr>\n",
       "    <tr>\n",
       "      <th>33</th>\n",
       "      <td>False</td>\n",
       "      <td>True</td>\n",
       "      <td>120</td>\n",
       "      <td>31</td>\n",
       "      <td>366</td>\n",
       "      <td>Baseline_Daniel_2</td>\n",
       "      <td>Baseline</td>\n",
       "      <td>yolov8s-pose.pt</td>\n",
       "    </tr>\n",
       "    <tr>\n",
       "      <th>34</th>\n",
       "      <td>True</td>\n",
       "      <td>True</td>\n",
       "      <td>247</td>\n",
       "      <td>183</td>\n",
       "      <td>331</td>\n",
       "      <td>Baseline_Sam_2</td>\n",
       "      <td>Baseline</td>\n",
       "      <td>yolov8s-pose.pt</td>\n",
       "    </tr>\n",
       "    <tr>\n",
       "      <th>35</th>\n",
       "      <td>True</td>\n",
       "      <td>True</td>\n",
       "      <td>261</td>\n",
       "      <td>52</td>\n",
       "      <td>354</td>\n",
       "      <td>Baseline_Daniel_1</td>\n",
       "      <td>Baseline</td>\n",
       "      <td>yolov8s-pose.pt</td>\n",
       "    </tr>\n",
       "  </tbody>\n",
       "</table>\n",
       "</div>"
      ],
      "text/plain": [
       "    Human Detection  Fall Detection  Human Detection Frame Count  \\\n",
       "0              True           False                          328   \n",
       "1              True            True                          457   \n",
       "2              True            True                          372   \n",
       "3              True           False                          344   \n",
       "4              True            True                          379   \n",
       "5              True            True                          426   \n",
       "6              True            True                          366   \n",
       "7              True            True                          331   \n",
       "8              True            True                          354   \n",
       "9             False            True                           60   \n",
       "10             True           False                          259   \n",
       "11             True           False                          255   \n",
       "12             True           False                          299   \n",
       "13            False            True                          118   \n",
       "14            False           False                           71   \n",
       "15             True           False                          203   \n",
       "16            False           False                           29   \n",
       "17             True           False                          145   \n",
       "18             True           False                          328   \n",
       "19             True            True                          456   \n",
       "20             True            True                          373   \n",
       "21             True           False                          344   \n",
       "22             True           False                          379   \n",
       "23             True            True                          426   \n",
       "24             True            True                          366   \n",
       "25             True            True                          331   \n",
       "26             True            True                          354   \n",
       "27             True            True                          175   \n",
       "28             True            True                          177   \n",
       "29            False           False                          123   \n",
       "30             True            True                          255   \n",
       "31             True            True                          245   \n",
       "32             True            True                          252   \n",
       "33            False            True                          120   \n",
       "34             True            True                          247   \n",
       "35             True            True                          261   \n",
       "\n",
       "    Fall Detection Frame Count  Total Frame Count                 Angle  \\\n",
       "0                            0                328  Baseline_calvin - 02   \n",
       "1                          179                457    Baseline_Brendan-1   \n",
       "2                           16                499    Baseline_Brendan-2   \n",
       "3                            1                344   Baseline_calvin - 1   \n",
       "4                          192                379    Baseline_brandon-1   \n",
       "5                          246                426    Baseline_brandon-2   \n",
       "6                          236                366     Baseline_Daniel_2   \n",
       "7                          185                331        Baseline_Sam_2   \n",
       "8                          182                354     Baseline_Daniel_1   \n",
       "9                           23                328  Baseline_calvin - 02   \n",
       "10                           4                457    Baseline_Brendan-1   \n",
       "11                          10                499    Baseline_Brendan-2   \n",
       "12                           0                344   Baseline_calvin - 1   \n",
       "13                          28                379    Baseline_brandon-1   \n",
       "14                           1                426    Baseline_brandon-2   \n",
       "15                           4                366     Baseline_Daniel_2   \n",
       "16                           0                331        Baseline_Sam_2   \n",
       "17                           0                354     Baseline_Daniel_1   \n",
       "18                           2                328  Baseline_calvin - 02   \n",
       "19                         118                457    Baseline_Brendan-1   \n",
       "20                          25                499    Baseline_Brendan-2   \n",
       "21                           0                344   Baseline_calvin - 1   \n",
       "22                          10                379    Baseline_brandon-1   \n",
       "23                         247                426    Baseline_brandon-2   \n",
       "24                         243                366     Baseline_Daniel_2   \n",
       "25                         114                331        Baseline_Sam_2   \n",
       "26                         293                354     Baseline_Daniel_1   \n",
       "27                          22                328  Baseline_calvin - 02   \n",
       "28                         174                457    Baseline_Brendan-1   \n",
       "29                           8                499    Baseline_Brendan-2   \n",
       "30                         140                344   Baseline_calvin - 1   \n",
       "31                          77                379    Baseline_brandon-1   \n",
       "32                         129                426    Baseline_brandon-2   \n",
       "33                          31                366     Baseline_Daniel_2   \n",
       "34                         183                331        Baseline_Sam_2   \n",
       "35                          52                354     Baseline_Daniel_1   \n",
       "\n",
       "   Fall Type            model  \n",
       "0   Baseline  yolov8s-pose.pt  \n",
       "1   Baseline  yolov8s-pose.pt  \n",
       "2   Baseline  yolov8s-pose.pt  \n",
       "3   Baseline  yolov8s-pose.pt  \n",
       "4   Baseline  yolov8s-pose.pt  \n",
       "5   Baseline  yolov8s-pose.pt  \n",
       "6   Baseline  yolov8s-pose.pt  \n",
       "7   Baseline  yolov8s-pose.pt  \n",
       "8   Baseline  yolov8s-pose.pt  \n",
       "9   Baseline  yolov8s-pose.pt  \n",
       "10  Baseline  yolov8s-pose.pt  \n",
       "11  Baseline  yolov8s-pose.pt  \n",
       "12  Baseline  yolov8s-pose.pt  \n",
       "13  Baseline  yolov8s-pose.pt  \n",
       "14  Baseline  yolov8s-pose.pt  \n",
       "15  Baseline  yolov8s-pose.pt  \n",
       "16  Baseline  yolov8s-pose.pt  \n",
       "17  Baseline  yolov8s-pose.pt  \n",
       "18  Baseline  yolov8s-pose.pt  \n",
       "19  Baseline  yolov8s-pose.pt  \n",
       "20  Baseline  yolov8s-pose.pt  \n",
       "21  Baseline  yolov8s-pose.pt  \n",
       "22  Baseline  yolov8s-pose.pt  \n",
       "23  Baseline  yolov8s-pose.pt  \n",
       "24  Baseline  yolov8s-pose.pt  \n",
       "25  Baseline  yolov8s-pose.pt  \n",
       "26  Baseline  yolov8s-pose.pt  \n",
       "27  Baseline  yolov8s-pose.pt  \n",
       "28  Baseline  yolov8s-pose.pt  \n",
       "29  Baseline  yolov8s-pose.pt  \n",
       "30  Baseline  yolov8s-pose.pt  \n",
       "31  Baseline  yolov8s-pose.pt  \n",
       "32  Baseline  yolov8s-pose.pt  \n",
       "33  Baseline  yolov8s-pose.pt  \n",
       "34  Baseline  yolov8s-pose.pt  \n",
       "35  Baseline  yolov8s-pose.pt  "
      ]
     },
     "execution_count": 10,
     "metadata": {},
     "output_type": "execute_result"
    }
   ],
   "source": [
    "complete_df_results"
   ]
  },
  {
   "cell_type": "code",
   "execution_count": null,
   "id": "aa905f5b",
   "metadata": {},
   "outputs": [],
   "source": []
  }
 ],
 "metadata": {
  "kernelspec": {
   "display_name": "Python 3 (ipykernel)",
   "language": "python",
   "name": "python3"
  },
  "language_info": {
   "codemirror_mode": {
    "name": "ipython",
    "version": 3
   },
   "file_extension": ".py",
   "mimetype": "text/x-python",
   "name": "python",
   "nbconvert_exporter": "python",
   "pygments_lexer": "ipython3",
   "version": "3.8.5"
  }
 },
 "nbformat": 4,
 "nbformat_minor": 5
}
